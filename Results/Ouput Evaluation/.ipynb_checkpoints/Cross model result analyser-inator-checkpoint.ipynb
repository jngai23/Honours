{
 "cells": [
  {
   "cell_type": "code",
   "execution_count": null,
   "id": "eed44399",
   "metadata": {},
   "outputs": [],
   "source": [
    "#6/9/24 to evaluate model results in a cross-dataset context\n",
    "#Goals:\n",
    "    #Determine whether toxicity in one endpoint correlates to another\n",
    "    "
   ]
  }
 ],
 "metadata": {
  "kernelspec": {
   "display_name": "Python 3 (ipykernel)",
   "language": "python",
   "name": "python3"
  },
  "language_info": {
   "codemirror_mode": {
    "name": "ipython",
    "version": 3
   },
   "file_extension": ".py",
   "mimetype": "text/x-python",
   "name": "python",
   "nbconvert_exporter": "python",
   "pygments_lexer": "ipython3",
   "version": "3.11.0"
  }
 },
 "nbformat": 4,
 "nbformat_minor": 5
}
