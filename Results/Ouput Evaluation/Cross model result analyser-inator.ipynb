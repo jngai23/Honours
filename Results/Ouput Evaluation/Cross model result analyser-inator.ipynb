{
 "cells": [
  {
   "cell_type": "code",
   "execution_count": 1,
   "id": "3665c65a",
   "metadata": {},
   "outputs": [],
   "source": [
    "#6/9/24 to evaluate model results in a cross-dataset context\n",
    "#Goals:\n",
    "    #Determine whether toxicity in one endpoint correlates to another\n",
    "    \n",
    "import pandas as pd\n",
    "import numpy  as np\n",
    "\n",
    "#Read NN results\n",
    "#this is in a text file as the model creator cannot keep variables to maintain memory limits\n",
    "\n",
    "with open('/Users/james/Documents/Honours/Results/Figure_Development/Chemopy/resultsdata/ChemopyNN_out.txt', 'r') as file:\n",
    "    text = file.read()\n",
    "    \n",
    "import re\n",
    "\n",
    "pattern = re.compile(r'\\bmcc = .+$', re.MULTILINE)\n",
    "lines = pattern.findall(text)\n",
    "\n",
    "# Print or process the matching lines\n",
    "results = []\n",
    "for line in lines:\n",
    "    results.append(float(line[6:]))\n",
    "    \n",
    "import os\n",
    "datasets = []\n",
    "index = []\n",
    "directory = '/Users/james/Documents/Honours/Results/Figure_Development/Chemopy/resultsdata/'\n",
    "namelist = []\n",
    "for file in os.listdir(directory):\n",
    "    filename = os.fsdecode(file)\n",
    "    if 'csv' in filename:\n",
    "        pathname = directory + file\n",
    "        df = pd.read_csv(pathname)\n",
    "        datasets.append(df)\n",
    "        namelist.append(filename)\n",
    "    \n",
    "index = ['SVM', 'RF', 'KNN', 'NN']\n",
    "mcclist = []\n",
    "for data in datasets:\n",
    "    mcclist.append(data['MCC'].values.tolist())\n",
    "mcclist.append(results)\n",
    "\n"
   ]
  },
  {
   "cell_type": "code",
   "execution_count": null,
   "id": "fe95be26",
   "metadata": {},
   "outputs": [],
   "source": []
  }
 ],
 "metadata": {
  "kernelspec": {
   "display_name": "Python 3 (ipykernel)",
   "language": "python",
   "name": "python3"
  },
  "language_info": {
   "codemirror_mode": {
    "name": "ipython",
    "version": 3
   },
   "file_extension": ".py",
   "mimetype": "text/x-python",
   "name": "python",
   "nbconvert_exporter": "python",
   "pygments_lexer": "ipython3",
   "version": "3.11.0"
  }
 },
 "nbformat": 4,
 "nbformat_minor": 5
}
