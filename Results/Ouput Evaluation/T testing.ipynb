{
 "cells": [
  {
   "cell_type": "code",
   "execution_count": 2,
   "id": "2c868a64",
   "metadata": {},
   "outputs": [
    {
     "name": "stdout",
     "output_type": "stream",
     "text": [
      "['SVM_Fingerprint_Results.csv', 'RF_Fingerprint_Results.csv', 'KNN_Fingerprint_Results.csv']\n",
      "['chemopy_svm.csv', 'chemopy_rf.csv', 'chemopy_knn.csv']\n",
      "['padel_rf.csv', 'padel_svm.csv', 'padel_knn.csv']\n",
      "['drugbank_svm.csv', 'drugbank_rf.csv', 'drugbank_knn.csv']\n"
     ]
    }
   ],
   "source": [
    "#17/9/24 Creating T-tests for model outputs\n",
    "\n",
    "import numpy as np\n",
    "import pandas as pd\n",
    "import re\n",
    "import os\n",
    "#Data import\n",
    "\n",
    "with open('/Users/james/Documents/Honours/Results/Figure_Development/Fingerprints/modeloutputs/FPNNResults.txt', 'r') as file:\n",
    "    text = file.read()\n",
    "    \n",
    "import re\n",
    "\n",
    "pattern = re.compile(r'\\bmcc = .+$', re.MULTILINE)\n",
    "lines = pattern.findall(text)\n",
    "\n",
    "# Print or process the matching lines\n",
    "results = []\n",
    "for line in lines:\n",
    "    results.append(float(line[6:]))\n",
    "    \n",
    "import os\n",
    "datasets = []\n",
    "index = []\n",
    "directory = '/Users/james/Documents/Honours/Results/Model_Outputs/'\n",
    "namelist = []\n",
    "for file in os.listdir(directory):\n",
    "    filename = os.fsdecode(file)\n",
    "    if 'csv' in filename:\n",
    "        pathname = directory + file\n",
    "        df = pd.read_csv(pathname)\n",
    "        datasets.append(df)\n",
    "        namelist.append(filename)\n",
    "    \n",
    "fpdata = datasets[0]['Dataset'].values\n",
    "temp = []\n",
    "for item in fpdata:\n",
    "    temp.append(item[:-4])\n",
    "fpdata = temp\n",
    "        \n",
    "fpvals = []\n",
    "for data in datasets:\n",
    "    fpvals.append(data['MCC'].values.tolist())\n",
    "fpvals.append(results)\n",
    "print(namelist)\n",
    "    \n",
    "    \n",
    "with open('/Users/james/Documents/Honours/Results/Figure_Development/Chemopy/resultsdata/ChemopyNN_out.txt', 'r') as file:\n",
    "    text = file.read()\n",
    "\n",
    "pattern = re.compile(r'\\bmcc = .+$', re.MULTILINE)\n",
    "lines = pattern.findall(text)\n",
    "\n",
    "# Print or process the matching lines\n",
    "results = []\n",
    "for line in lines:\n",
    "    results.append(float(line[6:]))\n",
    "    \n",
    "datasets = []\n",
    "index = []\n",
    "directory = '/Users/james/Documents/Honours/Results/Figure_Development/Chemopy/resultsdata/'\n",
    "namelist = []\n",
    "for file in os.listdir(directory):\n",
    "    filename = os.fsdecode(file)\n",
    "    if 'csv' in filename:\n",
    "        pathname = directory + file\n",
    "        df = pd.read_csv(pathname)\n",
    "        datasets.append(df)\n",
    "        namelist.append(filename)\n",
    "\n",
    "chemopydata = datasets[0]['Dataset'].values\n",
    "temp = []\n",
    "for item in chemopydata:\n",
    "    temp.append(item[:-4])\n",
    "chemopydata = temp\n",
    "        \n",
    "chemopyvals = []\n",
    "for data in datasets:\n",
    "    chemopyvals.append(data['MCC'].values.tolist())\n",
    "chemopyvals.append(results)\n",
    "print(namelist)\n",
    "#Read NN results\n",
    "#this is in a text file as the model creator cannot keep variables to maintain memory limits\n",
    "\n",
    "with open('/Users/james/Documents/Honours/Results/Figure_Development/PaDEL/data/padelNNout.txt', 'r') as file:\n",
    "    text = file.read()\n",
    "    \n",
    "\n",
    "pattern = re.compile(r'\\bmcc = .+$', re.MULTILINE)\n",
    "lines = pattern.findall(text)\n",
    "\n",
    "# Print or process the matching lines\n",
    "results = []\n",
    "for line in lines:\n",
    "    results.append(float(line[6:]))\n",
    "    \n",
    "datasets = []\n",
    "index = []\n",
    "directory = '/Users/james/Documents/Honours/Results/Figure_Development/PaDEL/data/'\n",
    "namelist = []\n",
    "for file in os.listdir(directory):\n",
    "    filename = os.fsdecode(file)\n",
    "    if 'csv' in filename:\n",
    "        pathname = directory + file\n",
    "        df = pd.read_csv(pathname)\n",
    "        datasets.append(df)\n",
    "        namelist.append(filename)\n",
    "\n",
    "padeldata = datasets[0]['Dataset'].values\n",
    "temp = []\n",
    "for item in padeldata:\n",
    "    temp.append(item[:-4])\n",
    "padeldata = temp\n",
    "        \n",
    "temp = datasets[0]\n",
    "datasets[0] = datasets[1]\n",
    "datasets[1] = temp        \n",
    "\n",
    "padelvals = []\n",
    "for data in datasets:\n",
    "    padelvals.append(data['MCC'].values.tolist())\n",
    "padelvals.append(results)\n",
    "print(namelist)\n",
    "#Read NN results\n",
    "#this is in a text file as the model creator cannot keep variables to maintain memory limits\n",
    "\n",
    "with open('/Users/james/Documents/Honours/Results/Figure_Development/DrugBank Targets/modelout/drugbankNNout.txt', 'r') as file:\n",
    "    text = file.read()\n",
    "    \n",
    "import re\n",
    "\n",
    "pattern = re.compile(r'\\bmcc = .+$', re.MULTILINE)\n",
    "lines = pattern.findall(text)\n",
    "\n",
    "# Print or process the matching lines\n",
    "results = []\n",
    "for line in lines:\n",
    "    results.append(float(line[6:]))\n",
    "    \n",
    "import os\n",
    "datasets = []\n",
    "index = []\n",
    "directory = '/Users/james/Documents/Honours/Results/Figure_Development/DrugBank Targets/modelout/'\n",
    "namelist = []\n",
    "for file in os.listdir(directory):\n",
    "    filename = os.fsdecode(file)\n",
    "    if 'csv' in filename:\n",
    "        pathname = directory + file\n",
    "        df = pd.read_csv(pathname)\n",
    "        datasets.append(df)\n",
    "        namelist.append(filename)\n",
    "\n",
    "targetdata = datasets[0]['Dataset'].values\n",
    "temp = []\n",
    "for item in targetdata:\n",
    "    temp.append(item[:-4])\n",
    "targetdata = temp        \n",
    "\n",
    "temp = datasets[1]\n",
    "datasets[1] = datasets[0]\n",
    "datasets[0] = temp\n",
    "\n",
    "temp = namelist[1]\n",
    "namelist[1] = namelist[0]\n",
    "namelist[0] = temp\n",
    "\n",
    "targetvals = []\n",
    "for data in datasets:\n",
    "    targetvals.append(data['MCC'].values.tolist())\n",
    "targetvals.append(results)\n",
    "print(namelist)"
   ]
  },
  {
   "cell_type": "code",
   "execution_count": 3,
   "id": "9675ee96",
   "metadata": {},
   "outputs": [],
   "source": [
    "index = ['SVM', 'RF', 'KNN', 'NN']\n",
    "nameindex = [fpdata, chemopydata, padeldata, targetdata]\n",
    "dataindex = [fpvals, chemopyvals, padelvals, targetvals]"
   ]
  },
  {
   "cell_type": "code",
   "execution_count": 69,
   "id": "fa88e51d",
   "metadata": {},
   "outputs": [],
   "source": [
    "modelvals = [[], [], [], []]\n",
    "loops = 0\n",
    "for model in dataindex:\n",
    "    temp = []\n",
    "    for svm in model[0]:\n",
    "        modelvals[0].append(svm)\n",
    "    for rf in model[1]:\n",
    "        modelvals[1].append(rf)\n",
    "    for knn in model[2]:\n",
    "        modelvals[2].append(knn)\n",
    "    for nn in model[3]:\n",
    "        modelvals[3].append(nn)\n",
    "    loops += 1"
   ]
  },
  {
   "cell_type": "code",
   "execution_count": 63,
   "id": "bc7d5320",
   "metadata": {},
   "outputs": [
    {
     "data": {
      "text/plain": [
       "1"
      ]
     },
     "execution_count": 63,
     "metadata": {},
     "output_type": "execute_result"
    }
   ],
   "source": [
    "targetvals = [[], [], [], []]\n",
    "for model in data:"
   ]
  },
  {
   "cell_type": "code",
   "execution_count": null,
   "id": "047c6b34",
   "metadata": {},
   "outputs": [],
   "source": [
    "#Null hypo: There is no difference between the means of our feature reps\n",
    "#Alt hypo: there is significant difference between the means\n",
    "#significance level: 0.05"
   ]
  },
  {
   "cell_type": "code",
   "execution_count": 14,
   "id": "239dbd19",
   "metadata": {
    "scrolled": true
   },
   "outputs": [
    {
     "name": "stdout",
     "output_type": "stream",
     "text": [
      "0.019643714577777627\n",
      "0.03364693728075256\n",
      "0.05192654433172806\n",
      "0.037474679850634296\n"
     ]
    }
   ],
   "source": [
    "from scipy.stats import shapiro\n",
    "for rep in dataindex:\n",
    "    temp = []\n",
    "    for model in rep:\n",
    "        for data in model:\n",
    "            temp.append(data)\n",
    "    print(np.var(temp))\n"
   ]
  },
  {
   "cell_type": "code",
   "execution_count": 26,
   "id": "002c2009",
   "metadata": {},
   "outputs": [],
   "source": [
    "wholerepdata = [[], [] ,[] ,[]]\n",
    "loops = 0\n",
    "for item in dataindex:\n",
    "    for set in item:\n",
    "        for val in set:\n",
    "            wholerepdata[loops].append(val)\n",
    "    loops += 1"
   ]
  },
  {
   "cell_type": "code",
   "execution_count": 99,
   "id": "1a206c25",
   "metadata": {},
   "outputs": [
    {
     "name": "stdout",
     "output_type": "stream",
     "text": [
      "ANOVA F-statistic: 77.91360226093053\n",
      "ANOVA p-value: 5.079347359999869e-36\n",
      "At least one group mean is significantly different (reject H0).\n"
     ]
    }
   ],
   "source": [
    "import numpy as np\n",
    "import pandas as pd\n",
    "import scipy.stats as stats\n",
    "\n",
    "# Perform One-Way ANOVA\n",
    "f_stat, p_value = stats.f_oneway(wholerepdata[0], wholerepdata[1], wholerepdata[2], [3])\n",
    "print('ANOVA F-statistic:', f_stat)\n",
    "print('ANOVA p-value:', p_value)\n",
    "\n",
    "# Interpret the p-value\n",
    "if p_value < 0.05:\n",
    "    print(\"At least one group mean is significantly different (reject H0).\")\n",
    "else:\n",
    "    print(\"No significant difference among group means (fail to reject H0).\")\n"
   ]
  },
  {
   "cell_type": "code",
   "execution_count": 95,
   "id": "11349ce1",
   "metadata": {
    "scrolled": true
   },
   "outputs": [
    {
     "name": "stdout",
     "output_type": "stream",
     "text": [
      "T-statistic: 0.9613531943823388\n",
      "P-value: 0.3378073171260426\n",
      "TtestResult(statistic=0.9727991351479977, pvalue=0.3321037351866585, df=161.96545127494497)\n"
     ]
    }
   ],
   "source": [
    "import numpy as np\n",
    "from scipy import stats\n",
    "\n",
    "# Example data for two independent samples\n",
    "data1 = np.array(wholerepdata[2])\n",
    "data2 = np.array(wholerepdata[3])\n",
    "\n",
    "# Perform two-sample t-test\n",
    "t_statistic, p_value = stats.ttest_ind(data1, data2)\n",
    "\n",
    "print(f\"T-statistic: {t_statistic}\")\n",
    "print(f\"P-value: {p_value}\")\n",
    "import scipy.stats as stats \n",
    "import numpy as np \n",
    "\n",
    "print(stats.ttest_ind(data1, data2, equal_var = False)) "
   ]
  },
  {
   "cell_type": "code",
   "execution_count": null,
   "id": "661f856c",
   "metadata": {},
   "outputs": [],
   "source": [
    "#Null hypo: There is no difference between the means of our model types\n",
    "#Alt hypo: there is significant difference between the means\n",
    "#significance level: 0.05"
   ]
  },
  {
   "cell_type": "code",
   "execution_count": 8,
   "id": "6e241783",
   "metadata": {},
   "outputs": [],
   "source": [
    "modelindex = [[], [], [], []]\n",
    "for rep in dataindex:\n",
    "    modelindex[0].append(rep[0])\n",
    "    modelindex[1].append(rep[1])\n",
    "    modelindex[2].append(rep[2])\n",
    "    modelindex[3].append(rep[3])"
   ]
  },
  {
   "cell_type": "code",
   "execution_count": null,
   "id": "d17b237e",
   "metadata": {},
   "outputs": [],
   "source": [
    "datavals = [[], [], [], []]\n",
    "for rep in dataindex:\n",
    "    modelindex[0].append(rep[0])\n",
    "    modelindex[1].append(rep[1])\n",
    "    modelindex[2].append(rep[2])\n",
    "    modelindex[3].append(rep[3])"
   ]
  },
  {
   "cell_type": "code",
   "execution_count": 41,
   "id": "9a2cb555",
   "metadata": {},
   "outputs": [],
   "source": [
    "modeldata = [[], [], [], []]\n",
    "for model in modelindex:\n",
    "    temp = []\n",
    "    loops = 0\n",
    "    for list in model:\n",
    "        for val in list:\n",
    "            modeldata[loops].append(val)\n",
    "        loops += 1"
   ]
  },
  {
   "cell_type": "code",
   "execution_count": 103,
   "id": "8eb2aed5",
   "metadata": {},
   "outputs": [
    {
     "data": {
      "text/plain": [
       "0.42680456862300675"
      ]
     },
     "execution_count": 103,
     "metadata": {},
     "output_type": "execute_result"
    }
   ],
   "source": [
    "sum(wholerepdata[0]) / len(wholerepdata[0])"
   ]
  },
  {
   "cell_type": "code",
   "execution_count": 10,
   "id": "e61c93c8",
   "metadata": {},
   "outputs": [
    {
     "name": "stdout",
     "output_type": "stream",
     "text": [
      "0.044765731322807714\n",
      "0.04532540422408173\n",
      "0.03328561524994641\n",
      "0.033359666707311754\n"
     ]
    }
   ],
   "source": [
    "for rep in modelindex:\n",
    "    temp = []\n",
    "    for model in rep:\n",
    "        for data in model:\n",
    "            temp.append(data)\n",
    "    print(np.var(temp))"
   ]
  }
 ],
 "metadata": {
  "kernelspec": {
   "display_name": "Python 3 (ipykernel)",
   "language": "python",
   "name": "python3"
  },
  "language_info": {
   "codemirror_mode": {
    "name": "ipython",
    "version": 3
   },
   "file_extension": ".py",
   "mimetype": "text/x-python",
   "name": "python",
   "nbconvert_exporter": "python",
   "pygments_lexer": "ipython3",
   "version": "3.11.0"
  }
 },
 "nbformat": 4,
 "nbformat_minor": 5
}
