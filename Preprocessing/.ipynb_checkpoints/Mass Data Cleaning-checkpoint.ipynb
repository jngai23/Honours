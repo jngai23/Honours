{
 "cells": [
  {
   "cell_type": "code",
   "execution_count": 3,
   "id": "5169c748",
   "metadata": {},
   "outputs": [],
   "source": [
    "#30/6/24 This file when input a folder, extracts all csv files assuming they are from toxric and cleans them\n",
    "#Retains only SMILES and Toxicity Values\n",
    "\n",
    "import os\n",
    "import pandas as pd\n",
    "import numpy as np\n",
    "\n",
    "directory = os.fsencode('/Users/james/Documents/Honours/Data/Raws/')\n",
    "dataframes = []\n",
    "filenames = []\n",
    "for file in os.listdir(directory):\n",
    "    filename = os.fsdecode(file)    \n",
    "    if 'csv' in filename:\n",
    "        filenames.append(filename)\n",
    "        pathname = '/Users/james/Documents/Honours/Data/Raws/' + filename\n",
    "        newdata = pd.read_csv(pathname)\n",
    "        dataframes.append(newdata)\n",
    "\n",
    "loops = 0\n",
    "newframes = []\n",
    "for dataframe in dataframes:    \n",
    "    smiles = dataframe['Canonical SMILES']\n",
    "    toxvals = dataframe['Toxicity Value']\n",
    "\n",
    "    newframe = pd.concat([smiles, toxvals], axis=1)\n",
    "    newframe.rename(columns={'Canonical SMILES': 'SMILES', 'Toxicity Value': 'Toxicity_Value'}, inplace=True)\n",
    "    newframes.append(newframe)\n",
    "    path = '/Users/james/Documents/Honours/Data/Raws/ProcessedRaws/'\n",
    "    file = filenames[loops].split('_', 1)[1]\n",
    "    pathname = path + file\n",
    "    newframe.to_csv(pathname, index=False)\n",
    "    loops = loops + 1\n",
    "    \n",
    "#After being converted and placed into the adequate folder, the files had their names manually cleaned"
   ]
  }
 ],
 "metadata": {
  "kernelspec": {
   "display_name": "Python 3 (ipykernel)",
   "language": "python",
   "name": "python3"
  },
  "language_info": {
   "codemirror_mode": {
    "name": "ipython",
    "version": 3
   },
   "file_extension": ".py",
   "mimetype": "text/x-python",
   "name": "python",
   "nbconvert_exporter": "python",
   "pygments_lexer": "ipython3",
   "version": "3.11.0"
  }
 },
 "nbformat": 4,
 "nbformat_minor": 5
}
