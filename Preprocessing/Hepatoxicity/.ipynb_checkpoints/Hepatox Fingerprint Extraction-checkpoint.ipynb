{
 "cells": [
  {
   "cell_type": "code",
   "execution_count": 4,
   "id": "fbc1d289",
   "metadata": {},
   "outputs": [],
   "source": [
    "#29/7/24 For Morgan Fingerprinting, this time for mutagen data, mostly a recycle of the one in the endocrine section\n",
    "#For the creation of Morgan Fingerprints\n",
    "import pandas as pd\n",
    "import numpy as np\n",
    "#Data import\n",
    "dataset = pd.read_csv('/Users/james/Documents/Honours/Data/Hepatoxicity/Rawdata/Hepatox_data.csv')\n",
    "smiles = dataset['SMILES'].tolist()\n",
    "toxvals = dataset['Toxicity_Value'].tolist()\n",
    "dflist =  list(zip(smiles, toxvals))\n",
    "df = pd.DataFrame(dflist, columns = ['SMILES', 'Toxicity_Value'])"
   ]
  },
  {
   "cell_type": "code",
   "execution_count": 11,
   "id": "f3b1bd78",
   "metadata": {},
   "outputs": [
    {
     "data": {
      "text/plain": [
       "2889"
      ]
     },
     "execution_count": 11,
     "metadata": {},
     "output_type": "execute_result"
    }
   ],
   "source": [
    "len(smiles)"
   ]
  },
  {
   "cell_type": "code",
   "execution_count": 5,
   "id": "65ff6f42",
   "metadata": {},
   "outputs": [
    {
     "name": "stdout",
     "output_type": "stream",
     "text": [
      "2023.09.5\n",
      "Using matplotlib backend: <object object at 0x13d5cca20>\n"
     ]
    }
   ],
   "source": [
    "from rdkit import Chem\n",
    "from rdkit.Chem import rdFingerprintGenerator\n",
    "from rdkit.Chem.Draw import IPythonConsole\n",
    "from rdkit import DataStructs\n",
    "import rdkit\n",
    "print(rdkit.__version__)\n",
    "%matplotlib"
   ]
  },
  {
   "cell_type": "code",
   "execution_count": 6,
   "id": "72b458d1",
   "metadata": {},
   "outputs": [],
   "source": [
    "#Molecular Fingerprint creation\n",
    "from rdkit.Chem import PandasTools\n",
    "PandasTools.AddMoleculeColumnToFrame(df,'SMILES', 'Structure')"
   ]
  },
  {
   "cell_type": "code",
   "execution_count": 8,
   "id": "f45b1d76",
   "metadata": {},
   "outputs": [
    {
     "name": "stdout",
     "output_type": "stream",
     "text": [
      "2023.09.5\n",
      "Using matplotlib backend: MacOSX\n",
      "bing\n",
      "bing\n",
      "bing\n",
      "bing\n",
      "bing\n"
     ]
    }
   ],
   "source": [
    "# Generate MACCS key generation (good for substructures)\n",
    "from rdkit import Chem\n",
    "from rdkit.Chem import rdFingerprintGenerator\n",
    "from rdkit.Chem.Draw import IPythonConsole\n",
    "from rdkit import DataStructs\n",
    "import rdkit\n",
    "from rdkit.Chem import rdMolDescriptors\n",
    "print(rdkit.__version__)\n",
    "%matplotlib\n",
    "from rdkit.Chem import MACCSkeys\n",
    "from rdkit.Avalon import pyAvalonTools\n",
    "MACCSfp = []\n",
    "Avafp = []\n",
    "Morganfp = []\n",
    "TTorsionfp = []\n",
    "\n",
    "for items in df.Structure:\n",
    "    MACCSfp.append(MACCSkeys.GenMACCSKeys(items))\n",
    "    Avafp.append(pyAvalonTools.GetAvalonFP(items, nBits=512))\n",
    "    Morganfp.append(rdMolDescriptors.GetMorganFingerprintAsBitVect(items, radius=2))\n",
    "    TTorsionfp.append(rdMolDescriptors.GetHashedTopologicalTorsionFingerprintAsBitVect(items, nBits=512))\n",
    "\n",
    "print('bing')    \n",
    "\n",
    "data = []\n",
    "loops = 0\n",
    "for items in MACCSfp:\n",
    "    items = np.array(items)\n",
    "    data.append(items)\n",
    "Morganframe = pd.DataFrame(data)\n",
    "newframe = pd.concat([df, Morganframe], axis=1)\n",
    "newframe = newframe.drop('Structure', axis=1)\n",
    "newframe.to_csv('/Users/james/Documents/Honours/Data/Hepatoxicity/Structure/hepatoxMACCSfp.csv', index=False)\n",
    "print('bing')    \n",
    "\n",
    "data = []\n",
    "loops = 0\n",
    "for items in Avafp:\n",
    "    items = np.array(items)\n",
    "    data.append(items)\n",
    "Morganframe = pd.DataFrame(data)\n",
    "newframe = pd.concat([df, Morganframe], axis=1)\n",
    "newframe = newframe.drop('Structure', axis=1)\n",
    "newframe.to_csv('/Users/james/Documents/Honours/Data/Hepatoxicity/Structure/hepatoxAvafp.csv', index=False)\n",
    "print('bing')    \n",
    "\n",
    "data = []\n",
    "loops = 0\n",
    "for items in TTorsionfp:\n",
    "    items = np.array(items)\n",
    "    data.append(items)\n",
    "Morganframe = pd.DataFrame(data)\n",
    "newframe = pd.concat([df, Morganframe], axis=1)\n",
    "newframe = newframe.drop('Structure', axis=1)\n",
    "newframe.to_csv('/Users/james/Documents/Honours/Data/Hepatoxicity/Structure/hepatoxTTorsionfp.csv', index=False)\n",
    "print('bing')    \n",
    "\n",
    "data = []\n",
    "loops = 0\n",
    "for items in Morganfp:\n",
    "    items = np.array(items)\n",
    "    data.append(items)\n",
    "Morganframe = pd.DataFrame(data)\n",
    "newframe = pd.concat([df, Morganframe], axis=1)\n",
    "newframe = newframe.drop('Structure', axis=1)\n",
    "newframe.to_csv('/Users/james/Documents/Honours/Data/Hepatoxicity/Structure/hepatoxMorganfp.csv', index=False)\n",
    "print('bing')    \n"
   ]
  }
 ],
 "metadata": {
  "kernelspec": {
   "display_name": "Python 3 (ipykernel)",
   "language": "python",
   "name": "python3"
  },
  "language_info": {
   "codemirror_mode": {
    "name": "ipython",
    "version": 3
   },
   "file_extension": ".py",
   "mimetype": "text/x-python",
   "name": "python",
   "nbconvert_exporter": "python",
   "pygments_lexer": "ipython3",
   "version": "3.11.0"
  }
 },
 "nbformat": 4,
 "nbformat_minor": 5
}
