{
 "cells": [
  {
   "cell_type": "code",
   "execution_count": 25,
   "id": "8cc73b36",
   "metadata": {},
   "outputs": [],
   "source": [
    "#2/8/24 A temp file to edit the NN Fingerprint mass results to get values into a csv file\n",
    "import pandas as pd\n",
    "import numpy as np\n",
    "\n"
   ]
  },
  {
   "cell_type": "code",
   "execution_count": 11,
   "id": "93ac9b57",
   "metadata": {
    "scrolled": false
   },
   "outputs": [],
   "source": [
    "file_path = '/Users/james/Documents/Honours/Preprocessing/Hepatoxicity/temp.txt'\n",
    " \n",
    "with open(file_path, 'r') as file:\n",
    "    content = file.readlines()\n"
   ]
  },
  {
   "cell_type": "code",
   "execution_count": 14,
   "id": "560f6690",
   "metadata": {},
   "outputs": [],
   "source": [
    "lines = []\n",
    "for line in content:\n",
    "    if 'mcc = 0' in line:\n",
    "        lines.append(line)"
   ]
  },
  {
   "cell_type": "code",
   "execution_count": 18,
   "id": "b6372b65",
   "metadata": {},
   "outputs": [],
   "source": [
    "editedlines = []\n",
    "for line in lines:\n",
    "    textrem = line[6:]\n",
    "    length = len(textrem)\n",
    "    editedlines.append(textrem[:(length - 1)])"
   ]
  },
  {
   "cell_type": "code",
   "execution_count": 22,
   "id": "d445aeca",
   "metadata": {},
   "outputs": [],
   "source": [
    "mccs = []\n",
    "for line in editedlines:\n",
    "    num = float(line)\n",
    "    mccs.append(num)"
   ]
  },
  {
   "cell_type": "code",
   "execution_count": 26,
   "id": "bfaf32b9",
   "metadata": {},
   "outputs": [],
   "source": [
    "temp = pd.DataFrame(mccs, columns=['MCC'])\n",
    "temp.to_csv('/Users/james/Documents/Honours/Data/Model_Outputs/Fingerprint/NeuralNet_Fingerprint_Results')"
   ]
  }
 ],
 "metadata": {
  "kernelspec": {
   "display_name": "Python 3 (ipykernel)",
   "language": "python",
   "name": "python3"
  },
  "language_info": {
   "codemirror_mode": {
    "name": "ipython",
    "version": 3
   },
   "file_extension": ".py",
   "mimetype": "text/x-python",
   "name": "python",
   "nbconvert_exporter": "python",
   "pygments_lexer": "ipython3",
   "version": "3.11.0"
  }
 },
 "nbformat": 4,
 "nbformat_minor": 5
}
