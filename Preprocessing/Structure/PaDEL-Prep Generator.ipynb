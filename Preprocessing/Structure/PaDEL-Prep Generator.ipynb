{
 "cells": [
  {
   "cell_type": "code",
   "execution_count": 1,
   "id": "82728019",
   "metadata": {},
   "outputs": [],
   "source": [
    "#15/8/24 This file prepares the unified SMILES file for PaDEL extraction \n",
    "#Converts the file into a folder containing each SMILE as a text document\n",
    "\n",
    "import pandas as pd\n",
    "import numpy as np\n",
    "import os\n",
    "\n",
    "df = pd.read_csv('/Users/james/Documents/Honours/Data/Unified_SMILES/Unified_SMILES.csv')"
   ]
  },
  {
   "cell_type": "code",
   "execution_count": 18,
   "id": "42c7df87",
   "metadata": {},
   "outputs": [],
   "source": [
    "smiles = list(df['SMILES'].values)\n",
    "directory = '/Users/james/Documents/Honours/Data/Unified_SMILES/padel_unified/'\n",
    "loops = 0\n",
    "namelist = []\n",
    "for smile in smiles:\n",
    "    namelist.append(smile)\n",
    "    loops = str(loops)\n",
    "    temp = loops + '.smi'\n",
    "    file_path = os.path.join(directory, temp)\n",
    "    loops = int(loops)\n",
    "    with open(file_path, 'w') as file:\n",
    "        file.write(smile)\n",
    "    loops = loops + 1"
   ]
  },
  {
   "cell_type": "code",
   "execution_count": 20,
   "id": "2d4f31d1",
   "metadata": {},
   "outputs": [],
   "source": [
    "smilenames = pd.DataFrame(namelist)\n",
    "smilenames.to_csv('/Users/james/Documents/Honours/Data/Unified_SMILES/PaDEL_Prep/padel_index.csv')"
   ]
  }
 ],
 "metadata": {
  "kernelspec": {
   "display_name": "Python 3 (ipykernel)",
   "language": "python",
   "name": "python3"
  },
  "language_info": {
   "codemirror_mode": {
    "name": "ipython",
    "version": 3
   },
   "file_extension": ".py",
   "mimetype": "text/x-python",
   "name": "python",
   "nbconvert_exporter": "python",
   "pygments_lexer": "ipython3",
   "version": "3.11.0"
  }
 },
 "nbformat": 4,
 "nbformat_minor": 5
}
