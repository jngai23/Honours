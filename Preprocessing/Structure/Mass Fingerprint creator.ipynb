{
 "cells": [
  {
   "cell_type": "code",
   "execution_count": 2,
   "id": "515f1e34",
   "metadata": {},
   "outputs": [
    {
     "name": "stdout",
     "output_type": "stream",
     "text": [
      "Cardiotoxicity-30\n"
     ]
    },
    {
     "name": "stderr",
     "output_type": "stream",
     "text": [
      "[11:04:11] WARNING: not removing hydrogen atom without neighbors\n"
     ]
    },
    {
     "name": "stdout",
     "output_type": "stream",
     "text": [
      "NR-AR-LBD\n",
      "Hepatotoxicity\n",
      "SR-ARE\n",
      "Respiratory_Toxicity\n"
     ]
    },
    {
     "name": "stderr",
     "output_type": "stream",
     "text": [
      "[11:06:44] WARNING: not removing hydrogen atom without neighbors\n"
     ]
    },
    {
     "name": "stdout",
     "output_type": "stream",
     "text": [
      "NR-AhR\n"
     ]
    },
    {
     "name": "stderr",
     "output_type": "stream",
     "text": [
      "[11:07:42] WARNING: not removing hydrogen atom without neighbors\n"
     ]
    },
    {
     "name": "stdout",
     "output_type": "stream",
     "text": [
      "SR-p53\n",
      "Reproductive_Toxicity\n"
     ]
    },
    {
     "name": "stderr",
     "output_type": "stream",
     "text": [
      "[11:08:45] WARNING: not removing hydrogen atom without neighbors\n"
     ]
    },
    {
     "name": "stdout",
     "output_type": "stream",
     "text": [
      "NR-ER\n"
     ]
    },
    {
     "name": "stderr",
     "output_type": "stream",
     "text": [
      "[11:09:40] WARNING: not removing hydrogen atom without neighbors\n"
     ]
    },
    {
     "name": "stdout",
     "output_type": "stream",
     "text": [
      "SR-HSE\n"
     ]
    },
    {
     "name": "stderr",
     "output_type": "stream",
     "text": [
      "[11:10:39] WARNING: not removing hydrogen atom without neighbors\n"
     ]
    },
    {
     "name": "stdout",
     "output_type": "stream",
     "text": [
      "SR-MMP\n"
     ]
    },
    {
     "name": "stderr",
     "output_type": "stream",
     "text": [
      "[11:11:31] WARNING: not removing hydrogen atom without neighbors\n"
     ]
    },
    {
     "name": "stdout",
     "output_type": "stream",
     "text": [
      "SR-ATAD5\n"
     ]
    },
    {
     "name": "stderr",
     "output_type": "stream",
     "text": [
      "[11:12:34] WARNING: not removing hydrogen atom without neighbors\n"
     ]
    },
    {
     "name": "stdout",
     "output_type": "stream",
     "text": [
      "NR-PPAR-gamma\n",
      "Carcinogenicity\n"
     ]
    },
    {
     "name": "stderr",
     "output_type": "stream",
     "text": [
      "[11:13:42] WARNING: not removing hydrogen atom without neighbors\n"
     ]
    },
    {
     "name": "stdout",
     "output_type": "stream",
     "text": [
      "NR-ER-LBD\n",
      "Cardiotoxicity-10\n",
      "Cardiotoxicity-5\n"
     ]
    },
    {
     "name": "stderr",
     "output_type": "stream",
     "text": [
      "[11:15:14] WARNING: not removing hydrogen atom without neighbors\n"
     ]
    },
    {
     "name": "stdout",
     "output_type": "stream",
     "text": [
      "NR-aromatase\n",
      "Developmental_Toxicity\n",
      "Ames_Mutagenicity\n"
     ]
    },
    {
     "name": "stderr",
     "output_type": "stream",
     "text": [
      "[11:17:17] WARNING: not removing hydrogen atom without neighbors\n"
     ]
    },
    {
     "name": "stdout",
     "output_type": "stream",
     "text": [
      "NR-AR\n",
      "Cardiotoxicity-1\n"
     ]
    }
   ],
   "source": [
    "#30/7/24 This file, given a folder full of processed Toxric datasets, extracts MACCS, Morgan, Avalon and TTorsion\n",
    "#Fingerprints and deposits them in Honours/Data/Structure/Fingerprints\n",
    "\n",
    "import os\n",
    "import pandas as pd\n",
    "import numpy as np\n",
    "from rdkit import Chem\n",
    "from rdkit.Chem import rdFingerprintGenerator\n",
    "from rdkit.Chem.Draw import IPythonConsole\n",
    "from rdkit import DataStructs\n",
    "import rdkit\n",
    "from rdkit.Chem import PandasTools\n",
    "from rdkit import Chem\n",
    "from rdkit.Chem import rdFingerprintGenerator\n",
    "from rdkit.Chem.Draw import IPythonConsole\n",
    "from rdkit import DataStructs\n",
    "import rdkit\n",
    "from rdkit.Chem import rdMolDescriptors\n",
    "from rdkit.Chem import MACCSkeys\n",
    "from rdkit.Avalon import pyAvalonTools\n",
    "\n",
    "\n",
    "directory = os.fsencode('/Users/james/Documents/Honours/Data/ProcessedRaws')\n",
    "dataframes = []\n",
    "filenames = []\n",
    "for file in os.listdir(directory):\n",
    "    filename = os.fsdecode(file)    \n",
    "    filename = filename\n",
    "    if 'csv' in filename:\n",
    "        length = len(filename)\n",
    "        datanam = filename[:(length-4)]\n",
    "        filenames.append(datanam)\n",
    "        pathname = '/Users/james/Documents/Honours/Data/ProcessedRaws/' + filename\n",
    "        newdata = pd.read_csv(pathname)\n",
    "        dataframes.append(newdata)\n",
    "\n",
    "loops = 0\n",
    "for df in dataframes:\n",
    "    smiles = df['SMILES']\n",
    "    toxvals = df['Toxicity_Value']\n",
    "    \n",
    "    PandasTools.AddMoleculeColumnToFrame(df,'SMILES', 'Structure')\n",
    "    \n",
    "    MACCSfp = []\n",
    "    Avafp = []\n",
    "    Morganfp = []\n",
    "    TTorsionfp = []\n",
    "\n",
    "    for items in df.Structure:\n",
    "        MACCSfp.append(MACCSkeys.GenMACCSKeys(items))\n",
    "        Avafp.append(pyAvalonTools.GetAvalonFP(items, nBits=512))\n",
    "        Morganfp.append(rdMolDescriptors.GetMorganFingerprintAsBitVect(items, radius=2))\n",
    "        TTorsionfp.append(rdMolDescriptors.GetHashedTopologicalTorsionFingerprintAsBitVect(items, nBits=512))\n",
    "    path = '/Users/james/Documents/Honours/Data/Fingerprints/'\n",
    "    data = []\n",
    "    for items in MACCSfp:\n",
    "        items = np.array(items)\n",
    "        data.append(items)\n",
    "    Morganframe = pd.DataFrame(data)\n",
    "    newframe = pd.concat([df, Morganframe], axis=1)\n",
    "    newframe = newframe.drop('Structure', axis=1)\n",
    "    extension = '_MACCSfp.csv'\n",
    "    dataname = filenames[loops]\n",
    "    name = path + dataname + extension\n",
    "    newframe.to_csv(name, index=False)\n",
    "\n",
    "    data = []\n",
    "    for items in Avafp:\n",
    "        items = np.array(items)\n",
    "        data.append(items)\n",
    "    Morganframe = pd.DataFrame(data)\n",
    "    newframe = pd.concat([df, Morganframe], axis=1)\n",
    "    newframe = newframe.drop('Structure', axis=1)\n",
    "    extension = '_Avafp.csv'\n",
    "    dataname = filenames[loops]\n",
    "    name = path + dataname + extension\n",
    "    newframe.to_csv(name, index=False)\n",
    "\n",
    "    data = []\n",
    "    for items in TTorsionfp:\n",
    "        items = np.array(items)\n",
    "        data.append(items)\n",
    "    Morganframe = pd.DataFrame(data)\n",
    "    newframe = pd.concat([df, Morganframe], axis=1)\n",
    "    newframe = newframe.drop('Structure', axis=1)\n",
    "    extension = '_TTorsionfp.csv'\n",
    "    dataname = filenames[loops]\n",
    "    name = path + dataname + extension\n",
    "    newframe.to_csv(name, index=False)\n",
    "\n",
    "    data = []\n",
    "    for items in Morganfp:\n",
    "        items = np.array(items)\n",
    "        data.append(items)\n",
    "    Morganframe = pd.DataFrame(data)\n",
    "    newframe = pd.concat([df, Morganframe], axis=1)\n",
    "    newframe = newframe.drop('Structure', axis=1)\n",
    "    extension = '_Morganfp.csv'\n",
    "    dataname = filenames[loops]\n",
    "    name = path + dataname + extension\n",
    "    newframe.to_csv(name, index=False)\n",
    "    \n",
    "    print(filenames[loops])\n",
    "    loops = loops + 1\n",
    "    \n",
    "#After being converted and placed into the adequate folder, the files had their names manually cleaned"
   ]
  },
  {
   "cell_type": "code",
   "execution_count": 1,
   "id": "06bf3e33",
   "metadata": {},
   "outputs": [
    {
     "name": "stderr",
     "output_type": "stream",
     "text": [
      "[11:12:48] WARNING: not removing hydrogen atom without neighbors\n"
     ]
    },
    {
     "name": "stdout",
     "output_type": "stream",
     "text": [
      "NR-AR-LBD\n",
      "SR-ARE\n"
     ]
    },
    {
     "name": "stderr",
     "output_type": "stream",
     "text": [
      "[12:02:22] WARNING: not removing hydrogen atom without neighbors\n"
     ]
    },
    {
     "name": "stdout",
     "output_type": "stream",
     "text": [
      "NR-AhR\n"
     ]
    },
    {
     "name": "stderr",
     "output_type": "stream",
     "text": [
      "[12:20:22] WARNING: not removing hydrogen atom without neighbors\n"
     ]
    },
    {
     "name": "stdout",
     "output_type": "stream",
     "text": [
      "SR-p53\n"
     ]
    },
    {
     "name": "stderr",
     "output_type": "stream",
     "text": [
      "[14:14:53] WARNING: not removing hydrogen atom without neighbors\n"
     ]
    },
    {
     "name": "stdout",
     "output_type": "stream",
     "text": [
      "NR-ER\n"
     ]
    },
    {
     "name": "stderr",
     "output_type": "stream",
     "text": [
      "[14:15:48] WARNING: not removing hydrogen atom without neighbors\n"
     ]
    },
    {
     "name": "stdout",
     "output_type": "stream",
     "text": [
      "SR-HSE\n"
     ]
    },
    {
     "name": "stderr",
     "output_type": "stream",
     "text": [
      "[14:16:45] WARNING: not removing hydrogen atom without neighbors\n"
     ]
    },
    {
     "name": "stdout",
     "output_type": "stream",
     "text": [
      "SR-MMP\n"
     ]
    },
    {
     "name": "stderr",
     "output_type": "stream",
     "text": [
      "[14:17:37] WARNING: not removing hydrogen atom without neighbors\n"
     ]
    },
    {
     "name": "stdout",
     "output_type": "stream",
     "text": [
      "SR-ATAD5\n"
     ]
    },
    {
     "name": "stderr",
     "output_type": "stream",
     "text": [
      "[14:18:39] WARNING: not removing hydrogen atom without neighbors\n"
     ]
    },
    {
     "name": "stdout",
     "output_type": "stream",
     "text": [
      "NR-PPAR-gamma\n"
     ]
    },
    {
     "name": "stderr",
     "output_type": "stream",
     "text": [
      "[14:19:36] WARNING: not removing hydrogen atom without neighbors\n"
     ]
    },
    {
     "name": "stdout",
     "output_type": "stream",
     "text": [
      "NR-ER-LBD\n"
     ]
    },
    {
     "name": "stderr",
     "output_type": "stream",
     "text": [
      "[14:20:38] WARNING: not removing hydrogen atom without neighbors\n"
     ]
    },
    {
     "name": "stdout",
     "output_type": "stream",
     "text": [
      "NR-aromatase\n"
     ]
    },
    {
     "name": "stderr",
     "output_type": "stream",
     "text": [
      "[14:21:30] WARNING: not removing hydrogen atom without neighbors\n"
     ]
    },
    {
     "name": "stdout",
     "output_type": "stream",
     "text": [
      "NR-AR\n"
     ]
    }
   ],
   "source": [
    "#For the various Endocrine Toxicity Sets\n",
    "\n",
    "import os\n",
    "import pandas as pd\n",
    "import numpy as np\n",
    "from rdkit import Chem\n",
    "from rdkit.Chem import rdFingerprintGenerator\n",
    "from rdkit.Chem.Draw import IPythonConsole\n",
    "from rdkit import DataStructs\n",
    "import rdkit\n",
    "from rdkit.Chem import PandasTools\n",
    "from rdkit import Chem\n",
    "from rdkit.Chem import rdFingerprintGenerator\n",
    "from rdkit.Chem.Draw import IPythonConsole\n",
    "from rdkit import DataStructs\n",
    "import rdkit\n",
    "from rdkit.Chem import rdMolDescriptors\n",
    "from rdkit.Chem import MACCSkeys\n",
    "from rdkit.Avalon import pyAvalonTools\n",
    "\n",
    "\n",
    "directory = os.fsencode('/Users/james/Documents/Honours/Data/Endocrine/Rawdata/FormattedRaw')\n",
    "dataframes = []\n",
    "filenames = []\n",
    "for file in os.listdir(directory):\n",
    "    filename = os.fsdecode(file)    \n",
    "    filename = filename\n",
    "    if 'csv' in filename:\n",
    "        length = len(filename)\n",
    "        datanam = filename[:(length-4)]\n",
    "        filenames.append(datanam)\n",
    "        pathname = '/Users/james/Documents/Honours/Data/Endocrine/Rawdata/FormattedRaw/' + filename\n",
    "        newdata = pd.read_csv(pathname)\n",
    "        dataframes.append(newdata)\n",
    "\n",
    "loops = 0\n",
    "for df in dataframes:\n",
    "    smiles = df['SMILES']\n",
    "    toxvals = df['Toxicity_Values']\n",
    "    \n",
    "    PandasTools.AddMoleculeColumnToFrame(df,'SMILES', 'Structure')\n",
    "    \n",
    "    MACCSfp = []\n",
    "    Avafp = []\n",
    "    Morganfp = []\n",
    "    TTorsionfp = []\n",
    "\n",
    "    for items in df.Structure:\n",
    "        MACCSfp.append(MACCSkeys.GenMACCSKeys(items))\n",
    "        Avafp.append(pyAvalonTools.GetAvalonFP(items, nBits=512))\n",
    "        Morganfp.append(rdMolDescriptors.GetMorganFingerprintAsBitVect(items, radius=2))\n",
    "        TTorsionfp.append(rdMolDescriptors.GetHashedTopologicalTorsionFingerprintAsBitVect(items, nBits=512))\n",
    "    path = '/Users/james/Documents/Honours/Data/Fingerprints/'\n",
    "    data = []\n",
    "    for items in MACCSfp:\n",
    "        items = np.array(items)\n",
    "        data.append(items)\n",
    "    Morganframe = pd.DataFrame(data)\n",
    "    newframe = pd.concat([df, Morganframe], axis=1)\n",
    "    newframe = newframe.drop('Structure', axis=1)\n",
    "    extension = 'MACCSfp.csv'\n",
    "    dataname = filenames[loops]\n",
    "    name = path + dataname + extension\n",
    "    newframe.to_csv(name, index=False)\n",
    "\n",
    "    data = []\n",
    "    for items in Avafp:\n",
    "        items = np.array(items)\n",
    "        data.append(items)\n",
    "    Morganframe = pd.DataFrame(data)\n",
    "    newframe = pd.concat([df, Morganframe], axis=1)\n",
    "    newframe = newframe.drop('Structure', axis=1)\n",
    "    extension = 'Avafp.csv'\n",
    "    dataname = filenames[loops]\n",
    "    name = path + dataname + extension\n",
    "    newframe.to_csv(name, index=False)\n",
    "\n",
    "    data = []\n",
    "    for items in TTorsionfp:\n",
    "        items = np.array(items)\n",
    "        data.append(items)\n",
    "    Morganframe = pd.DataFrame(data)\n",
    "    newframe = pd.concat([df, Morganframe], axis=1)\n",
    "    newframe = newframe.drop('Structure', axis=1)\n",
    "    extension = 'TTorsionfp.csv'\n",
    "    dataname = filenames[loops]\n",
    "    name = path + dataname + extension\n",
    "    newframe.to_csv(name, index=False)\n",
    "\n",
    "    data = []\n",
    "    for items in Morganfp:\n",
    "        items = np.array(items)\n",
    "        data.append(items)\n",
    "    Morganframe = pd.DataFrame(data)\n",
    "    newframe = pd.concat([df, Morganframe], axis=1)\n",
    "    newframe = newframe.drop('Structure', axis=1)\n",
    "    extension = 'Morganfp.csv'\n",
    "    dataname = filenames[loops]\n",
    "    name = path + dataname + extension\n",
    "    newframe.to_csv(name, index=False)\n",
    "    \n",
    "    print(filenames[loops])\n",
    "    loops = loops + 1\n",
    "    \n",
    "#After being converted and placed into the adequate folder, the files had their names manually cleaned"
   ]
  },
  {
   "cell_type": "code",
   "execution_count": 9,
   "id": "816fc6c2",
   "metadata": {},
   "outputs": [
    {
     "name": "stdout",
     "output_type": "stream",
     "text": [
      "Cardiotoxicity-30\n"
     ]
    }
   ],
   "source": [
    "#30/7/24 This file, given a folder full of processed Toxric datasets, extracts MACCS, Morgan, Avalon and TTorsion\n",
    "#Fingerprints and deposits them in Honours/Data/Structure/Fingerprints\n",
    "\n",
    "import os\n",
    "import pandas as pd\n",
    "import numpy as np\n",
    "from rdkit import Chem\n",
    "from rdkit.Chem import rdFingerprintGenerator\n",
    "from rdkit.Chem.Draw import IPythonConsole\n",
    "from rdkit import DataStructs\n",
    "import rdkit\n",
    "from rdkit.Chem import PandasTools\n",
    "from rdkit import Chem\n",
    "from rdkit.Chem import rdFingerprintGenerator\n",
    "from rdkit.Chem.Draw import IPythonConsole\n",
    "from rdkit import DataStructs\n",
    "import rdkit\n",
    "from rdkit.Chem import rdMolDescriptors\n",
    "from rdkit.Chem import MACCSkeys\n",
    "from rdkit.Avalon import pyAvalonTools\n",
    "\n",
    "\n",
    "directory = os.fsencode('/Users/james/Documents/Honours/Data/ProcessedRaws')\n",
    "dataframes = []\n",
    "filenames = []\n",
    "for file in os.listdir(directory):\n",
    "    filename = os.fsdecode(file)    \n",
    "    filename = filename\n",
    "    if 'csv' in filename:\n",
    "        length = len(filename)\n",
    "        datanam = filename[:(length-4)]\n",
    "        filenames.append(datanam)\n",
    "        pathname = '/Users/james/Documents/Honours/Data/ProcessedRaws/' + filename\n",
    "        newdata = pd.read_csv(pathname)\n",
    "        dataframes.append(newdata)\n",
    "\n",
    "loops = 0\n",
    "df = dataframes[19]\n",
    "smiles = df['SMILES']\n",
    "toxvals = df['Toxicity_Value']\n",
    "\n",
    "PandasTools.AddMoleculeColumnToFrame(df,'SMILES', 'Structure')\n",
    "\n",
    "MACCSfp = []\n",
    "Avafp = []\n",
    "Morganfp = []\n",
    "TTorsionfp = []\n",
    "\n",
    "for items in df.Structure:\n",
    "    Morganfp.append(rdMolDescriptors.GetMorganFingerprintAsBitVect(items, radius=2))\n",
    "path = '/Users/james/Documents/Honours/Data/Fingerprints/'\n",
    "data = []\n",
    "for items in Morganfp:\n",
    "    items = np.array(items)\n",
    "    data.append(items)\n",
    "Morganframe = pd.DataFrame(data)\n",
    "newframe = pd.concat([df, Morganframe], axis=1)\n",
    "newframe = newframe.drop('Structure', axis=1)\n",
    "extension = '_Morganfp.csv'\n",
    "dataname = filenames[loops]\n",
    "name = path + dataname + extension\n",
    "#    newframe.to_csv(name, index=False)\n",
    "\n",
    "print(filenames[loops])\n",
    "loops = loops + 1\n",
    "    \n",
    "#After being converted and placed into the adequate folder, the files had their names manually cleaned"
   ]
  },
  {
   "cell_type": "code",
   "execution_count": 10,
   "id": "bb95814f",
   "metadata": {
    "scrolled": false
   },
   "outputs": [
    {
     "data": {
      "text/html": [
       "<div>\n",
       "<style scoped>\n",
       "    .dataframe tbody tr th:only-of-type {\n",
       "        vertical-align: middle;\n",
       "    }\n",
       "\n",
       "    .dataframe tbody tr th {\n",
       "        vertical-align: top;\n",
       "    }\n",
       "\n",
       "    .dataframe thead th {\n",
       "        text-align: right;\n",
       "    }\n",
       "</style>\n",
       "<table border=\"1\" class=\"dataframe\">\n",
       "  <thead>\n",
       "    <tr style=\"text-align: right;\">\n",
       "      <th></th>\n",
       "      <th>SMILES</th>\n",
       "      <th>Toxicity_Value</th>\n",
       "      <th>0</th>\n",
       "      <th>1</th>\n",
       "      <th>2</th>\n",
       "      <th>3</th>\n",
       "      <th>4</th>\n",
       "      <th>5</th>\n",
       "      <th>6</th>\n",
       "      <th>7</th>\n",
       "      <th>...</th>\n",
       "      <th>2038</th>\n",
       "      <th>2039</th>\n",
       "      <th>2040</th>\n",
       "      <th>2041</th>\n",
       "      <th>2042</th>\n",
       "      <th>2043</th>\n",
       "      <th>2044</th>\n",
       "      <th>2045</th>\n",
       "      <th>2046</th>\n",
       "      <th>2047</th>\n",
       "    </tr>\n",
       "  </thead>\n",
       "  <tbody>\n",
       "    <tr>\n",
       "      <th>0</th>\n",
       "      <td>OC[C@H](O)[C@@H](O)[C@H](O)[C@H](O)CO</td>\n",
       "      <td>0</td>\n",
       "      <td>0</td>\n",
       "      <td>1</td>\n",
       "      <td>0</td>\n",
       "      <td>0</td>\n",
       "      <td>0</td>\n",
       "      <td>0</td>\n",
       "      <td>0</td>\n",
       "      <td>0</td>\n",
       "      <td>...</td>\n",
       "      <td>0</td>\n",
       "      <td>0</td>\n",
       "      <td>0</td>\n",
       "      <td>0</td>\n",
       "      <td>0</td>\n",
       "      <td>0</td>\n",
       "      <td>0</td>\n",
       "      <td>0</td>\n",
       "      <td>0</td>\n",
       "      <td>0</td>\n",
       "    </tr>\n",
       "    <tr>\n",
       "      <th>1</th>\n",
       "      <td>OCC(O)CO</td>\n",
       "      <td>0</td>\n",
       "      <td>0</td>\n",
       "      <td>1</td>\n",
       "      <td>0</td>\n",
       "      <td>0</td>\n",
       "      <td>0</td>\n",
       "      <td>0</td>\n",
       "      <td>0</td>\n",
       "      <td>0</td>\n",
       "      <td>...</td>\n",
       "      <td>1</td>\n",
       "      <td>0</td>\n",
       "      <td>0</td>\n",
       "      <td>0</td>\n",
       "      <td>0</td>\n",
       "      <td>0</td>\n",
       "      <td>0</td>\n",
       "      <td>0</td>\n",
       "      <td>0</td>\n",
       "      <td>0</td>\n",
       "    </tr>\n",
       "    <tr>\n",
       "      <th>2</th>\n",
       "      <td>O=[N+]([O-])OCC(CO[N+](=O)[O-])O[N+](=O)[O-]</td>\n",
       "      <td>1</td>\n",
       "      <td>0</td>\n",
       "      <td>1</td>\n",
       "      <td>0</td>\n",
       "      <td>0</td>\n",
       "      <td>0</td>\n",
       "      <td>0</td>\n",
       "      <td>0</td>\n",
       "      <td>0</td>\n",
       "      <td>...</td>\n",
       "      <td>0</td>\n",
       "      <td>0</td>\n",
       "      <td>0</td>\n",
       "      <td>0</td>\n",
       "      <td>0</td>\n",
       "      <td>0</td>\n",
       "      <td>0</td>\n",
       "      <td>0</td>\n",
       "      <td>0</td>\n",
       "      <td>0</td>\n",
       "    </tr>\n",
       "    <tr>\n",
       "      <th>3</th>\n",
       "      <td>FC(F)(F)C(Cl)Br</td>\n",
       "      <td>0</td>\n",
       "      <td>0</td>\n",
       "      <td>1</td>\n",
       "      <td>0</td>\n",
       "      <td>0</td>\n",
       "      <td>0</td>\n",
       "      <td>0</td>\n",
       "      <td>0</td>\n",
       "      <td>0</td>\n",
       "      <td>...</td>\n",
       "      <td>0</td>\n",
       "      <td>0</td>\n",
       "      <td>0</td>\n",
       "      <td>0</td>\n",
       "      <td>0</td>\n",
       "      <td>0</td>\n",
       "      <td>0</td>\n",
       "      <td>0</td>\n",
       "      <td>0</td>\n",
       "      <td>0</td>\n",
       "    </tr>\n",
       "    <tr>\n",
       "      <th>4</th>\n",
       "      <td>FC(F)OC(Cl)C(F)(F)F</td>\n",
       "      <td>0</td>\n",
       "      <td>0</td>\n",
       "      <td>1</td>\n",
       "      <td>0</td>\n",
       "      <td>0</td>\n",
       "      <td>0</td>\n",
       "      <td>0</td>\n",
       "      <td>0</td>\n",
       "      <td>0</td>\n",
       "      <td>...</td>\n",
       "      <td>0</td>\n",
       "      <td>0</td>\n",
       "      <td>0</td>\n",
       "      <td>0</td>\n",
       "      <td>0</td>\n",
       "      <td>0</td>\n",
       "      <td>0</td>\n",
       "      <td>0</td>\n",
       "      <td>0</td>\n",
       "      <td>0</td>\n",
       "    </tr>\n",
       "    <tr>\n",
       "      <th>...</th>\n",
       "      <td>...</td>\n",
       "      <td>...</td>\n",
       "      <td>...</td>\n",
       "      <td>...</td>\n",
       "      <td>...</td>\n",
       "      <td>...</td>\n",
       "      <td>...</td>\n",
       "      <td>...</td>\n",
       "      <td>...</td>\n",
       "      <td>...</td>\n",
       "      <td>...</td>\n",
       "      <td>...</td>\n",
       "      <td>...</td>\n",
       "      <td>...</td>\n",
       "      <td>...</td>\n",
       "      <td>...</td>\n",
       "      <td>...</td>\n",
       "      <td>...</td>\n",
       "      <td>...</td>\n",
       "      <td>...</td>\n",
       "      <td>...</td>\n",
       "    </tr>\n",
       "    <tr>\n",
       "      <th>7480</th>\n",
       "      <td>c1cc2c3c(cccc3c1)[C@H]1N[C@@H]21</td>\n",
       "      <td>1</td>\n",
       "      <td>0</td>\n",
       "      <td>0</td>\n",
       "      <td>0</td>\n",
       "      <td>0</td>\n",
       "      <td>0</td>\n",
       "      <td>0</td>\n",
       "      <td>0</td>\n",
       "      <td>0</td>\n",
       "      <td>...</td>\n",
       "      <td>0</td>\n",
       "      <td>0</td>\n",
       "      <td>0</td>\n",
       "      <td>0</td>\n",
       "      <td>0</td>\n",
       "      <td>0</td>\n",
       "      <td>0</td>\n",
       "      <td>0</td>\n",
       "      <td>0</td>\n",
       "      <td>0</td>\n",
       "    </tr>\n",
       "    <tr>\n",
       "      <th>7481</th>\n",
       "      <td>c1cc2sncc2cc1OC[C@H]1CO1</td>\n",
       "      <td>1</td>\n",
       "      <td>0</td>\n",
       "      <td>0</td>\n",
       "      <td>0</td>\n",
       "      <td>0</td>\n",
       "      <td>0</td>\n",
       "      <td>0</td>\n",
       "      <td>0</td>\n",
       "      <td>0</td>\n",
       "      <td>...</td>\n",
       "      <td>0</td>\n",
       "      <td>0</td>\n",
       "      <td>0</td>\n",
       "      <td>0</td>\n",
       "      <td>0</td>\n",
       "      <td>0</td>\n",
       "      <td>0</td>\n",
       "      <td>0</td>\n",
       "      <td>0</td>\n",
       "      <td>0</td>\n",
       "    </tr>\n",
       "    <tr>\n",
       "      <th>7482</th>\n",
       "      <td>c1ccc2c(c1)ccc1cc3ccc4ccccc4c3cc12</td>\n",
       "      <td>1</td>\n",
       "      <td>0</td>\n",
       "      <td>0</td>\n",
       "      <td>0</td>\n",
       "      <td>0</td>\n",
       "      <td>0</td>\n",
       "      <td>0</td>\n",
       "      <td>0</td>\n",
       "      <td>0</td>\n",
       "      <td>...</td>\n",
       "      <td>0</td>\n",
       "      <td>0</td>\n",
       "      <td>0</td>\n",
       "      <td>0</td>\n",
       "      <td>0</td>\n",
       "      <td>0</td>\n",
       "      <td>0</td>\n",
       "      <td>0</td>\n",
       "      <td>0</td>\n",
       "      <td>0</td>\n",
       "    </tr>\n",
       "    <tr>\n",
       "      <th>7483</th>\n",
       "      <td>c1ccc2c3c4c(cc5ccccc5c4cc2c1)[C@@H]1O[C@H]31</td>\n",
       "      <td>1</td>\n",
       "      <td>0</td>\n",
       "      <td>0</td>\n",
       "      <td>0</td>\n",
       "      <td>0</td>\n",
       "      <td>0</td>\n",
       "      <td>0</td>\n",
       "      <td>0</td>\n",
       "      <td>0</td>\n",
       "      <td>...</td>\n",
       "      <td>0</td>\n",
       "      <td>0</td>\n",
       "      <td>0</td>\n",
       "      <td>0</td>\n",
       "      <td>0</td>\n",
       "      <td>0</td>\n",
       "      <td>0</td>\n",
       "      <td>0</td>\n",
       "      <td>0</td>\n",
       "      <td>0</td>\n",
       "    </tr>\n",
       "    <tr>\n",
       "      <th>7484</th>\n",
       "      <td>N=C(N)NC(=O)c1nc(Cl)c(N)nc1N</td>\n",
       "      <td>1</td>\n",
       "      <td>0</td>\n",
       "      <td>0</td>\n",
       "      <td>0</td>\n",
       "      <td>0</td>\n",
       "      <td>0</td>\n",
       "      <td>0</td>\n",
       "      <td>0</td>\n",
       "      <td>0</td>\n",
       "      <td>...</td>\n",
       "      <td>0</td>\n",
       "      <td>0</td>\n",
       "      <td>0</td>\n",
       "      <td>0</td>\n",
       "      <td>0</td>\n",
       "      <td>0</td>\n",
       "      <td>0</td>\n",
       "      <td>0</td>\n",
       "      <td>0</td>\n",
       "      <td>0</td>\n",
       "    </tr>\n",
       "  </tbody>\n",
       "</table>\n",
       "<p>7485 rows × 2050 columns</p>\n",
       "</div>"
      ],
      "text/plain": [
       "                                            SMILES  Toxicity_Value  0  1  2  \\\n",
       "0            OC[C@H](O)[C@@H](O)[C@H](O)[C@H](O)CO               0  0  1  0   \n",
       "1                                         OCC(O)CO               0  0  1  0   \n",
       "2     O=[N+]([O-])OCC(CO[N+](=O)[O-])O[N+](=O)[O-]               1  0  1  0   \n",
       "3                                  FC(F)(F)C(Cl)Br               0  0  1  0   \n",
       "4                              FC(F)OC(Cl)C(F)(F)F               0  0  1  0   \n",
       "...                                            ...             ... .. .. ..   \n",
       "7480              c1cc2c3c(cccc3c1)[C@H]1N[C@@H]21               1  0  0  0   \n",
       "7481                      c1cc2sncc2cc1OC[C@H]1CO1               1  0  0  0   \n",
       "7482            c1ccc2c(c1)ccc1cc3ccc4ccccc4c3cc12               1  0  0  0   \n",
       "7483  c1ccc2c3c4c(cc5ccccc5c4cc2c1)[C@@H]1O[C@H]31               1  0  0  0   \n",
       "7484                  N=C(N)NC(=O)c1nc(Cl)c(N)nc1N               1  0  0  0   \n",
       "\n",
       "      3  4  5  6  7  ...  2038  2039  2040  2041  2042  2043  2044  2045  \\\n",
       "0     0  0  0  0  0  ...     0     0     0     0     0     0     0     0   \n",
       "1     0  0  0  0  0  ...     1     0     0     0     0     0     0     0   \n",
       "2     0  0  0  0  0  ...     0     0     0     0     0     0     0     0   \n",
       "3     0  0  0  0  0  ...     0     0     0     0     0     0     0     0   \n",
       "4     0  0  0  0  0  ...     0     0     0     0     0     0     0     0   \n",
       "...  .. .. .. .. ..  ...   ...   ...   ...   ...   ...   ...   ...   ...   \n",
       "7480  0  0  0  0  0  ...     0     0     0     0     0     0     0     0   \n",
       "7481  0  0  0  0  0  ...     0     0     0     0     0     0     0     0   \n",
       "7482  0  0  0  0  0  ...     0     0     0     0     0     0     0     0   \n",
       "7483  0  0  0  0  0  ...     0     0     0     0     0     0     0     0   \n",
       "7484  0  0  0  0  0  ...     0     0     0     0     0     0     0     0   \n",
       "\n",
       "      2046  2047  \n",
       "0        0     0  \n",
       "1        0     0  \n",
       "2        0     0  \n",
       "3        0     0  \n",
       "4        0     0  \n",
       "...    ...   ...  \n",
       "7480     0     0  \n",
       "7481     0     0  \n",
       "7482     0     0  \n",
       "7483     0     0  \n",
       "7484     0     0  \n",
       "\n",
       "[7485 rows x 2050 columns]"
      ]
     },
     "execution_count": 10,
     "metadata": {},
     "output_type": "execute_result"
    }
   ],
   "source": [
    "newframe"
   ]
  },
  {
   "cell_type": "code",
   "execution_count": 5,
   "id": "a2204e8b",
   "metadata": {},
   "outputs": [
    {
     "name": "stdout",
     "output_type": "stream",
     "text": [
      "1547 Cardiotoxicity-30\n",
      "6629 NR-AR-LBD\n",
      "2889 Hepatotoxicity\n",
      "5712 SR-ARE\n",
      "1348 Respiratory_Toxicity\n",
      "6410 NR-AhR\n",
      "6636 SR-p53\n",
      "156 Reproductive_Toxicity\n",
      "6068 NR-ER\n",
      "6338 SR-HSE\n",
      "5700 SR-MMP\n",
      "6931 SR-ATAD5\n",
      "6322 NR-PPAR-gamma\n",
      "1021 Carcinogenicity\n",
      "6820 NR-ER-LBD\n",
      "1547 Cardiotoxicity-10\n",
      "1547 Cardiotoxicity-5\n",
      "5707 NR-aromatase\n",
      "218 Developmental_Toxicity\n",
      "7485 Ames_Mutagenicity\n",
      "7118 NR-AR\n",
      "1547 Cardiotoxicity-1\n"
     ]
    }
   ],
   "source": [
    "loops = 0\n",
    "for item in dataframes:\n",
    "    print(len(item['Toxicity_Value']), filenames[loops])\n",
    "    loops += 1"
   ]
  }
 ],
 "metadata": {
  "kernelspec": {
   "display_name": "Python 3 (ipykernel)",
   "language": "python",
   "name": "python3"
  },
  "language_info": {
   "codemirror_mode": {
    "name": "ipython",
    "version": 3
   },
   "file_extension": ".py",
   "mimetype": "text/x-python",
   "name": "python",
   "nbconvert_exporter": "python",
   "pygments_lexer": "ipython3",
   "version": "3.11.0"
  }
 },
 "nbformat": 4,
 "nbformat_minor": 5
}
