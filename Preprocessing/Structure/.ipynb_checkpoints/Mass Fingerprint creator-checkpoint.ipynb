{
 "cells": [
  {
   "cell_type": "code",
   "execution_count": 2,
   "id": "515f1e34",
   "metadata": {},
   "outputs": [
    {
     "name": "stdout",
     "output_type": "stream",
     "text": [
      "Cardiotoxicity-30\n"
     ]
    },
    {
     "name": "stderr",
     "output_type": "stream",
     "text": [
      "[11:04:11] WARNING: not removing hydrogen atom without neighbors\n"
     ]
    },
    {
     "name": "stdout",
     "output_type": "stream",
     "text": [
      "NR-AR-LBD\n",
      "Hepatotoxicity\n",
      "SR-ARE\n",
      "Respiratory_Toxicity\n"
     ]
    },
    {
     "name": "stderr",
     "output_type": "stream",
     "text": [
      "[11:06:44] WARNING: not removing hydrogen atom without neighbors\n"
     ]
    },
    {
     "name": "stdout",
     "output_type": "stream",
     "text": [
      "NR-AhR\n"
     ]
    },
    {
     "name": "stderr",
     "output_type": "stream",
     "text": [
      "[11:07:42] WARNING: not removing hydrogen atom without neighbors\n"
     ]
    },
    {
     "name": "stdout",
     "output_type": "stream",
     "text": [
      "SR-p53\n",
      "Reproductive_Toxicity\n"
     ]
    },
    {
     "name": "stderr",
     "output_type": "stream",
     "text": [
      "[11:08:45] WARNING: not removing hydrogen atom without neighbors\n"
     ]
    },
    {
     "name": "stdout",
     "output_type": "stream",
     "text": [
      "NR-ER\n"
     ]
    },
    {
     "name": "stderr",
     "output_type": "stream",
     "text": [
      "[11:09:40] WARNING: not removing hydrogen atom without neighbors\n"
     ]
    },
    {
     "name": "stdout",
     "output_type": "stream",
     "text": [
      "SR-HSE\n"
     ]
    },
    {
     "name": "stderr",
     "output_type": "stream",
     "text": [
      "[11:10:39] WARNING: not removing hydrogen atom without neighbors\n"
     ]
    },
    {
     "name": "stdout",
     "output_type": "stream",
     "text": [
      "SR-MMP\n"
     ]
    },
    {
     "name": "stderr",
     "output_type": "stream",
     "text": [
      "[11:11:31] WARNING: not removing hydrogen atom without neighbors\n"
     ]
    },
    {
     "name": "stdout",
     "output_type": "stream",
     "text": [
      "SR-ATAD5\n"
     ]
    },
    {
     "name": "stderr",
     "output_type": "stream",
     "text": [
      "[11:12:34] WARNING: not removing hydrogen atom without neighbors\n"
     ]
    },
    {
     "name": "stdout",
     "output_type": "stream",
     "text": [
      "NR-PPAR-gamma\n",
      "Carcinogenicity\n"
     ]
    },
    {
     "name": "stderr",
     "output_type": "stream",
     "text": [
      "[11:13:42] WARNING: not removing hydrogen atom without neighbors\n"
     ]
    },
    {
     "name": "stdout",
     "output_type": "stream",
     "text": [
      "NR-ER-LBD\n",
      "Cardiotoxicity-10\n",
      "Cardiotoxicity-5\n"
     ]
    },
    {
     "name": "stderr",
     "output_type": "stream",
     "text": [
      "[11:15:14] WARNING: not removing hydrogen atom without neighbors\n"
     ]
    },
    {
     "name": "stdout",
     "output_type": "stream",
     "text": [
      "NR-aromatase\n",
      "Developmental_Toxicity\n",
      "Ames_Mutagenicity\n"
     ]
    },
    {
     "name": "stderr",
     "output_type": "stream",
     "text": [
      "[11:17:17] WARNING: not removing hydrogen atom without neighbors\n"
     ]
    },
    {
     "name": "stdout",
     "output_type": "stream",
     "text": [
      "NR-AR\n",
      "Cardiotoxicity-1\n"
     ]
    }
   ],
   "source": [
    "#30/7/24 This file, given a folder full of processed Toxric datasets, extracts MACCS, Morgan, Avalon and TTorsion\n",
    "#Fingerprints and deposits them in Honours/Data/Structure/Fingerprints\n",
    "\n",
    "import os\n",
    "import pandas as pd\n",
    "import numpy as np\n",
    "from rdkit import Chem\n",
    "from rdkit.Chem import rdFingerprintGenerator\n",
    "from rdkit.Chem.Draw import IPythonConsole\n",
    "from rdkit import DataStructs\n",
    "import rdkit\n",
    "from rdkit.Chem import PandasTools\n",
    "from rdkit import Chem\n",
    "from rdkit.Chem import rdFingerprintGenerator\n",
    "from rdkit.Chem.Draw import IPythonConsole\n",
    "from rdkit import DataStructs\n",
    "import rdkit\n",
    "from rdkit.Chem import rdMolDescriptors\n",
    "from rdkit.Chem import MACCSkeys\n",
    "from rdkit.Avalon import pyAvalonTools\n",
    "\n",
    "\n",
    "directory = os.fsencode('/Users/james/Documents/Honours/Data/ProcessedRaws')\n",
    "dataframes = []\n",
    "filenames = []\n",
    "for file in os.listdir(directory):\n",
    "    filename = os.fsdecode(file)    \n",
    "    filename = filename\n",
    "    if 'csv' in filename:\n",
    "        length = len(filename)\n",
    "        datanam = filename[:(length-4)]\n",
    "        filenames.append(datanam)\n",
    "        pathname = '/Users/james/Documents/Honours/Data/ProcessedRaws/' + filename\n",
    "        newdata = pd.read_csv(pathname)\n",
    "        dataframes.append(newdata)\n",
    "\n",
    "loops = 0\n",
    "for df in dataframes:\n",
    "    smiles = df['SMILES']\n",
    "    toxvals = df['Toxicity_Value']\n",
    "    \n",
    "    PandasTools.AddMoleculeColumnToFrame(df,'SMILES', 'Structure')\n",
    "    \n",
    "    MACCSfp = []\n",
    "    Avafp = []\n",
    "    Morganfp = []\n",
    "    TTorsionfp = []\n",
    "\n",
    "    for items in df.Structure:\n",
    "        MACCSfp.append(MACCSkeys.GenMACCSKeys(items))\n",
    "        Avafp.append(pyAvalonTools.GetAvalonFP(items, nBits=512))\n",
    "        Morganfp.append(rdMolDescriptors.GetMorganFingerprintAsBitVect(items, radius=2))\n",
    "        TTorsionfp.append(rdMolDescriptors.GetHashedTopologicalTorsionFingerprintAsBitVect(items, nBits=512))\n",
    "    path = '/Users/james/Documents/Honours/Data/Fingerprints/'\n",
    "    data = []\n",
    "    for items in MACCSfp:\n",
    "        items = np.array(items)\n",
    "        data.append(items)\n",
    "    Morganframe = pd.DataFrame(data)\n",
    "    newframe = pd.concat([df, Morganframe], axis=1)\n",
    "    newframe = newframe.drop('Structure', axis=1)\n",
    "    extension = '_MACCSfp.csv'\n",
    "    dataname = filenames[loops]\n",
    "    name = path + dataname + extension\n",
    "    newframe.to_csv(name, index=False)\n",
    "\n",
    "    data = []\n",
    "    for items in Avafp:\n",
    "        items = np.array(items)\n",
    "        data.append(items)\n",
    "    Morganframe = pd.DataFrame(data)\n",
    "    newframe = pd.concat([df, Morganframe], axis=1)\n",
    "    newframe = newframe.drop('Structure', axis=1)\n",
    "    extension = '_Avafp.csv'\n",
    "    dataname = filenames[loops]\n",
    "    name = path + dataname + extension\n",
    "    newframe.to_csv(name, index=False)\n",
    "\n",
    "    data = []\n",
    "    for items in TTorsionfp:\n",
    "        items = np.array(items)\n",
    "        data.append(items)\n",
    "    Morganframe = pd.DataFrame(data)\n",
    "    newframe = pd.concat([df, Morganframe], axis=1)\n",
    "    newframe = newframe.drop('Structure', axis=1)\n",
    "    extension = '_TTorsionfp.csv'\n",
    "    dataname = filenames[loops]\n",
    "    name = path + dataname + extension\n",
    "    newframe.to_csv(name, index=False)\n",
    "\n",
    "    data = []\n",
    "    for items in Morganfp:\n",
    "        items = np.array(items)\n",
    "        data.append(items)\n",
    "    Morganframe = pd.DataFrame(data)\n",
    "    newframe = pd.concat([df, Morganframe], axis=1)\n",
    "    newframe = newframe.drop('Structure', axis=1)\n",
    "    extension = '_Morganfp.csv'\n",
    "    dataname = filenames[loops]\n",
    "    name = path + dataname + extension\n",
    "    newframe.to_csv(name, index=False)\n",
    "    \n",
    "    print(filenames[loops])\n",
    "    loops = loops + 1\n",
    "    \n",
    "#After being converted and placed into the adequate folder, the files had their names manually cleaned"
   ]
  },
  {
   "cell_type": "code",
   "execution_count": 1,
   "id": "06bf3e33",
   "metadata": {},
   "outputs": [
    {
     "name": "stderr",
     "output_type": "stream",
     "text": [
      "[11:12:48] WARNING: not removing hydrogen atom without neighbors\n"
     ]
    },
    {
     "name": "stdout",
     "output_type": "stream",
     "text": [
      "NR-AR-LBD\n",
      "SR-ARE\n"
     ]
    },
    {
     "name": "stderr",
     "output_type": "stream",
     "text": [
      "[12:02:22] WARNING: not removing hydrogen atom without neighbors\n"
     ]
    },
    {
     "name": "stdout",
     "output_type": "stream",
     "text": [
      "NR-AhR\n"
     ]
    },
    {
     "name": "stderr",
     "output_type": "stream",
     "text": [
      "[12:20:22] WARNING: not removing hydrogen atom without neighbors\n"
     ]
    },
    {
     "name": "stdout",
     "output_type": "stream",
     "text": [
      "SR-p53\n"
     ]
    },
    {
     "name": "stderr",
     "output_type": "stream",
     "text": [
      "[14:14:53] WARNING: not removing hydrogen atom without neighbors\n"
     ]
    },
    {
     "name": "stdout",
     "output_type": "stream",
     "text": [
      "NR-ER\n"
     ]
    },
    {
     "name": "stderr",
     "output_type": "stream",
     "text": [
      "[14:15:48] WARNING: not removing hydrogen atom without neighbors\n"
     ]
    },
    {
     "name": "stdout",
     "output_type": "stream",
     "text": [
      "SR-HSE\n"
     ]
    },
    {
     "name": "stderr",
     "output_type": "stream",
     "text": [
      "[14:16:45] WARNING: not removing hydrogen atom without neighbors\n"
     ]
    },
    {
     "name": "stdout",
     "output_type": "stream",
     "text": [
      "SR-MMP\n"
     ]
    },
    {
     "name": "stderr",
     "output_type": "stream",
     "text": [
      "[14:17:37] WARNING: not removing hydrogen atom without neighbors\n"
     ]
    },
    {
     "name": "stdout",
     "output_type": "stream",
     "text": [
      "SR-ATAD5\n"
     ]
    },
    {
     "name": "stderr",
     "output_type": "stream",
     "text": [
      "[14:18:39] WARNING: not removing hydrogen atom without neighbors\n"
     ]
    },
    {
     "name": "stdout",
     "output_type": "stream",
     "text": [
      "NR-PPAR-gamma\n"
     ]
    },
    {
     "name": "stderr",
     "output_type": "stream",
     "text": [
      "[14:19:36] WARNING: not removing hydrogen atom without neighbors\n"
     ]
    },
    {
     "name": "stdout",
     "output_type": "stream",
     "text": [
      "NR-ER-LBD\n"
     ]
    },
    {
     "name": "stderr",
     "output_type": "stream",
     "text": [
      "[14:20:38] WARNING: not removing hydrogen atom without neighbors\n"
     ]
    },
    {
     "name": "stdout",
     "output_type": "stream",
     "text": [
      "NR-aromatase\n"
     ]
    },
    {
     "name": "stderr",
     "output_type": "stream",
     "text": [
      "[14:21:30] WARNING: not removing hydrogen atom without neighbors\n"
     ]
    },
    {
     "name": "stdout",
     "output_type": "stream",
     "text": [
      "NR-AR\n"
     ]
    }
   ],
   "source": [
    "#For the various Endocrine Toxicity Sets\n",
    "\n",
    "import os\n",
    "import pandas as pd\n",
    "import numpy as np\n",
    "from rdkit import Chem\n",
    "from rdkit.Chem import rdFingerprintGenerator\n",
    "from rdkit.Chem.Draw import IPythonConsole\n",
    "from rdkit import DataStructs\n",
    "import rdkit\n",
    "from rdkit.Chem import PandasTools\n",
    "from rdkit import Chem\n",
    "from rdkit.Chem import rdFingerprintGenerator\n",
    "from rdkit.Chem.Draw import IPythonConsole\n",
    "from rdkit import DataStructs\n",
    "import rdkit\n",
    "from rdkit.Chem import rdMolDescriptors\n",
    "from rdkit.Chem import MACCSkeys\n",
    "from rdkit.Avalon import pyAvalonTools\n",
    "\n",
    "\n",
    "directory = os.fsencode('/Users/james/Documents/Honours/Data/Endocrine/Rawdata/FormattedRaw')\n",
    "dataframes = []\n",
    "filenames = []\n",
    "for file in os.listdir(directory):\n",
    "    filename = os.fsdecode(file)    \n",
    "    filename = filename\n",
    "    if 'csv' in filename:\n",
    "        length = len(filename)\n",
    "        datanam = filename[:(length-4)]\n",
    "        filenames.append(datanam)\n",
    "        pathname = '/Users/james/Documents/Honours/Data/Endocrine/Rawdata/FormattedRaw/' + filename\n",
    "        newdata = pd.read_csv(pathname)\n",
    "        dataframes.append(newdata)\n",
    "\n",
    "loops = 0\n",
    "for df in dataframes:\n",
    "    smiles = df['SMILES']\n",
    "    toxvals = df['Toxicity_Values']\n",
    "    \n",
    "    PandasTools.AddMoleculeColumnToFrame(df,'SMILES', 'Structure')\n",
    "    \n",
    "    MACCSfp = []\n",
    "    Avafp = []\n",
    "    Morganfp = []\n",
    "    TTorsionfp = []\n",
    "\n",
    "    for items in df.Structure:\n",
    "        MACCSfp.append(MACCSkeys.GenMACCSKeys(items))\n",
    "        Avafp.append(pyAvalonTools.GetAvalonFP(items, nBits=512))\n",
    "        Morganfp.append(rdMolDescriptors.GetMorganFingerprintAsBitVect(items, radius=2))\n",
    "        TTorsionfp.append(rdMolDescriptors.GetHashedTopologicalTorsionFingerprintAsBitVect(items, nBits=512))\n",
    "    path = '/Users/james/Documents/Honours/Data/Fingerprints/'\n",
    "    data = []\n",
    "    for items in MACCSfp:\n",
    "        items = np.array(items)\n",
    "        data.append(items)\n",
    "    Morganframe = pd.DataFrame(data)\n",
    "    newframe = pd.concat([df, Morganframe], axis=1)\n",
    "    newframe = newframe.drop('Structure', axis=1)\n",
    "    extension = 'MACCSfp.csv'\n",
    "    dataname = filenames[loops]\n",
    "    name = path + dataname + extension\n",
    "    newframe.to_csv(name, index=False)\n",
    "\n",
    "    data = []\n",
    "    for items in Avafp:\n",
    "        items = np.array(items)\n",
    "        data.append(items)\n",
    "    Morganframe = pd.DataFrame(data)\n",
    "    newframe = pd.concat([df, Morganframe], axis=1)\n",
    "    newframe = newframe.drop('Structure', axis=1)\n",
    "    extension = 'Avafp.csv'\n",
    "    dataname = filenames[loops]\n",
    "    name = path + dataname + extension\n",
    "    newframe.to_csv(name, index=False)\n",
    "\n",
    "    data = []\n",
    "    for items in TTorsionfp:\n",
    "        items = np.array(items)\n",
    "        data.append(items)\n",
    "    Morganframe = pd.DataFrame(data)\n",
    "    newframe = pd.concat([df, Morganframe], axis=1)\n",
    "    newframe = newframe.drop('Structure', axis=1)\n",
    "    extension = 'TTorsionfp.csv'\n",
    "    dataname = filenames[loops]\n",
    "    name = path + dataname + extension\n",
    "    newframe.to_csv(name, index=False)\n",
    "\n",
    "    data = []\n",
    "    for items in Morganfp:\n",
    "        items = np.array(items)\n",
    "        data.append(items)\n",
    "    Morganframe = pd.DataFrame(data)\n",
    "    newframe = pd.concat([df, Morganframe], axis=1)\n",
    "    newframe = newframe.drop('Structure', axis=1)\n",
    "    extension = 'Morganfp.csv'\n",
    "    dataname = filenames[loops]\n",
    "    name = path + dataname + extension\n",
    "    newframe.to_csv(name, index=False)\n",
    "    \n",
    "    print(filenames[loops])\n",
    "    loops = loops + 1\n",
    "    \n",
    "#After being converted and placed into the adequate folder, the files had their names manually cleaned"
   ]
  },
  {
   "cell_type": "code",
   "execution_count": 21,
   "id": "816fc6c2",
   "metadata": {},
   "outputs": [
    {
     "data": {
      "text/plain": [
       "'Respiratory_Toxicity.'"
      ]
     },
     "execution_count": 21,
     "metadata": {},
     "output_type": "execute_result"
    }
   ],
   "source": [
    "bing = len(filename)\n",
    "filename[:(bing-4)]"
   ]
  }
 ],
 "metadata": {
  "kernelspec": {
   "display_name": "Python 3 (ipykernel)",
   "language": "python",
   "name": "python3"
  },
  "language_info": {
   "codemirror_mode": {
    "name": "ipython",
    "version": 3
   },
   "file_extension": ".py",
   "mimetype": "text/x-python",
   "name": "python",
   "nbconvert_exporter": "python",
   "pygments_lexer": "ipython3",
   "version": "3.11.0"
  }
 },
 "nbformat": 4,
 "nbformat_minor": 5
}
