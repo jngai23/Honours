{
 "cells": [
  {
   "cell_type": "code",
   "execution_count": 1,
   "id": "4483e348",
   "metadata": {},
   "outputs": [],
   "source": [
    "#15/8/24 This file prepares the unified SMILES file for PaDEL extraction \n",
    "#Converts the file into a folder containing each SMILE as a text document\n",
    "\n",
    "import pandas as pd\n",
    "import numpy as np\n",
    "import os\n",
    "\n",
    "df = pd.read_csv('/Users/james/Documents/Honours/Data/Unified_SMILES/Unified_SMILES.csv')"
   ]
  },
  {
   "cell_type": "code",
   "execution_count": 5,
   "id": "131444a9",
   "metadata": {},
   "outputs": [
    {
     "data": {
      "text/plain": [
       "array(['S=c1nc[nH]c2nc[nH]c12',\n",
       "       '[NH3+][C@@H](CC(=O)N1CCn2c(nnc2C(F)(F)F)C1)Cc1cc(F)c(F)cc1F',\n",
       "       'Nc1nnc(-c2cccc(Cl)c2Cl)c(N)n1', ...,\n",
       "       'CCCCCCOc1ccc(C(=N)N(CCCC)CCCC)c2ccccc12',\n",
       "       'CCNC(=O)[C@@H]1CCCN1C(=O)[C@H](CCCNC(=N)N)NC(=O)[C@H](CC(C)C)NC(=O)[C@@H](Cc1c[nH]c2ccccc12)NC(=O)[C@H](Cc1ccc(O)cc1)NC(=O)[C@H](CO)NC(=O)[C@H](Cc1c[nH]c2ccccc12)NC(=O)[C@H](Cc1c[nH]cn1)NC(=O)[C@@H]1CCC(=O)N1',\n",
       "       'CCCCC(CC)CNC(=N)NC(=N)NCCCCCCNC(=N)NC(=N)NCC(CC)CCCC'],\n",
       "      dtype=object)"
      ]
     },
     "execution_count": 5,
     "metadata": {},
     "output_type": "execute_result"
    }
   ],
   "source": [
    "smiles = df['SMILES'].values\n",
    "directory = '/Users/james/Documents/Honours/Data/Unified_SMILES/padel_unified/'\n"
   ]
  }
 ],
 "metadata": {
  "kernelspec": {
   "display_name": "Python 3 (ipykernel)",
   "language": "python",
   "name": "python3"
  },
  "language_info": {
   "codemirror_mode": {
    "name": "ipython",
    "version": 3
   },
   "file_extension": ".py",
   "mimetype": "text/x-python",
   "name": "python",
   "nbconvert_exporter": "python",
   "pygments_lexer": "ipython3",
   "version": "3.11.0"
  }
 },
 "nbformat": 4,
 "nbformat_minor": 5
}
