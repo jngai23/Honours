{
 "cells": [
  {
   "cell_type": "code",
   "execution_count": 7,
   "id": "556572d3",
   "metadata": {
    "scrolled": true
   },
   "outputs": [],
   "source": [
    "#11/6/24 Preprocessing of raw endocrine toxicity data taken from the Toxric Database\n",
    "#Originally form the Tox21 database\n",
    "#Aims to convert the files in the given\n",
    "\n",
    "import os\n",
    "import pandas as pd\n",
    "import numpy as np\n",
    "\n",
    "directory = os.fsencode('/Users/james/Documents/Honours/Data/rawdata/rawendodata/Endodata')\n",
    "dataframes = []\n",
    "filenames = []\n",
    "for file in os.listdir(directory):\n",
    "    filename = os.fsdecode(file)\n",
    "    if filename != 'processedendodata':\n",
    "        if 'csv' in filename:\n",
    "        filenames.append(filename)\n",
    "            pathname = '/Users/james/Documents/Honours/Data/rawdata/rawendodata/Endodata/' + filename\n",
    "            newdata = pd.read_csv(pathname)\n",
    "            dataframes.append(newdata)\n",
    "\n",
    "loops = 0\n",
    "newframes = []\n",
    "for dataframe in dataframes:    \n",
    "    smiles = dataframe['Canonical SMILES']\n",
    "    toxvals = dataframe['Toxicity Value']\n",
    "\n",
    "    newframe = pd.concat([smiles, toxvals], axis=1)\n",
    "    newframe.rename(columns={'Canonical SMILES': 'SMILES', 'Toxicity Value': 'Toxicity_Values'}, inplace=True)\n",
    "    newframes.append(newframe)\n",
    "    path = '/Users/james/Documents/Honours/Data/rawdata/rawendodata/Endodata/processedendodata/'\n",
    "    file = filenames[loops].split('_', 1)[1]\n",
    "    pathname = path + file\n",
    "    newframe.to_csv(pathname, index=False)\n",
    "    loops = loops + 1"
   ]
  },
  {
   "cell_type": "code",
   "execution_count": 6,
   "id": "d0e05691",
   "metadata": {},
   "outputs": [
    {
     "data": {
      "text/plain": [
       "'.DS_Store'"
      ]
     },
     "execution_count": 6,
     "metadata": {},
     "output_type": "execute_result"
    }
   ],
   "source": []
  },
  {
   "cell_type": "code",
   "execution_count": null,
   "id": "14cec1f1",
   "metadata": {},
   "outputs": [],
   "source": [
    "parts = filenames[0].split('_', 1)\n",
    "print(parts[1])"
   ]
  },
  {
   "cell_type": "code",
   "execution_count": null,
   "id": "5ff9f169",
   "metadata": {},
   "outputs": [],
   "source": [
    "zercount = 0\n",
    "for item in newtox:\n",
    "    if item == 0:\n",
    "        zercount = zercount + 1"
   ]
  },
  {
   "cell_type": "code",
   "execution_count": null,
   "id": "beb918d9",
   "metadata": {},
   "outputs": [],
   "source": []
  }
 ],
 "metadata": {
  "kernelspec": {
   "display_name": "Python 3 (ipykernel)",
   "language": "python",
   "name": "python3"
  },
  "language_info": {
   "codemirror_mode": {
    "name": "ipython",
    "version": 3
   },
   "file_extension": ".py",
   "mimetype": "text/x-python",
   "name": "python",
   "nbconvert_exporter": "python",
   "pygments_lexer": "ipython3",
   "version": "3.11.0"
  }
 },
 "nbformat": 4,
 "nbformat_minor": 5
}
