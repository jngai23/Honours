{
 "cells": [
  {
   "cell_type": "code",
   "execution_count": 4,
   "id": "dcb6fa42",
   "metadata": {},
   "outputs": [],
   "source": [
    "#14/8/24 Extracts all unique SMILES from Toxric datasets and collates them into one dataframe\n",
    "#This congregate file can then have its features extracted and reallocated to each original frame\n",
    "\n",
    "import numpy as np\n",
    "import pandas as pd\n",
    "import os\n",
    "import sys\n",
    "import math\n",
    "\n",
    "datasets = []\n",
    "index = []\n",
    "directory = '/Users/james/Documents/Honours/Data/ProcessedRaws/'\n",
    "namelist = []\n",
    "smiles = []\n",
    "for file in os.listdir(directory):\n",
    "    filename = os.fsdecode(file)\n",
    "    if 'csv' in filename:\n",
    "        pathname = directory + file\n",
    "        df = pd.read_csv(pathname)\n",
    "        smiles.append(df['SMILES'].values)"
   ]
  },
  {
   "cell_type": "code",
   "execution_count": 8,
   "id": "0b64fd96",
   "metadata": {},
   "outputs": [
    {
     "name": "stdout",
     "output_type": "stream",
     "text": [
      "95696\n"
     ]
    }
   ],
   "source": [
    "smilelist = []\n",
    "for dataset in smiles:\n",
    "    for smile in dataset:\n",
    "        smilelist.append(smile)\n",
    "print(len(smilelist))"
   ]
  },
  {
   "cell_type": "code",
   "execution_count": 9,
   "id": "0b44c459",
   "metadata": {},
   "outputs": [],
   "source": [
    "test = list(dict.fromkeys(smilelist))"
   ]
  },
  {
   "cell_type": "code",
   "execution_count": 11,
   "id": "a2df4b7d",
   "metadata": {},
   "outputs": [
    {
     "data": {
      "text/plain": [
       "17773"
      ]
     },
     "execution_count": 11,
     "metadata": {},
     "output_type": "execute_result"
    }
   ],
   "source": [
    "len(test)"
   ]
  },
  {
   "cell_type": "code",
   "execution_count": 18,
   "id": "b78357aa",
   "metadata": {},
   "outputs": [],
   "source": [
    "temp = pd.DataFrame(test)\n",
    "temp.columns = ['SMILES']"
   ]
  },
  {
   "cell_type": "code",
   "execution_count": 20,
   "id": "091ee77f",
   "metadata": {
    "scrolled": true
   },
   "outputs": [],
   "source": [
    "temp.to_csv('/Users/james/Documents/Honours/Data/Unified_SMILES/Unified_SMILES.csv')"
   ]
  }
 ],
 "metadata": {
  "kernelspec": {
   "display_name": "Python 3 (ipykernel)",
   "language": "python",
   "name": "python3"
  },
  "language_info": {
   "codemirror_mode": {
    "name": "ipython",
    "version": 3
   },
   "file_extension": ".py",
   "mimetype": "text/x-python",
   "name": "python",
   "nbconvert_exporter": "python",
   "pygments_lexer": "ipython3",
   "version": "3.11.0"
  }
 },
 "nbformat": 4,
 "nbformat_minor": 5
}
