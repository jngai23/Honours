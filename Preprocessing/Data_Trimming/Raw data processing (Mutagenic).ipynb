{
 "cells": [
  {
   "cell_type": "code",
   "execution_count": 17,
   "id": "f5edbb96",
   "metadata": {},
   "outputs": [],
   "source": [
    "#7/6/24 Notebook to preprocess data from the Toxric database in a less convoluted manner \n",
    "#(one notebook compared to a collection of .py and .sh files)\n",
    "#Starting with Mutagenicity\n",
    "\n",
    "import numpy as py\n",
    "import pandas as pd\n",
    "\n",
    "#Load dataframe\n",
    "df = pd.read_csv('/Users/james/Documents/Honours/Data/rawdata/Mutagenicity_Ames Mutagenicity.csv')\n",
    "#Collate main columns (SMILES and toxicity values) into a new dataframe\n",
    "smiles = df['Canonical SMILES']\n",
    "toxvals = df['Toxicity Value']\n",
    "#LnChlKey = df['InChIKey']\n",
    "newdf = pd.concat([smiles, toxvals], axis=1)\n",
    "#newdf = pd.concat([newdf, LnChlKey], axis=1)\n",
    "#Rename columns\n",
    "newdf = newdf.rename(columns={'Canonical SMILES': 'SMILES', 'Toxicity Value': 'Toxicity_Value'})\n",
    "newdf = newdf.dropna()\n",
    "#Check for null values\n",
    "nullcheck = pd.isnull(newdf)\n",
    "for cell in nullcheck['Toxicity_Value']:\n",
    "    if cell == True:\n",
    "        print('bing')\n",
    "#None where found\n",
    "\n",
    "#Output to file\n",
    "newdf.to_csv('/Users/james/Documents/Honours/Data/rawdata/rawmutagendata.csv', index=False)"
   ]
  },
  {
   "cell_type": "code",
   "execution_count": 19,
   "id": "f09d550a",
   "metadata": {
    "scrolled": false
   },
   "outputs": [],
   "source": [
    "import pandas as pd\n",
    "newdf = pd.read_csv('/Users/james/Documents/Honours/Data/rawdata/rawendodata/Endodata/processedendodata/NR-AR.csv')"
   ]
  },
  {
   "cell_type": "code",
   "execution_count": 20,
   "id": "80dcaf33",
   "metadata": {
    "scrolled": true
   },
   "outputs": [],
   "source": [
    "zercount = 0\n",
    "for item in newdf['Toxicity_Values']:\n",
    "    if item == 0:\n",
    "        zercount = zercount + 1"
   ]
  },
  {
   "cell_type": "code",
   "execution_count": 21,
   "id": "44ca40a8",
   "metadata": {},
   "outputs": [
    {
     "data": {
      "text/plain": [
       "6815"
      ]
     },
     "execution_count": 21,
     "metadata": {},
     "output_type": "execute_result"
    }
   ],
   "source": [
    "zercount"
   ]
  },
  {
   "cell_type": "code",
   "execution_count": 22,
   "id": "7a6f5e19",
   "metadata": {
    "scrolled": true
   },
   "outputs": [
    {
     "data": {
      "text/html": [
       "<div>\n",
       "<style scoped>\n",
       "    .dataframe tbody tr th:only-of-type {\n",
       "        vertical-align: middle;\n",
       "    }\n",
       "\n",
       "    .dataframe tbody tr th {\n",
       "        vertical-align: top;\n",
       "    }\n",
       "\n",
       "    .dataframe thead th {\n",
       "        text-align: right;\n",
       "    }\n",
       "</style>\n",
       "<table border=\"1\" class=\"dataframe\">\n",
       "  <thead>\n",
       "    <tr style=\"text-align: right;\">\n",
       "      <th></th>\n",
       "      <th>SMILES</th>\n",
       "      <th>Toxicity_Values</th>\n",
       "    </tr>\n",
       "  </thead>\n",
       "  <tbody>\n",
       "    <tr>\n",
       "      <th>0</th>\n",
       "      <td>CC(C)C[C@H](NC(=O)[C@H](Cc1ccccc1)NC(=O)c1cncc...</td>\n",
       "      <td>0</td>\n",
       "    </tr>\n",
       "    <tr>\n",
       "      <th>1</th>\n",
       "      <td>O=C1O[C@H]([C@@H](O)CO)C([O-])=C1O</td>\n",
       "      <td>0</td>\n",
       "    </tr>\n",
       "    <tr>\n",
       "      <th>2</th>\n",
       "      <td>OC[C@H]1O[C@](O)(CO)[C@@H](O)[C@@H]1O[C@@H]1O[...</td>\n",
       "      <td>0</td>\n",
       "    </tr>\n",
       "    <tr>\n",
       "      <th>3</th>\n",
       "      <td>OC[C@H]1O[C@H](O[C@]2(CO)O[C@H](CO)[C@@H](O)[C...</td>\n",
       "      <td>0</td>\n",
       "    </tr>\n",
       "    <tr>\n",
       "      <th>4</th>\n",
       "      <td>O=C1O[C@H](CO)[C@@H](O)[C@H](O)[C@H]1O</td>\n",
       "      <td>0</td>\n",
       "    </tr>\n",
       "    <tr>\n",
       "      <th>...</th>\n",
       "      <td>...</td>\n",
       "      <td>...</td>\n",
       "    </tr>\n",
       "    <tr>\n",
       "      <th>7113</th>\n",
       "      <td>O=C1C(CCS(=O)c2ccccc2)C(=O)N(c2ccccc2)N1c1ccccc1</td>\n",
       "      <td>0</td>\n",
       "    </tr>\n",
       "    <tr>\n",
       "      <th>7114</th>\n",
       "      <td>Cc1cc(Cl)ccc1N=CN(C)C</td>\n",
       "      <td>0</td>\n",
       "    </tr>\n",
       "    <tr>\n",
       "      <th>7115</th>\n",
       "      <td>N=C(N)NC(=O)c1nc(Cl)c(N)nc1N</td>\n",
       "      <td>0</td>\n",
       "    </tr>\n",
       "    <tr>\n",
       "      <th>7116</th>\n",
       "      <td>Nc1nc(=O)c2ncn(CCC(CO)CO)c2[nH]1</td>\n",
       "      <td>0</td>\n",
       "    </tr>\n",
       "    <tr>\n",
       "      <th>7117</th>\n",
       "      <td>O=c1[n-]c(=O)n(Cl)c(=O)n1Cl</td>\n",
       "      <td>0</td>\n",
       "    </tr>\n",
       "  </tbody>\n",
       "</table>\n",
       "<p>7118 rows × 2 columns</p>\n",
       "</div>"
      ],
      "text/plain": [
       "                                                 SMILES  Toxicity_Values\n",
       "0     CC(C)C[C@H](NC(=O)[C@H](Cc1ccccc1)NC(=O)c1cncc...                0\n",
       "1                    O=C1O[C@H]([C@@H](O)CO)C([O-])=C1O                0\n",
       "2     OC[C@H]1O[C@](O)(CO)[C@@H](O)[C@@H]1O[C@@H]1O[...                0\n",
       "3     OC[C@H]1O[C@H](O[C@]2(CO)O[C@H](CO)[C@@H](O)[C...                0\n",
       "4                O=C1O[C@H](CO)[C@@H](O)[C@H](O)[C@H]1O                0\n",
       "...                                                 ...              ...\n",
       "7113   O=C1C(CCS(=O)c2ccccc2)C(=O)N(c2ccccc2)N1c1ccccc1                0\n",
       "7114                              Cc1cc(Cl)ccc1N=CN(C)C                0\n",
       "7115                       N=C(N)NC(=O)c1nc(Cl)c(N)nc1N                0\n",
       "7116                   Nc1nc(=O)c2ncn(CCC(CO)CO)c2[nH]1                0\n",
       "7117                        O=c1[n-]c(=O)n(Cl)c(=O)n1Cl                0\n",
       "\n",
       "[7118 rows x 2 columns]"
      ]
     },
     "execution_count": 22,
     "metadata": {},
     "output_type": "execute_result"
    }
   ],
   "source": [
    "newdf"
   ]
  }
 ],
 "metadata": {
  "kernelspec": {
   "display_name": "Python 3 (ipykernel)",
   "language": "python",
   "name": "python3"
  },
  "language_info": {
   "codemirror_mode": {
    "name": "ipython",
    "version": 3
   },
   "file_extension": ".py",
   "mimetype": "text/x-python",
   "name": "python",
   "nbconvert_exporter": "python",
   "pygments_lexer": "ipython3",
   "version": "3.11.0"
  }
 },
 "nbformat": 4,
 "nbformat_minor": 5
}
