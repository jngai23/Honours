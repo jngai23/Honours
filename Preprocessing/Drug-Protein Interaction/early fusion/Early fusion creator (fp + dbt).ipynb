{
 "cells": [
  {
   "cell_type": "code",
   "execution_count": 78,
   "id": "24008e2e",
   "metadata": {},
   "outputs": [],
   "source": [
    "#8/8/24 Creating early fusion (not cold fusion) using morgan fingerprints and drugbank ids\n",
    "#By doing this we get an amalgalm dataset including both drug target data and fingerprint data\n",
    "#maybe better for prediction?\n",
    "\n",
    "import os\n",
    "import pandas as pd\n",
    "import numpy as np\n",
    "import math\n",
    "import matplotlib.pyplot as plt\n",
    "from sklearn.model_selection import train_test_split\n",
    "import sys\n",
    "sys.path.insert(1, '/Users/james/Documents/Honours/Python')\n",
    "from Function_Repo import metriccalc \n",
    "from Function_Repo import setbalance\n",
    "import math\n",
    "\n",
    "seed = 81\n",
    "#Data import\n",
    "#drugbank data\n",
    "dbdatasets = []\n",
    "index = []\n",
    "directory = '/Users/james/Documents/Honours/Data/Targets/Drugbank/datasets/'\n",
    "dbnamelist = []\n",
    "for file in os.listdir(directory):\n",
    "    filename = os.fsdecode(file)\n",
    "    if 'csv' in filename:\n",
    "        pathname = directory + file\n",
    "        df = pd.read_csv(pathname)\n",
    "        df = df.drop(['Unnamed: 0'], axis = 1)\n",
    "        dbdatasets.append(df)\n",
    "        dbnamelist.append(filename[:-13])\n",
    "#fingerprints\n",
    "fpdatasets = []\n",
    "index = []\n",
    "directory = '/Users/james/Documents/Honours/Data/Fingerprints/'\n",
    "fpnamelist = []\n",
    "for file in os.listdir(directory):\n",
    "    filename = os.fsdecode(file)\n",
    "    if 'csv' and 'organ' in filename and 'elopmental' not in filename and 'Reproductive' not in filename and 'iratory' not in filename:\n",
    "        pathname = directory + file\n",
    "        df = pd.read_csv(pathname)\n",
    "#        df.drop(columns=['SMILES'], inplace=True)\n",
    "        fpdatasets.append(df)\n",
    "        fpnamelist.append(filename[:-13])\n",
    "#raws\n",
    "rawlist = []\n",
    "index = []\n",
    "directory = '/Users/james/Documents/Honours/Data/Raws/'\n",
    "rawnames = []\n",
    "for file in os.listdir(directory):\n",
    "    filename = os.fsdecode(file)\n",
    "    if 'csv' in filename and 'elopmental' not in filename and 'Reproductive' not in filename and 'iratory' not in filename:\n",
    "        pathname = directory + file\n",
    "        df = pd.read_csv(pathname)\n",
    "#        df.drop(columns=['SMILES'], inplace=True)\n",
    "        rawlist.append(df)\n",
    "        rawnames.append(filename)"
   ]
  },
  {
   "cell_type": "code",
   "execution_count": 79,
   "id": "97e6a3dd",
   "metadata": {},
   "outputs": [
    {
     "data": {
      "text/plain": [
       "['Cardiotoxicity_Cardiotoxicity-10.csv',\n",
       " 'Carcinogenicity_Carcinogenicity.csv',\n",
       " 'Endocrine Disruption_NR-aromatase.csv',\n",
       " 'Hepatotoxicity_Hepatotoxicity.csv',\n",
       " 'Endocrine Disruption_SR-p53.csv',\n",
       " 'Endocrine Disruption_NR-AhR.csv',\n",
       " 'Endocrine Disruption_NR-AR-LBD.csv',\n",
       " 'Endocrine Disruption_SR-ARE.csv',\n",
       " 'Cardiotoxicity_Cardiotoxicity-5.csv',\n",
       " 'Endocrine Disruption_NR-ER.csv',\n",
       " 'Cardiotoxicity_Cardiotoxicity-1.csv',\n",
       " 'Endocrine Disruption_NR-ER-LBD.csv',\n",
       " 'Endocrine Disruption_NR-PPAR-gamma.csv',\n",
       " 'Endocrine Disruption_NR-AR.csv',\n",
       " 'Mutagenicity_Ames Mutagenicity.csv',\n",
       " 'Cardiotoxicity_Cardiotoxicity-30.csv',\n",
       " 'Endocrine Disruption_SR-ATAD5.csv',\n",
       " 'Endocrine Disruption_SR-HSE.csv',\n",
       " 'Endocrine Disruption_SR-MMP.csv']"
      ]
     },
     "execution_count": 79,
     "metadata": {},
     "output_type": "execute_result"
    }
   ],
   "source": [
    "rawnames"
   ]
  },
  {
   "cell_type": "code",
   "execution_count": 80,
   "id": "50c34d09",
   "metadata": {},
   "outputs": [],
   "source": [
    "#links the fp->db and raw names\n",
    "correlator = []\n",
    "rawcorrel = []\n",
    "for item in fpnamelist:\n",
    "    loops = 0\n",
    "    for name in dbnamelist:\n",
    "        if item + '_' in name:\n",
    "            correlator.append(loops)\n",
    "        loops += 1\n",
    "    loops = 0\n",
    "    for name in rawnames:\n",
    "        if item + '.' in name:\n",
    "            rawcorrel.append(loops)\n",
    "        loops += 1"
   ]
  },
  {
   "cell_type": "code",
   "execution_count": 67,
   "id": "15363167",
   "metadata": {},
   "outputs": [
    {
     "data": {
      "text/plain": [
       "[16, 5, 3, 8, 12, 0, 18, 11, 1, 13, 9, 7, 6, 17, 2, 4, 10, 15]"
      ]
     },
     "execution_count": 67,
     "metadata": {},
     "output_type": "execute_result"
    }
   ],
   "source": [
    "rawcorrel"
   ]
  },
  {
   "cell_type": "code",
   "execution_count": 81,
   "id": "105b89ce",
   "metadata": {},
   "outputs": [],
   "source": [
    "#As dbdata is in inchikey and fp is in smiles need raw to link the two\n",
    "dbdata = []\n",
    "dbnames = []\n",
    "for val in correlator:\n",
    "    dbdata.append(dbdatasets[val])\n",
    "    dbnames.append(dbnamelist[val])\n",
    "\n",
    "rawdata = []\n",
    "rawname = []\n",
    "for val in rawcorrel:\n",
    "    rawdata.append(rawlist[val])\n",
    "    rawname.append(rawnames[val])"
   ]
  },
  {
   "cell_type": "code",
   "execution_count": 82,
   "id": "a2438713",
   "metadata": {},
   "outputs": [],
   "source": [
    "inchilist=[]\n",
    "for df in rawdata:\n",
    "    inchilist.append(list(df['InChIKey']))"
   ]
  },
  {
   "cell_type": "code",
   "execution_count": 83,
   "id": "22af7fd4",
   "metadata": {},
   "outputs": [],
   "source": [
    "#link inchikeys to smiles based on index \n",
    "#fingerprints are indexed same way as raw origin files\n",
    "\n",
    "loops = 0\n",
    "dbtofp = []\n",
    "for df in dbdata:\n",
    "    data = list(df['inchi'])\n",
    "    index = []\n",
    "    iter = 0\n",
    "    for key in data:\n",
    "        iter = 0\n",
    "        seen = 0\n",
    "        for item in inchilist[loops]:\n",
    "            if key == item and seen == 0:\n",
    "                index.append(iter)\n",
    "                seen = 1\n",
    "            iter += 1\n",
    "    dbtofp.append(index)\n",
    "    loops += 1\n",
    "    "
   ]
  },
  {
   "cell_type": "code",
   "execution_count": 112,
   "id": "703d247b",
   "metadata": {},
   "outputs": [],
   "source": [
    "#create concatenated fp sets\n",
    "concatfp = []\n",
    "loops = 0\n",
    "for df in dbtofp:\n",
    "    temp = []\n",
    "    for val in df:\n",
    "        temp.append(fpdatasets[loops].loc[val])\n",
    "    temp = pd.DataFrame(temp)\n",
    "    temp.drop(columns=['SMILES', 'Toxicity_Value'], inplace=True)\n",
    "    temp.reset_index(drop=True, inplace=True)\n",
    "    temp = pd.concat([dbdata[loops], temp], axis=1)\n",
    "    concatfp.append(temp)\n",
    "    loops += 1"
   ]
  },
  {
   "cell_type": "code",
   "execution_count": 120,
   "id": "13f8d602",
   "metadata": {},
   "outputs": [],
   "source": [
    "loops = 0\n",
    "for df in concatfp:\n",
    "    path = '/Users/james/Documents/Honours/Data/Fusion/'\n",
    "    name = fpnamelist[loops] + '_fusion.csv'\n",
    "    pathname = path + name\n",
    "    df.to_csv(pathname)\n",
    "    loops += 1"
   ]
  },
  {
   "cell_type": "code",
   "execution_count": 117,
   "id": "2d315e2d",
   "metadata": {},
   "outputs": [
    {
     "data": {
      "text/plain": [
       "['SR-ATAD5',\n",
       " 'NR-AhR',\n",
       " 'Hepatotoxicity',\n",
       " 'Cardiotoxicity-5',\n",
       " 'NR-PPAR-gamma',\n",
       " 'Cardiotoxicity-10',\n",
       " 'SR-MMP',\n",
       " 'NR-ER-LBD',\n",
       " 'Carcinogenicity',\n",
       " 'NR-AR',\n",
       " 'NR-ER',\n",
       " 'SR-ARE',\n",
       " 'NR-AR-LBD',\n",
       " 'Ames Mutagenicity',\n",
       " 'SR-HSE',\n",
       " 'NR-aromatase',\n",
       " 'SR-p53',\n",
       " 'Cardiotoxicity-1',\n",
       " 'Cardiotoxicity-30']"
      ]
     },
     "execution_count": 117,
     "metadata": {},
     "output_type": "execute_result"
    }
   ],
   "source": [
    "fpnamelist"
   ]
  },
  {
   "cell_type": "code",
   "execution_count": 118,
   "id": "4788ae6b",
   "metadata": {},
   "outputs": [
    {
     "data": {
      "text/plain": [
       "'SR-ATAD5_fusion'"
      ]
     },
     "execution_count": 118,
     "metadata": {},
     "output_type": "execute_result"
    }
   ],
   "source": [
    "fpnamelist[0] +'_fusion'"
   ]
  }
 ],
 "metadata": {
  "kernelspec": {
   "display_name": "Python 3 (ipykernel)",
   "language": "python",
   "name": "python3"
  },
  "language_info": {
   "codemirror_mode": {
    "name": "ipython",
    "version": 3
   },
   "file_extension": ".py",
   "mimetype": "text/x-python",
   "name": "python",
   "nbconvert_exporter": "python",
   "pygments_lexer": "ipython3",
   "version": "3.11.0"
  }
 },
 "nbformat": 4,
 "nbformat_minor": 5
}
