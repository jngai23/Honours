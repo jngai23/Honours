{
 "cells": [
  {
   "cell_type": "code",
   "execution_count": 50,
   "id": "6ae0dd12",
   "metadata": {},
   "outputs": [],
   "source": [
    "#7/6/24 For the implementation of K-fold testing with Random Forests onto the mutagen fingerprint data\n",
    "#5 fold split, 4 train with the last fold being split into 2 for validation/testing\n",
    "#After this is done will apply the process onto other models\n",
    "\n",
    "\n",
    "import pandas as pd\n",
    "import numpy as np\n",
    "import math\n",
    "#Data import\n",
    "targetdata = pd.read_csv('/Users/james/Documents/Honours/Data/structdata/Mutagen/mutagenMorganfp.csv')\n",
    "smilesdropped = targetdata.drop(columns=['SMILES'])\n",
    "\n",
    "#Splitting data into 5 folds \n",
    "dfarray = smilesdropped.to_numpy()\n",
    "size = len(dfarray) / 5\n",
    "splitsize = math.ceil(size)\n",
    "empty = [[] for _ in range(5)]\n",
    "splits = []\n",
    "for list in empty:\n",
    "    splits.append(list)\n",
    "\n",
    "loops = 0\n",
    "currsplit = 0\n",
    "#Results in a list of 5 lists that each contain 1/5 of the targetdata\n",
    "for row in dfarray:\n",
    "    splits[currsplit].append(row)\n",
    "    if loops == splitsize:\n",
    "        loops = 0\n",
    "        currsplit = currsplit + 1\n",
    "    loops = loops + 1\n",
    "\n",
    "folds = []\n",
    "for split in splits:\n",
    "    temp = pd.DataFrame(split)\n",
    "    folds.append(temp)"
   ]
  },
  {
   "cell_type": "code",
   "execution_count": 64,
   "id": "b4f7e7b6",
   "metadata": {
    "scrolled": true
   },
   "outputs": [],
   "source": [
    "model_list = []\n",
    "#For loop that uses each fold once for valid/testing and the rest for training\n",
    "for split in range(0,5):\n",
    "    #Set creation\n",
    "    trainlist = [df for i, df in enumerate(folds) if i != split]\n",
    "    trainset = pd.concat(trainlist, axis=0)\n",
    "    testset, validset = train_test_split(folds[split], test_size=0.5, random_state=82)\n",
    "    \n",
    "    ytrain = trainset[0].values\n",
    "    xtrain = trainset.iloc[:, 1:]\n",
    "    \n",
    "    ytest = testset[0].values\n",
    "    xtest = testset.iloc[:, 1:]\n",
    "    \n",
    "    yvalid = validset[0].values\n",
    "    xvalid = validset.iloc[:, 1:]\n",
    "    \n",
    "    \n",
    "    "
   ]
  }
 ],
 "metadata": {
  "kernelspec": {
   "display_name": "Python 3 (ipykernel)",
   "language": "python",
   "name": "python3"
  },
  "language_info": {
   "codemirror_mode": {
    "name": "ipython",
    "version": 3
   },
   "file_extension": ".py",
   "mimetype": "text/x-python",
   "name": "python",
   "nbconvert_exporter": "python",
   "pygments_lexer": "ipython3",
   "version": "3.11.5"
  }
 },
 "nbformat": 4,
 "nbformat_minor": 5
}
