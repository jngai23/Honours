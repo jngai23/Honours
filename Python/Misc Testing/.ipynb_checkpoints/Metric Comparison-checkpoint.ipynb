{
 "cells": [
  {
   "cell_type": "code",
   "execution_count": 2,
   "id": "1bdce2ba",
   "metadata": {},
   "outputs": [],
   "source": [
    "#9/9/24 Compares metrics\n",
    "import pandas as pd\n",
    "import numpy as np\n",
    "import math\n",
    "import matplotlib.pyplot as plt\n",
    "import sys\n",
    "import math"
   ]
  },
  {
   "cell_type": "code",
   "execution_count": 26,
   "id": "2258f38f",
   "metadata": {},
   "outputs": [],
   "source": [
    "#ging = [0, 0, 0, 0, 0, 1, 1, 1, 1, 1]\n",
    "zeros = [1] * 500\n",
    "ones = [0] * 500\n",
    "ging = zeros + ones\n",
    "\n",
    "bing = [0] * 1000\n",
    "bing[0] = 1\n",
    "bing[999] = 1\n",
    "\n",
    "accout = []\n",
    "mccout = []\n",
    "loops = 0\n",
    "for item in bing:\n",
    "    bing[loops] = 1\n",
    "    ling = metriccalc(ging, bing)\n",
    "    accout.append(ling[6])\n",
    "    mccout.append(ling[12])\n",
    "    \n",
    "    loops += 1"
   ]
  },
  {
   "cell_type": "code",
   "execution_count": 27,
   "id": "03fa5ba9",
   "metadata": {},
   "outputs": [],
   "source": [
    "newacc = filtered_list = [x for x in accout if x != 0]\n",
    "newmcc = filtered_list = [x for x in mccout if x != 0]"
   ]
  },
  {
   "cell_type": "code",
   "execution_count": 28,
   "id": "f339a74a",
   "metadata": {},
   "outputs": [],
   "source": [
    "gradient = np.diff(newmcc)"
   ]
  },
  {
   "cell_type": "code",
   "execution_count": 29,
   "id": "8ac113ff",
   "metadata": {},
   "outputs": [
    {
     "data": {
      "text/plain": [
       "0.5"
      ]
     },
     "execution_count": 29,
     "metadata": {},
     "output_type": "execute_result"
    }
   ],
   "source": [
    "newacc[1]"
   ]
  },
  {
   "cell_type": "code",
   "execution_count": 30,
   "id": "cc0fa783",
   "metadata": {},
   "outputs": [
    {
     "data": {
      "text/plain": [
       "-0.49899799599198397"
      ]
     },
     "execution_count": 30,
     "metadata": {},
     "output_type": "execute_result"
    }
   ],
   "source": [
    "newmcc[497]"
   ]
  },
  {
   "cell_type": "code",
   "execution_count": 31,
   "id": "bb6d62ed",
   "metadata": {},
   "outputs": [
    {
     "data": {
      "text/plain": [
       "5.093508149039678"
      ]
     },
     "execution_count": 31,
     "metadata": {},
     "output_type": "execute_result"
    }
   ],
   "source": [
    "498 / ((0.996 - 0.01828486648462095)*100)"
   ]
  },
  {
   "cell_type": "code",
   "execution_count": 32,
   "id": "bc8753df",
   "metadata": {},
   "outputs": [
    {
     "data": {
      "text/plain": [
       "997"
      ]
     },
     "execution_count": 32,
     "metadata": {},
     "output_type": "execute_result"
    }
   ],
   "source": [
    "len(newacc[:-1])"
   ]
  },
  {
   "cell_type": "code",
   "execution_count": 33,
   "id": "b59d89c4",
   "metadata": {},
   "outputs": [
    {
     "ename": "ValueError",
     "evalue": "x and y must have same first dimension, but have shapes (997,) and (498,)",
     "output_type": "error",
     "traceback": [
      "\u001b[0;31m---------------------------------------------------------------------------\u001b[0m",
      "\u001b[0;31mValueError\u001b[0m                                Traceback (most recent call last)",
      "Cell \u001b[0;32mIn[33], line 12\u001b[0m\n\u001b[1;32m      9\u001b[0m plt\u001b[38;5;241m.\u001b[39mplot(x, y1, label\u001b[38;5;241m=\u001b[39m\u001b[38;5;124m'\u001b[39m\u001b[38;5;124mAccuracy\u001b[39m\u001b[38;5;124m'\u001b[39m, marker\u001b[38;5;241m=\u001b[39m\u001b[38;5;124m'\u001b[39m\u001b[38;5;124mo\u001b[39m\u001b[38;5;124m'\u001b[39m, color\u001b[38;5;241m=\u001b[39m\u001b[38;5;124m'\u001b[39m\u001b[38;5;124m#E66100\u001b[39m\u001b[38;5;124m'\u001b[39m)\n\u001b[1;32m     11\u001b[0m \u001b[38;5;66;03m# Plot the second list\u001b[39;00m\n\u001b[0;32m---> 12\u001b[0m plt\u001b[38;5;241m.\u001b[39mplot(x, y2, label\u001b[38;5;241m=\u001b[39m\u001b[38;5;124m'\u001b[39m\u001b[38;5;124mMCC\u001b[39m\u001b[38;5;124m'\u001b[39m, marker\u001b[38;5;241m=\u001b[39m\u001b[38;5;124m'\u001b[39m\u001b[38;5;124mo\u001b[39m\u001b[38;5;124m'\u001b[39m, color\u001b[38;5;241m=\u001b[39m\u001b[38;5;124m'\u001b[39m\u001b[38;5;124m#5D3A9B\u001b[39m\u001b[38;5;124m'\u001b[39m)\n\u001b[1;32m     14\u001b[0m \u001b[38;5;66;03m# Add a title\u001b[39;00m\n\u001b[1;32m     15\u001b[0m plt\u001b[38;5;241m.\u001b[39mtitle(\u001b[38;5;124m'\u001b[39m\u001b[38;5;124mPlot of MCC vs Accuracy\u001b[39m\u001b[38;5;124m'\u001b[39m)\n",
      "File \u001b[0;32m/opt/anaconda3/lib/python3.11/site-packages/matplotlib/pyplot.py:3578\u001b[0m, in \u001b[0;36mplot\u001b[0;34m(scalex, scaley, data, *args, **kwargs)\u001b[0m\n\u001b[1;32m   3570\u001b[0m \u001b[38;5;129m@_copy_docstring_and_deprecators\u001b[39m(Axes\u001b[38;5;241m.\u001b[39mplot)\n\u001b[1;32m   3571\u001b[0m \u001b[38;5;28;01mdef\u001b[39;00m \u001b[38;5;21mplot\u001b[39m(\n\u001b[1;32m   3572\u001b[0m     \u001b[38;5;241m*\u001b[39margs: \u001b[38;5;28mfloat\u001b[39m \u001b[38;5;241m|\u001b[39m ArrayLike \u001b[38;5;241m|\u001b[39m \u001b[38;5;28mstr\u001b[39m,\n\u001b[0;32m   (...)\u001b[0m\n\u001b[1;32m   3576\u001b[0m     \u001b[38;5;241m*\u001b[39m\u001b[38;5;241m*\u001b[39mkwargs,\n\u001b[1;32m   3577\u001b[0m ) \u001b[38;5;241m-\u001b[39m\u001b[38;5;241m>\u001b[39m \u001b[38;5;28mlist\u001b[39m[Line2D]:\n\u001b[0;32m-> 3578\u001b[0m     \u001b[38;5;28;01mreturn\u001b[39;00m gca()\u001b[38;5;241m.\u001b[39mplot(\n\u001b[1;32m   3579\u001b[0m         \u001b[38;5;241m*\u001b[39margs,\n\u001b[1;32m   3580\u001b[0m         scalex\u001b[38;5;241m=\u001b[39mscalex,\n\u001b[1;32m   3581\u001b[0m         scaley\u001b[38;5;241m=\u001b[39mscaley,\n\u001b[1;32m   3582\u001b[0m         \u001b[38;5;241m*\u001b[39m\u001b[38;5;241m*\u001b[39m({\u001b[38;5;124m\"\u001b[39m\u001b[38;5;124mdata\u001b[39m\u001b[38;5;124m\"\u001b[39m: data} \u001b[38;5;28;01mif\u001b[39;00m data \u001b[38;5;129;01mis\u001b[39;00m \u001b[38;5;129;01mnot\u001b[39;00m \u001b[38;5;28;01mNone\u001b[39;00m \u001b[38;5;28;01melse\u001b[39;00m {}),\n\u001b[1;32m   3583\u001b[0m         \u001b[38;5;241m*\u001b[39m\u001b[38;5;241m*\u001b[39mkwargs,\n\u001b[1;32m   3584\u001b[0m     )\n",
      "File \u001b[0;32m/opt/anaconda3/lib/python3.11/site-packages/matplotlib/axes/_axes.py:1721\u001b[0m, in \u001b[0;36mAxes.plot\u001b[0;34m(self, scalex, scaley, data, *args, **kwargs)\u001b[0m\n\u001b[1;32m   1478\u001b[0m \u001b[38;5;250m\u001b[39m\u001b[38;5;124;03m\"\"\"\u001b[39;00m\n\u001b[1;32m   1479\u001b[0m \u001b[38;5;124;03mPlot y versus x as lines and/or markers.\u001b[39;00m\n\u001b[1;32m   1480\u001b[0m \n\u001b[0;32m   (...)\u001b[0m\n\u001b[1;32m   1718\u001b[0m \u001b[38;5;124;03m(``'green'``) or hex strings (``'#008000'``).\u001b[39;00m\n\u001b[1;32m   1719\u001b[0m \u001b[38;5;124;03m\"\"\"\u001b[39;00m\n\u001b[1;32m   1720\u001b[0m kwargs \u001b[38;5;241m=\u001b[39m cbook\u001b[38;5;241m.\u001b[39mnormalize_kwargs(kwargs, mlines\u001b[38;5;241m.\u001b[39mLine2D)\n\u001b[0;32m-> 1721\u001b[0m lines \u001b[38;5;241m=\u001b[39m [\u001b[38;5;241m*\u001b[39m\u001b[38;5;28mself\u001b[39m\u001b[38;5;241m.\u001b[39m_get_lines(\u001b[38;5;28mself\u001b[39m, \u001b[38;5;241m*\u001b[39margs, data\u001b[38;5;241m=\u001b[39mdata, \u001b[38;5;241m*\u001b[39m\u001b[38;5;241m*\u001b[39mkwargs)]\n\u001b[1;32m   1722\u001b[0m \u001b[38;5;28;01mfor\u001b[39;00m line \u001b[38;5;129;01min\u001b[39;00m lines:\n\u001b[1;32m   1723\u001b[0m     \u001b[38;5;28mself\u001b[39m\u001b[38;5;241m.\u001b[39madd_line(line)\n",
      "File \u001b[0;32m/opt/anaconda3/lib/python3.11/site-packages/matplotlib/axes/_base.py:303\u001b[0m, in \u001b[0;36m_process_plot_var_args.__call__\u001b[0;34m(self, axes, data, *args, **kwargs)\u001b[0m\n\u001b[1;32m    301\u001b[0m     this \u001b[38;5;241m+\u001b[39m\u001b[38;5;241m=\u001b[39m args[\u001b[38;5;241m0\u001b[39m],\n\u001b[1;32m    302\u001b[0m     args \u001b[38;5;241m=\u001b[39m args[\u001b[38;5;241m1\u001b[39m:]\n\u001b[0;32m--> 303\u001b[0m \u001b[38;5;28;01myield from\u001b[39;00m \u001b[38;5;28mself\u001b[39m\u001b[38;5;241m.\u001b[39m_plot_args(\n\u001b[1;32m    304\u001b[0m     axes, this, kwargs, ambiguous_fmt_datakey\u001b[38;5;241m=\u001b[39mambiguous_fmt_datakey)\n",
      "File \u001b[0;32m/opt/anaconda3/lib/python3.11/site-packages/matplotlib/axes/_base.py:499\u001b[0m, in \u001b[0;36m_process_plot_var_args._plot_args\u001b[0;34m(self, axes, tup, kwargs, return_kwargs, ambiguous_fmt_datakey)\u001b[0m\n\u001b[1;32m    496\u001b[0m     axes\u001b[38;5;241m.\u001b[39myaxis\u001b[38;5;241m.\u001b[39mupdate_units(y)\n\u001b[1;32m    498\u001b[0m \u001b[38;5;28;01mif\u001b[39;00m x\u001b[38;5;241m.\u001b[39mshape[\u001b[38;5;241m0\u001b[39m] \u001b[38;5;241m!=\u001b[39m y\u001b[38;5;241m.\u001b[39mshape[\u001b[38;5;241m0\u001b[39m]:\n\u001b[0;32m--> 499\u001b[0m     \u001b[38;5;28;01mraise\u001b[39;00m \u001b[38;5;167;01mValueError\u001b[39;00m(\u001b[38;5;124mf\u001b[39m\u001b[38;5;124m\"\u001b[39m\u001b[38;5;124mx and y must have same first dimension, but \u001b[39m\u001b[38;5;124m\"\u001b[39m\n\u001b[1;32m    500\u001b[0m                      \u001b[38;5;124mf\u001b[39m\u001b[38;5;124m\"\u001b[39m\u001b[38;5;124mhave shapes \u001b[39m\u001b[38;5;132;01m{\u001b[39;00mx\u001b[38;5;241m.\u001b[39mshape\u001b[38;5;132;01m}\u001b[39;00m\u001b[38;5;124m and \u001b[39m\u001b[38;5;132;01m{\u001b[39;00my\u001b[38;5;241m.\u001b[39mshape\u001b[38;5;132;01m}\u001b[39;00m\u001b[38;5;124m\"\u001b[39m)\n\u001b[1;32m    501\u001b[0m \u001b[38;5;28;01mif\u001b[39;00m x\u001b[38;5;241m.\u001b[39mndim \u001b[38;5;241m>\u001b[39m \u001b[38;5;241m2\u001b[39m \u001b[38;5;129;01mor\u001b[39;00m y\u001b[38;5;241m.\u001b[39mndim \u001b[38;5;241m>\u001b[39m \u001b[38;5;241m2\u001b[39m:\n\u001b[1;32m    502\u001b[0m     \u001b[38;5;28;01mraise\u001b[39;00m \u001b[38;5;167;01mValueError\u001b[39;00m(\u001b[38;5;124mf\u001b[39m\u001b[38;5;124m\"\u001b[39m\u001b[38;5;124mx and y can be no greater than 2D, but have \u001b[39m\u001b[38;5;124m\"\u001b[39m\n\u001b[1;32m    503\u001b[0m                      \u001b[38;5;124mf\u001b[39m\u001b[38;5;124m\"\u001b[39m\u001b[38;5;124mshapes \u001b[39m\u001b[38;5;132;01m{\u001b[39;00mx\u001b[38;5;241m.\u001b[39mshape\u001b[38;5;132;01m}\u001b[39;00m\u001b[38;5;124m and \u001b[39m\u001b[38;5;132;01m{\u001b[39;00my\u001b[38;5;241m.\u001b[39mshape\u001b[38;5;132;01m}\u001b[39;00m\u001b[38;5;124m\"\u001b[39m)\n",
      "\u001b[0;31mValueError\u001b[0m: x and y must have same first dimension, but have shapes (997,) and (498,)"
     ]
    },
    {
     "data": {
      "image/png": "[encoded data removed]",
      "text/plain": [
       "<Figure size 1000x600 with 1 Axes>"
      ]
     },
     "metadata": {},
     "output_type": "display_data"
    }
   ],
   "source": [
    "# Sample data\n",
    "x = list(range(len(newacc[:-1])))\n",
    "y1 = newacc[:-1]\n",
    "y2 = newmcc\n",
    "# Create a new figure\n",
    "plt.figure(figsize=(10, 6))\n",
    "\n",
    "# Plot the first list\n",
    "plt.plot(x, y1, label='Accuracy', marker='o', color='#E66100')\n",
    "\n",
    "# Plot the second list\n",
    "plt.plot(x, y2, label='MCC', marker='o', color='#5D3A9B')\n",
    "\n",
    "# Add a title\n",
    "plt.title('Plot of MCC vs Accuracy')\n",
    "\n",
    "# Add x and y labels\n",
    "plt.xlabel('Iterations')\n",
    "plt.ylabel('Value')\n",
    "x_horizontal = [0, 301]\n",
    "y_horizontal = [0.8, 0.8]\n",
    "\n",
    "x_diagonal = [301, 301] \n",
    "y_diagonal = [0.8, 0.65]\n",
    "\n",
    "plt.plot(x_horizontal, y_horizontal, color='black', linestyle='--')\n",
    "plt.plot(x_diagonal, y_diagonal, color='black', linestyle='--')\n",
    "\n",
    "plt.plot([0, 101], [0.6,0.6], color='black', linestyle='--')\n",
    "plt.plot([101,101], [0.6,0.33], color='black', linestyle='--')\n",
    "\n",
    "# Add a legend\n",
    "plt.legend()\n",
    "\n",
    "# Show the plot\n",
    "plt.show()"
   ]
  },
  {
   "cell_type": "code",
   "execution_count": 11,
   "id": "0c7f7feb",
   "metadata": {
    "scrolled": true
   },
   "outputs": [],
   "source": [
    "loops = 0\n",
    "item = 0\n",
    "while item < 0.60:\n",
    "    item = newacc[loops]\n",
    "        \n",
    "    loops += 1"
   ]
  },
  {
   "cell_type": "code",
   "execution_count": 12,
   "id": "8af13147",
   "metadata": {},
   "outputs": [
    {
     "data": {
      "text/plain": [
       "0.33414079170511146"
      ]
     },
     "execution_count": 12,
     "metadata": {},
     "output_type": "execute_result"
    }
   ],
   "source": [
    "newmcc[loops]"
   ]
  },
  {
   "cell_type": "code",
   "execution_count": 13,
   "id": "4824134c",
   "metadata": {},
   "outputs": [
    {
     "data": {
      "text/plain": [
       "101"
      ]
     },
     "execution_count": 13,
     "metadata": {},
     "output_type": "execute_result"
    }
   ],
   "source": [
    "loops"
   ]
  },
  {
   "cell_type": "code",
   "execution_count": 21,
   "id": "a5f06173",
   "metadata": {},
   "outputs": [
    {
     "data": {
      "text/plain": [
       "0.8"
      ]
     },
     "execution_count": 21,
     "metadata": {},
     "output_type": "execute_result"
    }
   ],
   "source": [
    "item"
   ]
  },
  {
   "cell_type": "code",
   "execution_count": 4,
   "id": "b9f414fd",
   "metadata": {},
   "outputs": [],
   "source": [
    "def metriccalc(preds, ytrain):\n",
    "    import math\n",
    "    correctcount = 0\n",
    "    fpcount = 0\n",
    "    tpcount = 0\n",
    "    tncount = 0\n",
    "    fncount = 0\n",
    "    testpos = 0\n",
    "    testneg = 0\n",
    "    \n",
    "    #loop through each item in the predictions, logging positives, negatives and tn/tp/fn/tp\n",
    "    iterations = 0\n",
    "    for value in preds:\n",
    "        testscore = ytrain[iterations]\n",
    "        if value == 1:\n",
    "            if testscore != 0:\n",
    "                testpos = testpos + 1\n",
    "                correctcount = correctcount + 1\n",
    "                tpcount = tpcount + 1\n",
    "            else:\n",
    "                fpcount = fpcount + 1\n",
    "                testneg = testneg + 1\n",
    "        else:\n",
    "            if testscore != 0:\n",
    "                testpos = testpos + 1\n",
    "                fncount = fncount + 1\n",
    "            else:\n",
    "                testneg = testneg + 1\n",
    "                correctcount = correctcount + 1\n",
    "                tncount = tncount + 1\n",
    "\n",
    "        iterations = iterations + 1\n",
    "    if tncount == 0 or fncount == 0 or tpcount == 0 or fpcount == 0 or testneg == 0 or testpos == 0:\n",
    "        return [0, 0, 0, 0, 0, 0, 0, 0, 0, 0, 0, 0, 0, 0]\n",
    "    #calculate a wide swathe of metrics\n",
    "    netfn = fncount / (fncount + tncount)\n",
    "    nettn = tncount / (fncount + tncount)\n",
    "    netacc = correctcount / (fpcount + fncount + tpcount + tncount)\n",
    "    posacc = tpcount / testpos\n",
    "    negacc = tncount / testneg\n",
    "    netfp = fpcount / (fpcount + tpcount)\n",
    "    nettp = tpcount / (tpcount + fpcount)\n",
    "\n",
    "    fpr = fpcount / (fpcount + tncount)\n",
    "    tpr = tpcount / (tpcount + fncount)\n",
    "\n",
    "\n",
    "\n",
    "    f1 = (2 * tpcount) / ((2 * tpcount) + fpcount + fncount)\n",
    "\n",
    "\n",
    "    tp = tpcount\n",
    "    fp = fpcount\n",
    "    tn = tncount\n",
    "    fn = fncount\n",
    "\n",
    "    \n",
    "    temp = math.sqrt((fp + tn) * (tp + fp) * (tp + fn) * (tn + fn))\n",
    "    if temp == 0:\n",
    "        return 0\n",
    "    mcc = ((tp * tn) - (fp * fn)) / temp\n",
    "\n",
    "\n",
    "\n",
    "    temp = (( ( (tp + fp) * (fp + tn) ) + ( (tp + fn) * (fn + tn) ) ))\n",
    "    if temp == 0:\n",
    "        return 0\n",
    "    kapp =  ( 2 * ((tp * tn) - (fn * fp)) ) / temp\n",
    "    \n",
    "    metriclist = [testpos, testneg, fn, tn, tp, fp, netacc, posacc, negacc, fpr, tpr, f1, mcc, kapp]\n",
    "    \n",
    "    return metriclist"
   ]
  }
 ],
 "metadata": {
  "kernelspec": {
   "display_name": "Python 3 (ipykernel)",
   "language": "python",
   "name": "python3"
  },
  "language_info": {
   "codemirror_mode": {
    "name": "ipython",
    "version": 3
   },
   "file_extension": ".py",
   "mimetype": "text/x-python",
   "name": "python",
   "nbconvert_exporter": "python",
   "pygments_lexer": "ipython3",
   "version": "3.11.0"
  }
 },
 "nbformat": 4,
 "nbformat_minor": 5
}
