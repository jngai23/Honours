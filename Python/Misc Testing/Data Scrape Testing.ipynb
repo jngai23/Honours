{
 "cells": [
  {
   "cell_type": "code",
   "execution_count": null,
   "id": "8b6ddee5",
   "metadata": {},
   "outputs": [],
   "source": [
    "#29/8/24 testing a new data scraping emthod for protein-drug interactions\n",
    "import pandas as pd\n",
    "import numpy as np\n",
    "\n",
    "#using the method outlined in https://forum.knime.com/t/chembl-data-from-inchi-keys-input/75513\n",
    "#lnchl keys can be used to extract target information\n",
    "#example: https://www.ebi.ac.uk/chembl/api/data/activity/search?q=BSYNRYMUTXBXSQ-UHFFFAOYSA-N\n",
    "\n",
    "https://www.ebi.ac.uk/chembl/api/data/activity/search?q=LKJPYSCBVHEWIU-UHFFFAOYSA-N"
   ]
  }
 ],
 "metadata": {
  "kernelspec": {
   "display_name": "Python 3 (ipykernel)",
   "language": "python",
   "name": "python3"
  },
  "language_info": {
   "codemirror_mode": {
    "name": "ipython",
    "version": 3
   },
   "file_extension": ".py",
   "mimetype": "text/x-python",
   "name": "python",
   "nbconvert_exporter": "python",
   "pygments_lexer": "ipython3",
   "version": "3.11.0"
  }
 },
 "nbformat": 4,
 "nbformat_minor": 5
}
