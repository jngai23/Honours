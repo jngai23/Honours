{
 "cells": [
  {
   "cell_type": "code",
   "execution_count": 28,
   "id": "d886ffd8",
   "metadata": {},
   "outputs": [],
   "source": [
    "#temp for testing dataset balancing\n",
    "\n",
    "import pandas as pd\n",
    "import numpy as np\n",
    "\n",
    "df = pd.read_csv('/Users/james/Documents/Honours/Data/Fingerprints/morganfp_SR-ATAD5.csv')\n",
    "df = df.iloc[:,1:]\n",
    "toxvals = df['Toxicity_Value']\n",
    "\n",
    "zercount = 0\n",
    "for value in toxvals:\n",
    "    if value == 0:\n",
    "        zercount += 1\n",
    "\n",
    "poscount = len(toxvals)-zercount\n",
    "domval = 0\n",
    "\n",
    "if poscount > zercount:\n",
    "    temp = poscount\n",
    "    poscount = zercount\n",
    "    poscount = temp\n",
    "    domval = 1\n",
    "\n",
    "if poscount*4 < zercount:\n",
    "    ratio = zercount / poscount\n",
    "    factor = int(ratio) - 1\n",
    "    \n",
    "    loops = 0\n",
    "    todel = []\n",
    "    for value in toxvals:\n",
    "        if loops % factor != 0 and value == domval:\n",
    "            todel.append(loops)\n",
    "        loops += 1\n",
    "    \n",
    "    df = df.drop(todel)"
   ]
  }
 ],
 "metadata": {
  "kernelspec": {
   "display_name": "Python 3 (ipykernel)",
   "language": "python",
   "name": "python3"
  },
  "language_info": {
   "codemirror_mode": {
    "name": "ipython",
    "version": 3
   },
   "file_extension": ".py",
   "mimetype": "text/x-python",
   "name": "python",
   "nbconvert_exporter": "python",
   "pygments_lexer": "ipython3",
   "version": "3.11.0"
  }
 },
 "nbformat": 4,
 "nbformat_minor": 5
}
