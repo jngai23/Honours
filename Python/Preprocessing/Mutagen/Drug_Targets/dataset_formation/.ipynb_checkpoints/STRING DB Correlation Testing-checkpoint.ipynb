{
 "cells": [
  {
   "cell_type": "code",
   "execution_count": null,
   "id": "3e5cea20",
   "metadata": {},
   "outputs": [],
   "source": [
    "#10/7/24 For the data analysis of created string DB graphs of Mutagen Drug Target data\n",
    "#The graph contains coordinates of all drug targets in the mutagen drug target list separated by GOID distance\n",
    "#\n",
    "#Aims:\n",
    "    #Cluster all vectors on graph by targeted drug\n",
    "        #Find distances between nodes in cluster\n",
    "    #Determine how to plot each drug onto the graph\n",
    "        #Maybe average of its targets\n",
    "    #Create a useable dataset to predict on\n",
    "\n",
    "import numpy as np\n",
    "import pandas as pd\n",
    "\n"
   ]
  }
 ],
 "metadata": {
  "kernelspec": {
   "display_name": "Python 3 (ipykernel)",
   "language": "python",
   "name": "python3"
  },
  "language_info": {
   "codemirror_mode": {
    "name": "ipython",
    "version": 3
   },
   "file_extension": ".py",
   "mimetype": "text/x-python",
   "name": "python",
   "nbconvert_exporter": "python",
   "pygments_lexer": "ipython3",
   "version": "3.11.0"
  }
 },
 "nbformat": 4,
 "nbformat_minor": 5
}
