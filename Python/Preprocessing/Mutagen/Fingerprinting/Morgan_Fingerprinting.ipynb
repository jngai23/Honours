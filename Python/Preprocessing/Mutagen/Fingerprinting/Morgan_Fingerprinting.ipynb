{
 "cells": [
  {
   "cell_type": "code",
   "execution_count": 1,
   "id": "a229f75a-fa39-4511-b868-2905dbac82d3",
   "metadata": {},
   "outputs": [],
   "source": [
    "#7/5/24 For Morgan Fingerprinting, this time for mutagen data, mostly a recycle of the one in the endocrine section\n",
    "#For the creation of Morgan Fingerprints\n",
    "import pandas as pd\n",
    "import numpy as np\n",
    "#Data import\n",
    "dataset = pd.read_csv('/Users/james/Documents/Honours/Data/rawdata/rawmutagendata.csv')\n",
    "smiles = dataset['SMILES'].tolist()\n",
    "toxvals = dataset['Toxicity_Value'].tolist()\n",
    "dflist =  list(zip(smiles, toxvals))\n",
    "df = pd.DataFrame(dflist, columns = ['SMILES', 'Toxicity_Values'])"
   ]
  },
  {
   "cell_type": "code",
   "execution_count": 5,
   "id": "e36440e4-e851-4194-b299-4317c42ecd9b",
   "metadata": {},
   "outputs": [
    {
     "name": "stdout",
     "output_type": "stream",
     "text": [
      "2023.09.5\n",
      "Using matplotlib backend: MacOSX\n"
     ]
    }
   ],
   "source": [
    "from rdkit import Chem\n",
    "from rdkit.Chem import rdFingerprintGenerator\n",
    "from rdkit.Chem.Draw import IPythonConsole\n",
    "from rdkit import DataStructs\n",
    "import rdkit\n",
    "print(rdkit.__version__)\n",
    "%matplotlib"
   ]
  },
  {
   "cell_type": "code",
   "execution_count": 6,
   "id": "721d8ad2-a488-4033-a4df-003f722b5440",
   "metadata": {},
   "outputs": [],
   "source": [
    "#Molecular Fingerprint creation\n",
    "from rdkit.Chem import PandasTools\n",
    "PandasTools.AddMoleculeColumnToFrame(df,'SMILES', 'Structure')"
   ]
  },
  {
   "cell_type": "code",
   "execution_count": 9,
   "id": "3b788f8a-047f-42e3-8fd3-b7fbfff6d40a",
   "metadata": {},
   "outputs": [
    {
     "name": "stdout",
     "output_type": "stream",
     "text": [
      "2023.09.5\n",
      "Using matplotlib backend: MacOSX\n"
     ]
    }
   ],
   "source": [
    "# Generate MACCS key generation (good for substructures)\n",
    "from rdkit import Chem\n",
    "from rdkit.Chem import rdFingerprintGenerator\n",
    "from rdkit.Chem.Draw import IPythonConsole\n",
    "from rdkit import DataStructs\n",
    "import rdkit\n",
    "from rdkit.Chem import rdMolDescriptors\n",
    "print(rdkit.__version__)\n",
    "%matplotlib\n",
    "from rdkit.Chem import MACCSkeys\n",
    "from rdkit.Avalon import pyAvalonTools\n",
    "MACCSfp = []\n",
    "Avafp = []\n",
    "Morganfp = []\n",
    "TTorsionfp = []\n",
    "\n",
    "for items in df.Structure:\n",
    "    MACCSfp.append(MACCSkeys.GenMACCSKeys(items))\n",
    "    Avafp.append(pyAvalonTools.GetAvalonFP(items, nBits=512))\n",
    "    Morganfp.append(rdMolDescriptors.GetMorganFingerprintAsBitVect(items, radius=2))\n",
    "    TTorsionfp.append(rdMolDescriptors.GetHashedTopologicalTorsionFingerprintAsBitVect(items, nBits=512))\n",
    "\n",
    "data = []\n",
    "loops = 0\n",
    "for items in MACCSfp:\n",
    "    items = np.array(items)\n",
    "    data.append(items)\n",
    "Morganframe = pd.DataFrame(data)\n",
    "newframe = pd.concat([df, Morganframe], axis=1)\n",
    "newframe = newframe.drop('Structure', axis=1)\n",
    "newframe.to_csv('/Users/james/Documents/Honours/Data/structdata/Mutagen/mutagenMACCSfp.csv', index=False)\n",
    "\n",
    "data = []\n",
    "loops = 0\n",
    "for items in Avafp:\n",
    "    items = np.array(items)\n",
    "    data.append(items)\n",
    "Morganframe = pd.DataFrame(data)\n",
    "newframe = pd.concat([df, Morganframe], axis=1)\n",
    "newframe = newframe.drop('Structure', axis=1)\n",
    "newframe.to_csv('/Users/james/Documents/Honours/Data/structdata/Mutagen/mutagenAvafp.csv', index=False)\n",
    "\n",
    "data = []\n",
    "loops = 0\n",
    "for items in TTorsionfp:\n",
    "    items = np.array(items)\n",
    "    data.append(items)\n",
    "Morganframe = pd.DataFrame(data)\n",
    "newframe = pd.concat([df, Morganframe], axis=1)\n",
    "newframe = newframe.drop('Structure', axis=1)\n",
    "newframe.to_csv('/Users/james/Documents/Honours/Data/structdata/Mutagen/mutagenTTorsionfp.csv', index=False)\n",
    "\n",
    "data = []\n",
    "loops = 0\n",
    "for items in Morganfp:\n",
    "    items = np.array(items)\n",
    "    data.append(items)\n",
    "Morganframe = pd.DataFrame(data)\n",
    "newframe = pd.concat([df, Morganframe], axis=1)\n",
    "newframe = newframe.drop('Structure', axis=1)\n",
    "newframe.to_csv('/Users/james/Documents/Honours/Data/structdata/Mutagen/mutagenMorganfp.csv', index=False)"
   ]
  },
  {
   "cell_type": "code",
   "execution_count": 7,
   "id": "fb86748b-540f-44df-9c2e-fdb6c0b0c916",
   "metadata": {},
   "outputs": [],
   "source": []
  },
  {
   "cell_type": "code",
   "execution_count": 9,
   "id": "2decd34b-ec50-4747-9d02-ce1e50a37c57",
   "metadata": {},
   "outputs": [],
   "source": []
  }
 ],
 "metadata": {
  "kernelspec": {
   "display_name": "Python 3 (ipykernel)",
   "language": "python",
   "name": "python3"
  },
  "language_info": {
   "codemirror_mode": {
    "name": "ipython",
    "version": 3
   },
   "file_extension": ".py",
   "mimetype": "text/x-python",
   "name": "python",
   "nbconvert_exporter": "python",
   "pygments_lexer": "ipython3",
   "version": "3.11.0"
  }
 },
 "nbformat": 4,
 "nbformat_minor": 5
}
