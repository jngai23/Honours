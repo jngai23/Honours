{
 "cells": [
  {
   "cell_type": "code",
   "execution_count": null,
   "id": "8449ed27",
   "metadata": {},
   "outputs": [],
   "source": [
    "#18/5/24 UMAP Dimensionality Reduction for MorganFP Mutagen Data\n",
    "\n",
    "import pandas as pd\n",
    "import numpy as np\n",
    "#Data import\n",
    "targetdata = pd.read_csv('/Users/james/Documents/Honours/Data/Targetdata/autoencdata/dtargetautoencdata.csv')\n",
    "toxvals = targetdata['Toxicity_Value'].to_list\n",
    "data = targetdata.iloc[:, 1:].values"
   ]
  }
 ],
 "metadata": {
  "kernelspec": {
   "display_name": "Python 3 (ipykernel)",
   "language": "python",
   "name": "python3"
  },
  "language_info": {
   "codemirror_mode": {
    "name": "ipython",
    "version": 3
   },
   "file_extension": ".py",
   "mimetype": "text/x-python",
   "name": "python",
   "nbconvert_exporter": "python",
   "pygments_lexer": "ipython3",
   "version": "3.11.0"
  }
 },
 "nbformat": 4,
 "nbformat_minor": 5
}
