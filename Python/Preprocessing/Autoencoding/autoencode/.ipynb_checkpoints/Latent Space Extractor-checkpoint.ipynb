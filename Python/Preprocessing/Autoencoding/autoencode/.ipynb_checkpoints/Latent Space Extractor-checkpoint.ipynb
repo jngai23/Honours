{
 "cells": [
  {
   "cell_type": "code",
   "execution_count": 2,
   "id": "4fff5397",
   "metadata": {},
   "outputs": [],
   "source": [
    "#23/5/24 For extracting latent space from a autoencoder model\n",
    "#Outputs the model and a text file\n",
    "\n",
    "import pandas as pd\n",
    "import numpy as np\n",
    "import tensorflow as tf\n",
    "from tensorflow import keras\n",
    "targetdata = pd.read_csv('/Users/james/Documents/Honours/Data/Targetdata/DrugTargets.csv')\n",
    "autoencoder = keras.models.load_model('/Users/james/Documents/Honours/Python/Target_Selection/Drug_Targets/autoencode/bing.keras')\n",
    "\n",
    "from sklearn.model_selection import train_test_split\n",
    "\n",
    "trainset, testset = train_test_split(targetdata, test_size=0.2, random_state=82)\n",
    "#Converts Toxicity Values to a list\n",
    "ytrain = trainset['Toxicity_Values']\n",
    "ytest = testset['Toxicity_Values']\n",
    "ynet = targetdata['Toxicity_Values']\n",
    "#Converts encoded drug target values to an array\n",
    "xtrain = trainset.iloc[:, 2:].values\n",
    "xtest = testset.iloc[:, 2:].values\n",
    "xnet = targetdata.iloc[:, 2:].values"
   ]
  },
  {
   "cell_type": "code",
   "execution_count": null,
   "id": "522e2c9c",
   "metadata": {},
   "outputs": [],
   "source": [
    "ynet"
   ]
  },
  {
   "cell_type": "code",
   "execution_count": 3,
   "id": "7797e68f",
   "metadata": {},
   "outputs": [
    {
     "name": "stdout",
     "output_type": "stream",
     "text": [
      "83/83 [==============================] - 0s 397us/step\n"
     ]
    },
    {
     "name": "stderr",
     "output_type": "stream",
     "text": [
      "2024-05-30 09:53:52.924114: W tensorflow/tsl/platform/profile_utils/cpu_utils.cc:128] Failed to get CPU frequency: 0 Hz\n"
     ]
    }
   ],
   "source": [
    "toxtest = []\n",
    "for items in ytest:\n",
    "    toxtest.append(items)\n",
    "\n",
    "#colcount = len(xtest[0])\n",
    "colcount = len(xtrain[0])\n",
    "#ae_out = autoencoder.predict([ xtrain.reshape(-1, colcount, 1) ])\n",
    "ae_out = autoencoder.predict([ xtest.reshape(-1, colcount, 1) ])\n",
    "outsize = len(ae_out)\n",
    "predictions = ae_out.reshape(outsize,colcount)"
   ]
  },
  {
   "cell_type": "code",
   "execution_count": 5,
   "id": "9557b035",
   "metadata": {
    "scrolled": false
   },
   "outputs": [
    {
     "name": "stdout",
     "output_type": "stream",
     "text": [
      "positives in data 37086\n",
      "negatives in data 847680 \n",
      "\n",
      "fn count = 10596\n",
      "tn count = 842382\n",
      "tp count = 26490\n",
      "fp count = 5298 \n",
      "\n",
      "net accuracy = 0.9820359281437125\n",
      "positive accuracy = 0.7142857142857143\n",
      "negative accuracy = 0.99375 \n",
      "\n",
      "fpr = 0.00625\n",
      "tpr = 0.7142857142857143 \n",
      "\n",
      "f1 score = 0.7692307692307693\n",
      "mcc = 0.7623872291645094\n",
      "cohen Kappa = 0.7599425011978918\n"
     ]
    }
   ],
   "source": [
    "#Generic Metric testing for a given threshold\n",
    "import math\n",
    "correctcount = 0\n",
    "fpcount = 0\n",
    "tpcount = 0\n",
    "tncount = 0\n",
    "fncount = 0\n",
    "testpos = 0\n",
    "testneg = 0\n",
    "\n",
    "iterations = 0\n",
    "for samples in predictions:\n",
    "    loops = 0\n",
    "    for value in predictions[iterations]:\n",
    "        testscore = xtest[iterations][loops]\n",
    "        #testscore = xtrain[iterations][loops]\n",
    "        if value > 0.36:\n",
    "            if testscore != 0:\n",
    "                testpos = testpos + 1\n",
    "                correctcount = correctcount + 1\n",
    "                tpcount = tpcount + 1\n",
    "            else:\n",
    "                fpcount = fpcount + 1\n",
    "                testneg = testneg + 1\n",
    "        else:\n",
    "            if testscore != 0:\n",
    "                testpos = testpos + 1\n",
    "                fncount = fncount + 1\n",
    "            else:\n",
    "                testneg = testneg + 1\n",
    "                correctcount = correctcount + 1\n",
    "                tncount = tncount + 1\n",
    "                \n",
    "        loops = loops + 1\n",
    "\n",
    "\n",
    "\n",
    "print('positives in data', testpos)\n",
    "print('negatives in data', testneg, '\\n')\n",
    "\n",
    "print('fn count =', fncount)\n",
    "print('tn count =', tncount)\n",
    "\n",
    "print('tp count =', tpcount)\n",
    "print('fp count =', fpcount, '\\n')\n",
    "\n",
    "netfn = fncount / (fncount + tncount)\n",
    "nettn = tncount / (fncount + tncount)\n",
    "netacc = correctcount / (fpcount + fncount + tpcount + tncount)\n",
    "posacc = tpcount / testpos\n",
    "negacc = tncount / testneg\n",
    "netfp = fpcount / (fpcount + tpcount)\n",
    "nettp = tpcount / (tpcount + fpcount)\n",
    "\n",
    "print('net accuracy =', netacc)\n",
    "print('positive accuracy =', posacc)\n",
    "print('negative accuracy =', negacc, '\\n')\n",
    "\n",
    "fpr = fpcount / (fpcount + tncount)\n",
    "tpr = tpcount / (tpcount + fncount)\n",
    "\n",
    "print('fpr =', fpr)\n",
    "print('tpr =', tpr, '\\n')\n",
    "\n",
    "f1 = (2 * tpcount) / ((2 * tpcount) + fpcount + fncount)\n",
    "print('f1 score =',f1)\n",
    "\n",
    "tp = tpcount\n",
    "fp = fpcount\n",
    "tn = tncount\n",
    "fn = fncount\n",
    "\n",
    "mcc = ((tp * tn) - (fp * fn)) / math.sqrt((fp + tn) * (tp + fp) * (tp + fn) * (tn + fn))\n",
    "\n",
    "print('mcc =',mcc)\n",
    "\n",
    "temp = (( ( (tp + fp) * (fp + tn) ) + ( (tp + fn) * (fn + tn) ) ))\n",
    "kapp =  ( 2 * ((tp * tn) - (fn * fp)) ) / temp\n",
    "\n",
    "print('cohen Kappa =',kapp)\n"
   ]
  },
  {
   "cell_type": "code",
   "execution_count": 6,
   "id": "45d6cf8b",
   "metadata": {
    "scrolled": true
   },
   "outputs": [
    {
     "name": "stdout",
     "output_type": "stream",
     "text": [
      "Model: \"autoencoder\"\n",
      "_________________________________________________________________\n",
      " Layer (type)                Output Shape              Param #   \n",
      "=================================================================\n",
      " input_3 (InputLayer)        [(None, 334, 1)]          0         \n",
      "                                                                 \n",
      " flatten_2 (Flatten)         (None, 334)               0         \n",
      "                                                                 \n",
      " dense_18 (Dense)            (None, 160)               53600     \n",
      "                                                                 \n",
      " dense_19 (Dense)            (None, 81)                13041     \n",
      "                                                                 \n",
      " dense_20 (Dense)            (None, 42)                3444      \n",
      "                                                                 \n",
      " dense_21 (Dense)            (None, 12)                516       \n",
      "                                                                 \n",
      " dense_22 (Dense)            (None, 12)                156       \n",
      "                                                                 \n",
      " dense_23 (Dense)            (None, 42)                546       \n",
      "                                                                 \n",
      " dense_24 (Dense)            (None, 81)                3483      \n",
      "                                                                 \n",
      " dense_25 (Dense)            (None, 160)               13120     \n",
      "                                                                 \n",
      " dense_26 (Dense)            (None, 334)               53774     \n",
      "                                                                 \n",
      " reshape_2 (Reshape)         (None, 334, 1)            0         \n",
      "                                                                 \n",
      "=================================================================\n",
      "Total params: 141,680\n",
      "Trainable params: 141,680\n",
      "Non-trainable params: 0\n",
      "_________________________________________________________________\n"
     ]
    }
   ],
   "source": [
    "#Notabely 0.5 was used as the cutoff point for determining if a cell is 0 or 1\n",
    "#As the metrics are very good, we will extract the latent space for prediction \n",
    "features = autoencoder.layers[6].output\n",
    "autoencoder.summary()"
   ]
  },
  {
   "cell_type": "code",
   "execution_count": 8,
   "id": "3615c352",
   "metadata": {},
   "outputs": [],
   "source": [
    "#Extracts data from latent space\n",
    "from keras import backend as K\n",
    "latent_space = K.function([autoencoder.layers[0].input], features)\n",
    "output = latent_space([xnet])\n",
    "latent = pd.DataFrame(output)\n",
    "\n",
    "toxvals= []\n",
    "for values in ynet:\n",
    "    toxvals.append(values)\n",
    "    \n",
    "temp = pd.DataFrame(toxvals, columns=['Toxicity_Value'])\n",
    "\n",
    "latentframe = pd.concat([temp, latent], axis=1)\n",
    "latentframe.to_csv('/Users/james/Documents/Honours/Python/Target_Selection/Drug_Targets/autoencode/dtargetautoencdata.csv', index=False)"
   ]
  },
  {
   "cell_type": "code",
   "execution_count": null,
   "id": "2217d970",
   "metadata": {},
   "outputs": [],
   "source": [
    "targetdata"
   ]
  },
  {
   "cell_type": "code",
   "execution_count": null,
   "id": "3a0f1200",
   "metadata": {},
   "outputs": [],
   "source": [
    "#testing use of a softmax layer to predict toxicity in the test set\n",
    "\n",
    "softmax_layer = keras.layers.Dense(2, activation=\"softmax\")\n",
    "input = latent.values\n",
    "result = softmax_layer(input)"
   ]
  },
  {
   "cell_type": "code",
   "execution_count": null,
   "id": "4727b738",
   "metadata": {
    "scrolled": true
   },
   "outputs": [],
   "source": [
    "res = result.numpy()\n",
    "res"
   ]
  },
  {
   "cell_type": "code",
   "execution_count": null,
   "id": "2257d7ff",
   "metadata": {},
   "outputs": [],
   "source": [
    "len(res)"
   ]
  },
  {
   "cell_type": "code",
   "execution_count": null,
   "id": "bf10a219",
   "metadata": {},
   "outputs": [],
   "source": [
    "loops = 0\n",
    "corr = 0\n",
    "neg = 0\n",
    "for items in res:\n",
    "    temp = items[0] - items[1]\n",
    "    if temp > 0:\n",
    "        bing = 1\n",
    "    else:\n",
    "        bing = 0\n",
    "    if bing == ynet[loops]:\n",
    "        corr = corr + 1 \n",
    "    else:\n",
    "        neg = neg + 1\n",
    "    loops = loops + 1\n",
    "print(corr / (corr + neg))"
   ]
  },
  {
   "cell_type": "code",
   "execution_count": 9,
   "id": "2dec1545",
   "metadata": {
    "scrolled": true
   },
   "outputs": [
    {
     "name": "stdout",
     "output_type": "stream",
     "text": [
      "svc autoenc = 0.5945333736031411\n",
      "knn autoenc = 0.6953337360314105\n"
     ]
    }
   ],
   "source": [
    "from sklearn.neighbors import KNeighborsClassifier\n",
    "from sklearn.svm import SVC\n",
    "\n",
    "testout = latent_space([xnet])\n",
    "latentest = pd.DataFrame(testout)\n",
    "\n",
    "#svc = SVC().fit(xnet, ynet)\n",
    "#print('svc raw =',svc.score(xnet, ynet))\n",
    "#knn = KNeighborsClassifier().fit(xnet, ynet)\n",
    "#print('knn raw =',knn.score(xnet, ynet))\n",
    "\n",
    "svc = SVC().fit(latentest, ynet)\n",
    "print('svc autoenc =',svc.score(latentest, ynet))\n",
    "knn = KNeighborsClassifier().fit(latentest.values, ynet)\n",
    "print('knn autoenc =',knn.score(latentest.values, ynet))\n",
    "\n",
    "#It seems that the latent space data actually performed worse than the raw dataset\n",
    "#Although it was using default hyperparameters so potentially it may perform better when optimised"
   ]
  },
  {
   "cell_type": "code",
   "execution_count": null,
   "id": "561c7e5b",
   "metadata": {},
   "outputs": [],
   "source": [
    "from sklearn.neighbors import KNeighborsClassifier\n",
    "from sklearn.svm import SVC\n",
    "\n",
    "testout = latent_space([xtrain])\n",
    "latentest = pd.DataFrame(testout)\n",
    "\n",
    "svc = SVC().fit(xtrain, ytrain)\n",
    "print('svc raw =',svc.score(xtrain, ytrain))\n",
    "knn = KNeighborsClassifier().fit(xtrain, ytrain)\n",
    "print('knn raw =',knn.score(xtrain, ytrain))\n",
    "\n",
    "svc = SVC().fit(latent, ytrain)\n",
    "print('svc autoenc =',svc.score(latent, ytrain))\n",
    "knn = KNeighborsClassifier().fit(latent.values, ytrain)\n",
    "print('knn autoenc =',knn.score(latent.values, ytrain))\n",
    "\n",
    "#It seems that the latent space data actually performed worse than the raw dataset\n",
    "#Although it was using default hyperparameters so potentially it may perform better when optimised"
   ]
  },
  {
   "cell_type": "code",
   "execution_count": null,
   "id": "4177ca0d",
   "metadata": {
    "scrolled": true
   },
   "outputs": [],
   "source": [
    "from sklearn.neighbors import KNeighborsClassifier\n",
    "from sklearn.svm import SVC\n",
    "\n",
    "testout = latent_space([xtest])\n",
    "latentest = pd.DataFrame(testout)\n",
    "\n",
    "svc = SVC().fit(xtest, ytest)\n",
    "print('svc raw =',svc.score(xtest, ytest))\n",
    "knn = KNeighborsClassifier().fit(xtest, ytest)\n",
    "print('knn raw =',knn.score(xtest, ytest))\n",
    "\n",
    "svc = SVC().fit(latentest, ytest)\n",
    "print('svc autoenc =',svc.score(latentest, ytest))\n",
    "knn = KNeighborsClassifier().fit(latentest.values, ytest)\n",
    "print('knn autoenc =',knn.score(latentest.values, ytest))\n",
    "\n",
    "#It seems that the latent space data actually performed worse than the raw dataset\n",
    "#Although it was using default hyperparameters so potentially it may perform better when optimised"
   ]
  },
  {
   "cell_type": "code",
   "execution_count": null,
   "id": "0c997836",
   "metadata": {},
   "outputs": [],
   "source": [
    "#While the model seemed well made previously, with the additional of extra metrics the following occurs\n",
    "model = 8.model\n",
    "positives in data 13245\n",
    "negatives in data 871521\n",
    "fn count = 2649\n",
    "tn count = 847680\n",
    "tp count = 10596\n",
    "fp count = 23841\n",
    "net accuracy = 0.9700598802395209\n",
    "positive accuracy = 0.8\n",
    "negative accuracy = 0.9726443768996961\n",
    "fpr = 0.02735562310030395\n",
    "tpr = 0.8\n",
    "f1 score = 0.4444444444444444\n",
    "mcc = 0.4851079668748027\n"
   ]
  }
 ],
 "metadata": {
  "kernelspec": {
   "display_name": "Python 3 (ipykernel)",
   "language": "python",
   "name": "python3"
  },
  "language_info": {
   "codemirror_mode": {
    "name": "ipython",
    "version": 3
   },
   "file_extension": ".py",
   "mimetype": "text/x-python",
   "name": "python",
   "nbconvert_exporter": "python",
   "pygments_lexer": "ipython3",
   "version": "3.11.5"
  }
 },
 "nbformat": 4,
 "nbformat_minor": 5
}
