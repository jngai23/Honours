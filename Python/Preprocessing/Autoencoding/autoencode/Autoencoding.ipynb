{
 "cells": [
  {
   "cell_type": "code",
   "execution_count": 1,
   "id": "bcce188c",
   "metadata": {},
   "outputs": [],
   "source": [
    "#7/5/24 For the creation of an Autoencoder for Feature Extraction\n",
    "#The goal is to create an autoencoder that can parse SMILES via one hot encoding or a graphical representation\n",
    "#Main steps:\n",
    "    #One hot encoding SMILES DONE\n",
    "    #import into autoencoder\n",
    "    #train to recreate SMILES\n",
    "    #use latent space for feature prediction\n",
    "#Mostly for testing, one hot data is too large to parse into jupyter\n",
    "#Will test on drug target data\n",
    "#Even though an autoencoder model was already developed, due to the poor results it has shown\n",
    "#It has been totally rewritten\n",
    "\n",
    "import pandas as pd\n",
    "import numpy as np\n",
    "#Data import\n",
    "targetdata = pd.read_csv('/Users/james/Documents/Honours/Data/Targetdata/DrugTargets.csv')\n",
    "\n",
    "\n",
    "####################\n",
    "#Todo: iterate over multiple epoch size, batchsize and latent space sizes\n",
    "#maintain seed\n",
    "#store best model"
   ]
  },
  {
   "cell_type": "code",
   "execution_count": 81,
   "id": "149f7068",
   "metadata": {},
   "outputs": [],
   "source": [
    "#Creating test/train splits\n",
    "from sklearn.model_selection import train_test_split\n",
    "\n",
    "trainset, testset = train_test_split(targetdata, test_size=0.2, random_state=82)\n",
    "#Converts Toxicity Values to a list\n",
    "ytrain = trainset['Toxicity_Values'].to_list\n",
    "ytest = testset['Toxicity_Values']\n",
    "#Converts encoded drug target values to an array\n",
    "xtrain = trainset.iloc[:, 2:].values\n",
    "xtest = testset.iloc[:, 2:].values"
   ]
  },
  {
   "cell_type": "code",
   "execution_count": 57,
   "id": "e84a5865",
   "metadata": {},
   "outputs": [
    {
     "name": "stderr",
     "output_type": "stream",
     "text": [
      "WARNING:absl:At this time, the v2.11+ optimizer `tf.keras.optimizers.Adam` runs slowly on M1/M2 Macs, please use the legacy Keras optimizer instead, located at `tf.keras.optimizers.legacy.Adam`.\n",
      "WARNING:absl:There is a known slowdown when using v2.11+ Keras optimizers on M1/M2 Macs. Falling back to the legacy Keras optimizer, i.e., `tf.keras.optimizers.legacy.Adam`.\n"
     ]
    },
    {
     "name": "stdout",
     "output_type": "stream",
     "text": [
      "Model: \"autoencoder\"\n",
      "_________________________________________________________________\n",
      " Layer (type)                Output Shape              Param #   \n",
      "=================================================================\n",
      " input_3 (InputLayer)        [(None, 334, 1)]          0         \n",
      "                                                                 \n",
      " flatten_2 (Flatten)         (None, 334)               0         \n",
      "                                                                 \n",
      " dense_18 (Dense)            (None, 160)               53600     \n",
      "                                                                 \n",
      " dense_19 (Dense)            (None, 81)                13041     \n",
      "                                                                 \n",
      " dense_20 (Dense)            (None, 42)                3444      \n",
      "                                                                 \n",
      " dense_21 (Dense)            (None, 12)                516       \n",
      "                                                                 \n",
      " dense_22 (Dense)            (None, 12)                156       \n",
      "                                                                 \n",
      " dense_23 (Dense)            (None, 42)                546       \n",
      "                                                                 \n",
      " dense_24 (Dense)            (None, 81)                3483      \n",
      "                                                                 \n",
      " dense_25 (Dense)            (None, 160)               13120     \n",
      "                                                                 \n",
      " dense_26 (Dense)            (None, 334)               53774     \n",
      "                                                                 \n",
      " reshape_2 (Reshape)         (None, 334, 1)            0         \n",
      "                                                                 \n",
      "=================================================================\n",
      "Total params: 141,680\n",
      "Trainable params: 141,680\n",
      "Non-trainable params: 0\n",
      "_________________________________________________________________\n"
     ]
    }
   ],
   "source": [
    "import tensorflow as tf\n",
    "from tensorflow import keras\n",
    "\n",
    "# Determines layer size and input/output\n",
    "# Here it turns the 334 one hot encoded features to 42\n",
    "#latent_space = 42\n",
    "latent_space = 12\n",
    "keras.utils.set_random_seed(81)\n",
    "tf.config.experimental.enable_op_determinism()\n",
    "length = len(xtrain[0])\n",
    "\n",
    "# Encoder Creation\n",
    "enc_in = keras.Input(shape=(length, 1))\n",
    "x = keras.layers.Flatten()(enc_in)\n",
    "\n",
    "# Additional encoder layers\n",
    "x = keras.layers.Dense(160, activation=\"relu\")(x)\n",
    "x = keras.layers.Dense(81, activation=\"relu\")(x)\n",
    "x = keras.layers.Dense(42, activation=\"relu\")(x)\n",
    "\n",
    "enc_out = keras.layers.Dense(latent_space, activation=\"relu\")(x)\n",
    "encoder = keras.Model(enc_in, enc_out, name='relu')\n",
    "\n",
    "# Decoder Creation\n",
    "decoder_in = keras.layers.Dense(latent_space, activation='relu')(enc_out)\n",
    "\n",
    "# Additional decoder layers\n",
    "x = keras.layers.Dense(42, activation='relu')(decoder_in)\n",
    "x = keras.layers.Dense(81, activation='relu')(x)\n",
    "x = keras.layers.Dense(160, activation='relu')(x)\n",
    "\n",
    "x = keras.layers.Dense(length, activation='sigmoid')(x)\n",
    "decoder_out = keras.layers.Reshape((length,1))(x)\n",
    "\n",
    "# Optimiser\n",
    "optimise = tf.keras.optimizers.Adam()\n",
    "\n",
    "# Model Creation\n",
    "autoencoder = keras.Model(enc_in, decoder_out, name='autoencoder')\n",
    "\n",
    "autoencoder.compile(optimise, loss='binary_crossentropy')\n",
    "autoencoder.summary()"
   ]
  },
  {
   "cell_type": "code",
   "execution_count": 91,
   "id": "783bb482",
   "metadata": {
    "scrolled": true
   },
   "outputs": [
    {
     "name": "stdout",
     "output_type": "stream",
     "text": [
      " 199/2826 [=>............................] - ETA: 2s - loss: 0.0654"
     ]
    },
    {
     "name": "stderr",
     "output_type": "stream",
     "text": [
      "2024-06-05 16:23:19.636437: I tensorflow/core/common_runtime/executor.cc:1197] [/device:CPU:0] (DEBUG INFO) Executor start aborting (this does not indicate an error and you can ignore this message): INVALID_ARGUMENT: You must feed a value for placeholder tensor 'Placeholder/_11' with dtype int64 and shape [8476,334]\n",
      "\t [[{{node Placeholder/_11}}]]\n",
      "2024-06-05 16:23:19.636578: I tensorflow/core/common_runtime/executor.cc:1197] [/device:CPU:0] (DEBUG INFO) Executor start aborting (this does not indicate an error and you can ignore this message): INVALID_ARGUMENT: You must feed a value for placeholder tensor 'Placeholder/_11' with dtype int64 and shape [8476,334]\n",
      "\t [[{{node Placeholder/_11}}]]\n"
     ]
    },
    {
     "name": "stdout",
     "output_type": "stream",
     "text": [
      "2818/2826 [============================>.] - ETA: 0s - loss: 0.0628"
     ]
    },
    {
     "name": "stderr",
     "output_type": "stream",
     "text": [
      "2024-06-05 16:23:21.744518: I tensorflow/core/common_runtime/executor.cc:1197] [/device:CPU:0] (DEBUG INFO) Executor start aborting (this does not indicate an error and you can ignore this message): INVALID_ARGUMENT: You must feed a value for placeholder tensor 'Placeholder/_11' with dtype int64 and shape [2119,334]\n",
      "\t [[{{node Placeholder/_11}}]]\n",
      "2024-06-05 16:23:21.744647: I tensorflow/core/common_runtime/executor.cc:1197] [/device:CPU:0] (DEBUG INFO) Executor start aborting (this does not indicate an error and you can ignore this message): INVALID_ARGUMENT: You must feed a value for placeholder tensor 'Placeholder/_11' with dtype int64 and shape [2119,334]\n",
      "\t [[{{node Placeholder/_11}}]]\n"
     ]
    },
    {
     "name": "stdout",
     "output_type": "stream",
     "text": [
      "2826/2826 [==============================] - 2s 810us/step - loss: 0.0628 - val_loss: 0.0748\n",
      " 200/2826 [=>............................] - ETA: 1s - loss: 0.0637"
     ]
    },
    {
     "name": "stderr",
     "output_type": "stream",
     "text": [
      "2024-06-05 16:23:21.994328: I tensorflow/core/common_runtime/executor.cc:1197] [/device:CPU:0] (DEBUG INFO) Executor start aborting (this does not indicate an error and you can ignore this message): INVALID_ARGUMENT: You must feed a value for placeholder tensor 'Placeholder/_11' with dtype int64 and shape [8476,334]\n",
      "\t [[{{node Placeholder/_11}}]]\n",
      "2024-06-05 16:23:21.994456: I tensorflow/core/common_runtime/executor.cc:1197] [/device:CPU:0] (DEBUG INFO) Executor start aborting (this does not indicate an error and you can ignore this message): INVALID_ARGUMENT: You must feed a value for placeholder tensor 'Placeholder/_11' with dtype int64 and shape [8476,334]\n",
      "\t [[{{node Placeholder/_11}}]]\n"
     ]
    },
    {
     "name": "stdout",
     "output_type": "stream",
     "text": [
      "2826/2826 [==============================] - 2s 815us/step - loss: 0.0621 - val_loss: 0.0752\n"
     ]
    },
    {
     "name": "stderr",
     "output_type": "stream",
     "text": [
      "2024-06-05 16:23:24.115437: I tensorflow/core/common_runtime/executor.cc:1197] [/device:CPU:0] (DEBUG INFO) Executor start aborting (this does not indicate an error and you can ignore this message): INVALID_ARGUMENT: You must feed a value for placeholder tensor 'Placeholder/_11' with dtype int64 and shape [2119,334]\n",
      "\t [[{{node Placeholder/_11}}]]\n",
      "2024-06-05 16:23:24.115564: I tensorflow/core/common_runtime/executor.cc:1197] [/device:CPU:0] (DEBUG INFO) Executor start aborting (this does not indicate an error and you can ignore this message): INVALID_ARGUMENT: You must feed a value for placeholder tensor 'Placeholder/_11' with dtype int64 and shape [2119,334]\n",
      "\t [[{{node Placeholder/_11}}]]\n"
     ]
    },
    {
     "name": "stdout",
     "output_type": "stream",
     "text": [
      " 202/2826 [=>............................] - ETA: 1s - loss: 0.0637"
     ]
    },
    {
     "name": "stderr",
     "output_type": "stream",
     "text": [
      "2024-06-05 16:23:24.357164: I tensorflow/core/common_runtime/executor.cc:1197] [/device:CPU:0] (DEBUG INFO) Executor start aborting (this does not indicate an error and you can ignore this message): INVALID_ARGUMENT: You must feed a value for placeholder tensor 'Placeholder/_11' with dtype int64 and shape [8476,334]\n",
      "\t [[{{node Placeholder/_11}}]]\n",
      "2024-06-05 16:23:24.357292: I tensorflow/core/common_runtime/executor.cc:1197] [/device:CPU:0] (DEBUG INFO) Executor start aborting (this does not indicate an error and you can ignore this message): INVALID_ARGUMENT: You must feed a value for placeholder tensor 'Placeholder/_11' with dtype int64 and shape [8476,334]\n",
      "\t [[{{node Placeholder/_11}}]]\n"
     ]
    },
    {
     "name": "stdout",
     "output_type": "stream",
     "text": [
      "2826/2826 [==============================] - 2s 825us/step - loss: 0.0613 - val_loss: 0.0765\n"
     ]
    },
    {
     "name": "stderr",
     "output_type": "stream",
     "text": [
      "2024-06-05 16:23:26.501301: I tensorflow/core/common_runtime/executor.cc:1197] [/device:CPU:0] (DEBUG INFO) Executor start aborting (this does not indicate an error and you can ignore this message): INVALID_ARGUMENT: You must feed a value for placeholder tensor 'Placeholder/_11' with dtype int64 and shape [2119,334]\n",
      "\t [[{{node Placeholder/_11}}]]\n",
      "2024-06-05 16:23:26.501431: I tensorflow/core/common_runtime/executor.cc:1197] [/device:CPU:0] (DEBUG INFO) Executor start aborting (this does not indicate an error and you can ignore this message): INVALID_ARGUMENT: You must feed a value for placeholder tensor 'Placeholder/_11' with dtype int64 and shape [2119,334]\n",
      "\t [[{{node Placeholder/_11}}]]\n"
     ]
    },
    {
     "name": "stdout",
     "output_type": "stream",
     "text": [
      " 208/2826 [=>............................] - ETA: 1s - loss: 0.0628"
     ]
    },
    {
     "name": "stderr",
     "output_type": "stream",
     "text": [
      "2024-06-05 16:23:26.744494: I tensorflow/core/common_runtime/executor.cc:1197] [/device:CPU:0] (DEBUG INFO) Executor start aborting (this does not indicate an error and you can ignore this message): INVALID_ARGUMENT: You must feed a value for placeholder tensor 'Placeholder/_11' with dtype int64 and shape [8476,334]\n",
      "\t [[{{node Placeholder/_11}}]]\n",
      "2024-06-05 16:23:26.744624: I tensorflow/core/common_runtime/executor.cc:1197] [/device:CPU:0] (DEBUG INFO) Executor start aborting (this does not indicate an error and you can ignore this message): INVALID_ARGUMENT: You must feed a value for placeholder tensor 'Placeholder/_11' with dtype int64 and shape [8476,334]\n",
      "\t [[{{node Placeholder/_11}}]]\n"
     ]
    },
    {
     "name": "stdout",
     "output_type": "stream",
     "text": [
      "2826/2826 [==============================] - 2s 802us/step - loss: 0.0609 - val_loss: 0.0739\n"
     ]
    },
    {
     "name": "stderr",
     "output_type": "stream",
     "text": [
      "2024-06-05 16:23:28.825154: I tensorflow/core/common_runtime/executor.cc:1197] [/device:CPU:0] (DEBUG INFO) Executor start aborting (this does not indicate an error and you can ignore this message): INVALID_ARGUMENT: You must feed a value for placeholder tensor 'Placeholder/_11' with dtype int64 and shape [2119,334]\n",
      "\t [[{{node Placeholder/_11}}]]\n",
      "2024-06-05 16:23:28.825286: I tensorflow/core/common_runtime/executor.cc:1197] [/device:CPU:0] (DEBUG INFO) Executor start aborting (this does not indicate an error and you can ignore this message): INVALID_ARGUMENT: You must feed a value for placeholder tensor 'Placeholder/_11' with dtype int64 and shape [2119,334]\n",
      "\t [[{{node Placeholder/_11}}]]\n"
     ]
    },
    {
     "name": "stdout",
     "output_type": "stream",
     "text": [
      " 207/2826 [=>............................] - ETA: 1s - loss: 0.0615"
     ]
    },
    {
     "name": "stderr",
     "output_type": "stream",
     "text": [
      "2024-06-05 16:23:29.064566: I tensorflow/core/common_runtime/executor.cc:1197] [/device:CPU:0] (DEBUG INFO) Executor start aborting (this does not indicate an error and you can ignore this message): INVALID_ARGUMENT: You must feed a value for placeholder tensor 'Placeholder/_11' with dtype int64 and shape [8476,334]\n",
      "\t [[{{node Placeholder/_11}}]]\n",
      "2024-06-05 16:23:29.064694: I tensorflow/core/common_runtime/executor.cc:1197] [/device:CPU:0] (DEBUG INFO) Executor start aborting (this does not indicate an error and you can ignore this message): INVALID_ARGUMENT: You must feed a value for placeholder tensor 'Placeholder/_11' with dtype int64 and shape [8476,334]\n",
      "\t [[{{node Placeholder/_11}}]]\n"
     ]
    },
    {
     "name": "stdout",
     "output_type": "stream",
     "text": [
      "2826/2826 [==============================] - 2s 818us/step - loss: 0.0605 - val_loss: 0.0739\n"
     ]
    },
    {
     "name": "stderr",
     "output_type": "stream",
     "text": [
      "2024-06-05 16:23:31.189545: I tensorflow/core/common_runtime/executor.cc:1197] [/device:CPU:0] (DEBUG INFO) Executor start aborting (this does not indicate an error and you can ignore this message): INVALID_ARGUMENT: You must feed a value for placeholder tensor 'Placeholder/_11' with dtype int64 and shape [2119,334]\n",
      "\t [[{{node Placeholder/_11}}]]\n",
      "2024-06-05 16:23:31.189684: I tensorflow/core/common_runtime/executor.cc:1197] [/device:CPU:0] (DEBUG INFO) Executor start aborting (this does not indicate an error and you can ignore this message): INVALID_ARGUMENT: You must feed a value for placeholder tensor 'Placeholder/_11' with dtype int64 and shape [2119,334]\n",
      "\t [[{{node Placeholder/_11}}]]\n"
     ]
    },
    {
     "name": "stdout",
     "output_type": "stream",
     "text": [
      " 209/2826 [=>............................] - ETA: 1s - loss: 0.0608"
     ]
    },
    {
     "name": "stderr",
     "output_type": "stream",
     "text": [
      "2024-06-05 16:23:31.446835: I tensorflow/core/common_runtime/executor.cc:1197] [/device:CPU:0] (DEBUG INFO) Executor start aborting (this does not indicate an error and you can ignore this message): INVALID_ARGUMENT: You must feed a value for placeholder tensor 'Placeholder/_11' with dtype int64 and shape [8476,334]\n",
      "\t [[{{node Placeholder/_11}}]]\n",
      "2024-06-05 16:23:31.446961: I tensorflow/core/common_runtime/executor.cc:1197] [/device:CPU:0] (DEBUG INFO) Executor start aborting (this does not indicate an error and you can ignore this message): INVALID_ARGUMENT: You must feed a value for placeholder tensor 'Placeholder/_11' with dtype int64 and shape [8476,334]\n",
      "\t [[{{node Placeholder/_11}}]]\n"
     ]
    },
    {
     "name": "stdout",
     "output_type": "stream",
     "text": [
      "2826/2826 [==============================] - 2s 794us/step - loss: 0.0599 - val_loss: 0.0734\n"
     ]
    },
    {
     "name": "stderr",
     "output_type": "stream",
     "text": [
      "2024-06-05 16:23:33.506149: I tensorflow/core/common_runtime/executor.cc:1197] [/device:CPU:0] (DEBUG INFO) Executor start aborting (this does not indicate an error and you can ignore this message): INVALID_ARGUMENT: You must feed a value for placeholder tensor 'Placeholder/_11' with dtype int64 and shape [2119,334]\n",
      "\t [[{{node Placeholder/_11}}]]\n",
      "2024-06-05 16:23:33.506279: I tensorflow/core/common_runtime/executor.cc:1197] [/device:CPU:0] (DEBUG INFO) Executor start aborting (this does not indicate an error and you can ignore this message): INVALID_ARGUMENT: You must feed a value for placeholder tensor 'Placeholder/_11' with dtype int64 and shape [2119,334]\n",
      "\t [[{{node Placeholder/_11}}]]\n"
     ]
    },
    {
     "name": "stdout",
     "output_type": "stream",
     "text": [
      " 209/2826 [=>............................] - ETA: 1s - loss: 0.0602"
     ]
    },
    {
     "name": "stderr",
     "output_type": "stream",
     "text": [
      "2024-06-05 16:23:33.748118: I tensorflow/core/common_runtime/executor.cc:1197] [/device:CPU:0] (DEBUG INFO) Executor start aborting (this does not indicate an error and you can ignore this message): INVALID_ARGUMENT: You must feed a value for placeholder tensor 'Placeholder/_11' with dtype int64 and shape [8476,334]\n",
      "\t [[{{node Placeholder/_11}}]]\n",
      "2024-06-05 16:23:33.748246: I tensorflow/core/common_runtime/executor.cc:1197] [/device:CPU:0] (DEBUG INFO) Executor start aborting (this does not indicate an error and you can ignore this message): INVALID_ARGUMENT: You must feed a value for placeholder tensor 'Placeholder/_11' with dtype int64 and shape [8476,334]\n",
      "\t [[{{node Placeholder/_11}}]]\n"
     ]
    },
    {
     "name": "stdout",
     "output_type": "stream",
     "text": [
      "2826/2826 [==============================] - 2s 798us/step - loss: 0.0593 - val_loss: 0.0737\n"
     ]
    },
    {
     "name": "stderr",
     "output_type": "stream",
     "text": [
      "2024-06-05 16:23:35.819373: I tensorflow/core/common_runtime/executor.cc:1197] [/device:CPU:0] (DEBUG INFO) Executor start aborting (this does not indicate an error and you can ignore this message): INVALID_ARGUMENT: You must feed a value for placeholder tensor 'Placeholder/_11' with dtype int64 and shape [2119,334]\n",
      "\t [[{{node Placeholder/_11}}]]\n",
      "2024-06-05 16:23:35.819498: I tensorflow/core/common_runtime/executor.cc:1197] [/device:CPU:0] (DEBUG INFO) Executor start aborting (this does not indicate an error and you can ignore this message): INVALID_ARGUMENT: You must feed a value for placeholder tensor 'Placeholder/_11' with dtype int64 and shape [2119,334]\n",
      "\t [[{{node Placeholder/_11}}]]\n"
     ]
    }
   ],
   "source": [
    "#Runs and creates the autoencoder and outputs parameters to a specs file\n",
    "epochs = 7\n",
    "batchsize = 3\n",
    "losshistory = []\n",
    "vallosshistory = []\n",
    "for epoch in range(epochs):\n",
    "    logs = autoencoder.fit(\n",
    "    xtrain,\n",
    "    xtrain,\n",
    "    epochs=1,\n",
    "    batch_size=batchsize, validation_split=0.2)\n",
    "    \n",
    "    #autoencoder.save(str(f\"models/AE-{epoch+1}.keras\"))\n",
    "    autoencoder.save(str(f\"models/AE-{epoch+1}.keras\"))\n",
    "    losshistory.append(logs.history['loss'])\n",
    "    vallosshistory.append(logs.history['val_loss'])\n",
    "    \n",
    "    "
   ]
  },
  {
   "cell_type": "code",
   "execution_count": 92,
   "id": "cea4b048",
   "metadata": {},
   "outputs": [
    {
     "data": {
      "image/png": "[encoded data removed]",
      "text/plain": [
       "<Figure size 640x480 with 1 Axes>"
      ]
     },
     "metadata": {},
     "output_type": "display_data"
    }
   ],
   "source": [
    "epochs = range(7)\n",
    "plt.figure()\n",
    "plt.plot(epochs, losshistory, 'bo', label='Training loss')\n",
    "plt.plot(epochs, vallosshistory, 'b', label='Validation loss')\n",
    "plt.title('Training and validation loss')\n",
    "plt.legend()\n",
    "plt.show()"
   ]
  },
  {
   "cell_type": "code",
   "execution_count": 82,
   "id": "0fed8106",
   "metadata": {
    "scrolled": false
   },
   "outputs": [
    {
     "name": "stdout",
     "output_type": "stream",
     "text": [
      "83/83 [==============================] - 0s 419us/step\n"
     ]
    },
    {
     "name": "stderr",
     "output_type": "stream",
     "text": [
      "2024-05-29 13:45:00.957280: I tensorflow/core/common_runtime/executor.cc:1197] [/device:CPU:0] (DEBUG INFO) Executor start aborting (this does not indicate an error and you can ignore this message): INVALID_ARGUMENT: You must feed a value for placeholder tensor 'Placeholder/_10' with dtype int64 and shape [2649,334,1]\n",
      "\t [[{{node Placeholder/_10}}]]\n",
      "2024-05-29 13:45:00.957449: I tensorflow/core/common_runtime/executor.cc:1197] [/device:CPU:0] (DEBUG INFO) Executor start aborting (this does not indicate an error and you can ignore this message): INVALID_ARGUMENT: You must feed a value for placeholder tensor 'Placeholder/_10' with dtype int64 and shape [2649,334,1]\n",
      "\t [[{{node Placeholder/_10}}]]\n"
     ]
    }
   ],
   "source": [
    "toxtest = []\n",
    "for items in ytest:\n",
    "    toxtest.append(items)\n",
    "\n",
    "#colcount = len(xtest[0])\n",
    "colcount = len(xtrain[0])\n",
    "#ae_out = autoencoder.predict([ xtrain.reshape(-1, colcount, 1) ])\n",
    "ae_out = autoencoder.predict([ xtest.reshape(-1, colcount, 1) ])\n",
    "outsize = len(ae_out)\n",
    "predictions = ae_out.reshape(outsize,colcount)"
   ]
  },
  {
   "cell_type": "code",
   "execution_count": 83,
   "id": "6a9c01bd",
   "metadata": {},
   "outputs": [
    {
     "ename": "TypeError",
     "evalue": "'History' object is not subscriptable",
     "output_type": "error",
     "traceback": [
      "\u001b[0;31m---------------------------------------------------------------------------\u001b[0m",
      "\u001b[0;31mTypeError\u001b[0m                                 Traceback (most recent call last)",
      "Cell \u001b[0;32mIn[83], line 1\u001b[0m\n\u001b[0;32m----> 1\u001b[0m oss \u001b[38;5;241m=\u001b[39m autoencoder\u001b[38;5;241m.\u001b[39mhistory[\u001b[38;5;124m'\u001b[39m\u001b[38;5;124mloss\u001b[39m\u001b[38;5;124m'\u001b[39m]\n\u001b[1;32m      2\u001b[0m val_loss \u001b[38;5;241m=\u001b[39m autoencoder\u001b[38;5;241m.\u001b[39mhistory[\u001b[38;5;124m'\u001b[39m\u001b[38;5;124mval_loss\u001b[39m\u001b[38;5;124m'\u001b[39m]\n\u001b[1;32m      3\u001b[0m epochs \u001b[38;5;241m=\u001b[39m \u001b[38;5;28mrange\u001b[39m(\u001b[38;5;241m200\u001b[39m)\n",
      "\u001b[0;31mTypeError\u001b[0m: 'History' object is not subscriptable"
     ]
    }
   ],
   "source": []
  },
  {
   "cell_type": "code",
   "execution_count": 60,
   "id": "e9a124e5",
   "metadata": {},
   "outputs": [],
   "source": [
    "#Function to calculate fpr and tpr given a set of predictions, a threshold and the acutal data\n",
    "def ratecalc(predictions, threshold, xtest):\n",
    "    fpcount = 0\n",
    "    tpcount = 0\n",
    "    tncount = 0\n",
    "    fncount = 0\n",
    "\n",
    "    iterations = 0\n",
    "    for samples in predictions:\n",
    "        loops = 0\n",
    "        for value in predictions[iterations]:\n",
    "            testscore = xtest[iterations][loops]\n",
    "            #testscore = xtrain[iterations][loops]\n",
    "            if value > threshold:\n",
    "                if testscore != 0:\n",
    "                    tpcount = tpcount + 1\n",
    "                else:\n",
    "                    fpcount = fpcount + 1\n",
    "            else:\n",
    "                if testscore != 0:\n",
    "                    fncount = fncount + 1\n",
    "                else:\n",
    "                    tncount = tncount + 1\n",
    "\n",
    "            loops = loops + 1\n",
    "    \n",
    "    fpr = fpcount / (fpcount + tncount)\n",
    "    tpr = tpcount / (tpcount + fncount)\n",
    "    \n",
    "    return(fpr, tpr)"
   ]
  },
  {
   "cell_type": "code",
   "execution_count": 61,
   "id": "36bb7758",
   "metadata": {
    "scrolled": true
   },
   "outputs": [
    {
     "data": {
      "image/png": "[encoded data removed]",
      "text/plain": [
       "<Figure size 600x600 with 1 Axes>"
      ]
     },
     "metadata": {},
     "output_type": "display_data"
    }
   ],
   "source": [
    "#ROC curve creation\n",
    "ratelist = []\n",
    "for threshold in np.arange(0, 2.1, 0.05):\n",
    "    ratelist.append(ratecalc(predictions, threshold, xtest))\n",
    "\n",
    "import matplotlib.pyplot as plt\n",
    "x_values = [x for x, y in ratelist]\n",
    "y_values = [y for x, y in ratelist]\n",
    "\n",
    "# Create the plot\n",
    "plt.figure(figsize=(6, 6))\n",
    "plt.plot(x_values, y_values, marker='o', linestyle='-')\n",
    "\n",
    "# Add titles and labels\n",
    "plt.title('FPR over TPR given a changing threshold')\n",
    "plt.xlabel('FPR')\n",
    "plt.ylabel('TPR')\n",
    "\n",
    "# Display the plot\n",
    "plt.grid(True)\n",
    "plt.show()"
   ]
  },
  {
   "cell_type": "code",
   "execution_count": 78,
   "id": "3ce8ed68",
   "metadata": {},
   "outputs": [],
   "source": [
    "#Function to calculate net accuracy in relation to threshold\n",
    "import math\n",
    "\n",
    "def acccalc(predictions, threshold, xtest):\n",
    "    correctcount = 0\n",
    "    fpcount = 0\n",
    "    tpcount = 0\n",
    "    tncount = 0\n",
    "    fncount = 0\n",
    "    testpos = 0\n",
    "    testneg = 0\n",
    "\n",
    "    iterations = 0\n",
    "    for samples in predictions:\n",
    "        loops = 0\n",
    "        for value in predictions[iterations]:\n",
    "            testscore = xtest[iterations][loops]\n",
    "            #testscore = xtrain[iterations][loops]\n",
    "            if value > threshold:\n",
    "                if testscore != 0:\n",
    "                    testpos = testpos + 1\n",
    "                    correctcount = correctcount + 1\n",
    "                    tpcount = tpcount + 1\n",
    "                else:\n",
    "                    fpcount = fpcount + 1\n",
    "                    testneg = testneg + 1\n",
    "            else:\n",
    "                if testscore != 0:\n",
    "                    testpos = testpos + 1\n",
    "                    fncount = fncount + 1\n",
    "                else:\n",
    "                    testneg = testneg + 1\n",
    "                    correctcount = correctcount + 1\n",
    "                    tncount = tncount + 1\n",
    "\n",
    "            loops = loops + 1\n",
    "        \n",
    "    #netacc = correctcount / (fpcount + fncount + tpcount + tncount)\n",
    "    #netfn = fncount / (fncount + tncount)\n",
    "    #nettn = tncount / (fncount + tncount)\n",
    "    #netacc = correctcount / (fpcount + fncount + tpcount + tncount)\n",
    "    posacc = tpcount / testpos\n",
    "    #negacc = tncount / testneg\n",
    "    #netfp = fpcount / (fpcount + tpcount)\n",
    "    #nettp = tpcount / (tpcount + fpcount)\n",
    "    #f1 = (2 * tpcount) / ((2 * tpcount) + fpcount + fncount)\n",
    "    \n",
    "    tp = tpcount\n",
    "    fp = fpcount\n",
    "    tn = tncount\n",
    "    fn = fncount\n",
    "    \n",
    "    temp = math.sqrt((fp + tn) * (tp + fp) * (tp + fn) * (tn + fn))\n",
    "    if temp == 0:\n",
    "        return(0)\n",
    "    mcc = ((tp * tn) - (fp * fn)) / temp\n",
    "    \n",
    "#    temp = (( ( (tp + fp) * (fp + tn) ) + ( (tp + fn) * (fn + tn) ) ))\n",
    "#    if temp == 0:\n",
    "#        return(0)\n",
    "#    kapp =  ( 2 * ((tp * tn) - (fn * fp)) ) / temp\n",
    "\n",
    "    return(mcc)\n",
    "\n",
    "colcount = len(xtest[0])\n",
    "#ae_out = autoencoder.predict([ xtest.reshape(-1, colcount, 1) ])\n",
    "#predictions = ae_out.reshape(2649,colcount)\n",
    "\n",
    "toxtest = []\n",
    "for items in ytest:\n",
    "    toxtest.append(items)\n"
   ]
  },
  {
   "cell_type": "code",
   "execution_count": 79,
   "id": "3a31f2cf",
   "metadata": {},
   "outputs": [
    {
     "name": "stdout",
     "output_type": "stream",
     "text": [
      "optimal paramers at y= 0.8425814808603621 x= 0.42\n"
     ]
    },
    {
     "data": {
      "image/png": "[encoded data removed]",
      "text/plain": [
       "<Figure size 800x600 with 1 Axes>"
      ]
     },
     "metadata": {},
     "output_type": "display_data"
    }
   ],
   "source": [
    "#Metric curve creation\n",
    "acclist = []\n",
    "thresholdlist = []\n",
    "for threshold in np.arange(0, 2.1, 0.02):\n",
    "    acclist.append(acccalc(predictions, threshold, xtest))\n",
    "    thresholdlist.append(threshold)\n",
    "\n",
    "import matplotlib.pyplot as plt\n",
    "y_values = acclist\n",
    "x_values = thresholdlist\n",
    "\n",
    "max_y = max(y_values)\n",
    "max_x = x_values[y_values.index(max_y)]\n",
    "\n",
    "print('optimal paramers at y=', max_y, 'x=', max_x)\n",
    "\n",
    "# Create the plot\n",
    "plt.figure(figsize=(8, 6))\n",
    "plt.plot(x_values, y_values, marker='o', linestyle='-')\n",
    "\n",
    "# Add titles and labels\n",
    "plt.title('Plot of Tuple Data')\n",
    "plt.ylabel('Metric')\n",
    "plt.xlabel('Threshold')\n",
    "\n",
    "# Display the plot\n",
    "plt.grid(True)\n",
    "plt.show()"
   ]
  },
  {
   "cell_type": "code",
   "execution_count": 80,
   "id": "5845e866",
   "metadata": {},
   "outputs": [
    {
     "name": "stdout",
     "output_type": "stream",
     "text": [
      "threshold = 0.42\n",
      "specs:\n",
      "epochs = 7 batchsize = 3 latent space = 12 layers = 160, 81, 42 \n",
      "\n",
      "positives in data 13245\n",
      "negatives in data 871521 \n",
      "\n",
      "fn count = 0\n",
      "tn count = 866223\n",
      "tp count = 13245\n",
      "fp count = 5298 \n",
      "\n",
      "net accuracy = 0.9940119760479041\n",
      "positive accuracy = 1.0\n",
      "negative accuracy = 0.993920972644377 \n",
      "\n",
      "fpr = 0.0060790273556231\n",
      "tpr = 1.0 \n",
      "\n",
      "f1 score = 0.8333333333333334\n",
      "mcc = 0.8425814808603621\n",
      "cohen Kappa = 0.8303707465718639\n"
     ]
    }
   ],
   "source": [
    "#Generic Metric testing for a given threshold\n",
    "correctcount = 0\n",
    "fpcount = 0\n",
    "tpcount = 0\n",
    "tncount = 0\n",
    "fncount = 0\n",
    "testpos = 0\n",
    "testneg = 0\n",
    "\n",
    "iterations = 0\n",
    "for samples in predictions:\n",
    "    loops = 0\n",
    "    for value in predictions[iterations]:\n",
    "        testscore = xtest[iterations][loops]\n",
    "        #testscore = xtrain[iterations][loops]\n",
    "        if value > max_x:\n",
    "            if testscore != 0:\n",
    "                testpos = testpos + 1\n",
    "                correctcount = correctcount + 1\n",
    "                tpcount = tpcount + 1\n",
    "            else:\n",
    "                fpcount = fpcount + 1\n",
    "                testneg = testneg + 1\n",
    "        else:\n",
    "            if testscore != 0:\n",
    "                testpos = testpos + 1\n",
    "                fncount = fncount + 1\n",
    "            else:\n",
    "                testneg = testneg + 1\n",
    "                correctcount = correctcount + 1\n",
    "                tncount = tncount + 1\n",
    "                \n",
    "        loops = loops + 1\n",
    "\n",
    "print('threshold =', max_x)\n",
    "print('specs:')\n",
    "print('epochs =', epochs, 'batchsize =', batchsize, 'latent space =', latent_space, 'layers =', '160, 81, 42', '\\n')\n",
    "\n",
    "print('positives in data', testpos)\n",
    "print('negatives in data', testneg, '\\n')\n",
    "\n",
    "print('fn count =', fncount)\n",
    "print('tn count =', tncount)\n",
    "\n",
    "print('tp count =', tpcount)\n",
    "print('fp count =', fpcount, '\\n')\n",
    "\n",
    "netfn = fncount / (fncount + tncount)\n",
    "nettn = tncount / (fncount + tncount)\n",
    "netacc = correctcount / (fpcount + fncount + tpcount + tncount)\n",
    "posacc = tpcount / testpos\n",
    "negacc = tncount / testneg\n",
    "netfp = fpcount / (fpcount + tpcount)\n",
    "nettp = tpcount / (tpcount + fpcount)\n",
    "\n",
    "print('net accuracy =', netacc)\n",
    "print('positive accuracy =', posacc)\n",
    "print('negative accuracy =', negacc, '\\n')\n",
    "\n",
    "fpr = fpcount / (fpcount + tncount)\n",
    "tpr = tpcount / (tpcount + fncount)\n",
    "\n",
    "print('fpr =', fpr)\n",
    "print('tpr =', tpr, '\\n')\n",
    "\n",
    "f1 = (2 * tpcount) / ((2 * tpcount) + fpcount + fncount)\n",
    "print('f1 score =',f1)\n",
    "\n",
    "tp = tpcount\n",
    "fp = fpcount\n",
    "tn = tncount\n",
    "fn = fncount\n",
    "\n",
    "mcc = ((tp * tn) - (fp * fn)) / math.sqrt((fp + tn) * (tp + fp) * (tp + fn) * (tn + fn))\n",
    "\n",
    "print('mcc =',mcc)\n",
    "\n",
    "temp = (( ( (tp + fp) * (fp + tn) ) + ( (tp + fn) * (fn + tn) ) ))\n",
    "kapp =  ( 2 * ((tp * tn) - (fn * fp)) ) / temp\n",
    "\n",
    "print('cohen Kappa =',kapp)\n"
   ]
  },
  {
   "cell_type": "code",
   "execution_count": null,
   "id": "80756f7e",
   "metadata": {
    "scrolled": true
   },
   "outputs": [],
   "source": [
    "threshold = 0.36\n",
    "specs:\n",
    "epochs = 7 batchsize = 3 latent space = 12 layers = 160, 81, 42 \n",
    "\n",
    "positives in data 37086\n",
    "negatives in data 847680 \n",
    "\n",
    "fn count = 10596\n",
    "tn count = 842382\n",
    "tp count = 26490\n",
    "fp count = 5298 \n",
    "\n",
    "net accuracy = 0.9820359281437125\n",
    "positive accuracy = 0.7142857142857143\n",
    "negative accuracy = 0.99375 \n",
    "\n",
    "fpr = 0.00625\n",
    "tpr = 0.7142857142857143 \n",
    "\n",
    "f1 score = 0.7692307692307693\n",
    "mcc = 0.7623872291645094\n",
    "cohen Kappa = 0.7599425011978918\n"
   ]
  },
  {
   "cell_type": "code",
   "execution_count": 73,
   "id": "f41c7e90",
   "metadata": {},
   "outputs": [],
   "source": [
    "autoencoder.save('bing.keras')\n",
    "autoencoder = keras.models.load_model('/Users/james/Documents/Honours/Python/Target_Selection/Drug_Targets/autoencode/bing.keras')"
   ]
  }
 ],
 "metadata": {
  "kernelspec": {
   "display_name": "Python 3 (ipykernel)",
   "language": "python",
   "name": "python3"
  },
  "language_info": {
   "codemirror_mode": {
    "name": "ipython",
    "version": 3
   },
   "file_extension": ".py",
   "mimetype": "text/x-python",
   "name": "python",
   "nbconvert_exporter": "python",
   "pygments_lexer": "ipython3",
   "version": "3.11.5"
  }
 },
 "nbformat": 4,
 "nbformat_minor": 5
}
