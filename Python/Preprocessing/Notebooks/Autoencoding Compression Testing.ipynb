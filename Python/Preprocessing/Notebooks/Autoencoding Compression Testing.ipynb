{
 "cells": [
  {
   "cell_type": "code",
   "execution_count": 1,
   "id": "9c198528",
   "metadata": {},
   "outputs": [],
   "source": [
    "#20/5/24 Testing Quantization and other size reduction methods for an autoencoder model in keras\n",
    "#One hot models tend to get absurdly large and thus this can help qol for moving and testing these models\n",
    "\n",
    "import pandas as pd\n",
    "import numpy as np\n",
    "#Data import\n",
    "targetdata = pd.read_csv('/Users/james/Documents/Honours/Python/Target_Selection/Drug_Targets/DrugTargets.csv')\n",
    "\n",
    "#Creating test/train splits\n",
    "from sklearn.model_selection import train_test_split\n",
    "\n",
    "trainset, testset = train_test_split(targetdata, test_size=0.2, random_state=81)\n",
    "#Converts Toxicity Values to a list\n",
    "ytrain = trainset['Toxicity_Values'].to_list\n",
    "ytest = testset['Toxicity_Values'].to_list\n",
    "#Converts encoded drug target values to an array\n",
    "xtrain = trainset.iloc[:, 2:].values\n",
    "xtest = testset.iloc[:, 2:].values"
   ]
  },
  {
   "cell_type": "code",
   "execution_count": null,
   "id": "d82f6bd7",
   "metadata": {},
   "outputs": [],
   "source": [
    "import tensorflow as tf\n",
    "from tensorflow import keras\n",
    "\n"
   ]
  }
 ],
 "metadata": {
  "kernelspec": {
   "display_name": "Python 3 (ipykernel)",
   "language": "python",
   "name": "python3"
  },
  "language_info": {
   "codemirror_mode": {
    "name": "ipython",
    "version": 3
   },
   "file_extension": ".py",
   "mimetype": "text/x-python",
   "name": "python",
   "nbconvert_exporter": "python",
   "pygments_lexer": "ipython3",
   "version": "3.11.5"
  }
 },
 "nbformat": 4,
 "nbformat_minor": 5
}
