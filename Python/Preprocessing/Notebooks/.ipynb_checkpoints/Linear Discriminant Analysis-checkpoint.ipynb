{
 "cells": [
  {
   "cell_type": "code",
   "execution_count": 1,
   "id": "31c29977-296c-4207-9e24-8aea84284070",
   "metadata": {},
   "outputs": [],
   "source": [
    "#LDA implementaiton\n",
    "import pandas as pd\n",
    "import numpy as np\n",
    "from sklearn.datasets import load_digits\n",
    "from sklearn.model_selection import train_test_split\n",
    "from sklearn.preprocessing import StandardScaler\n",
    "import matplotlib.pyplot as plt\n",
    "import seaborn as sns\n",
    "\n",
    "%matplotlib inline\n",
    "import umap\n",
    "\n",
    "\n",
    "from rdkit import Chem\n",
    "import pandas as pd\n",
    "\n",
    "data = pd.read_csv('deepnormspedata.csv')\n",
    "dataframe = data.drop(\"DeepSMILE\", axis=1)\n",
    "dataframe = dataframe.drop(\"Toxicity_Value\", axis=1)"
   ]
  },
  {
   "cell_type": "code",
   "execution_count": 13,
   "id": "e9be881c-e30d-4ace-bfab-bb74769d485e",
   "metadata": {},
   "outputs": [
    {
     "data": {
      "text/plain": [
       "0        1\n",
       "1        1\n",
       "2        1\n",
       "3        1\n",
       "4        1\n",
       "        ..\n",
       "13239    1\n",
       "13240    1\n",
       "13241    1\n",
       "13242    1\n",
       "13243    1\n",
       "Name: Toxicity_Value, Length: 13244, dtype: int64"
      ]
     },
     "execution_count": 13,
     "metadata": {},
     "output_type": "execute_result"
    }
   ],
   "source": [
    "data.Toxicity_Value"
   ]
  },
  {
   "cell_type": "code",
   "execution_count": 32,
   "id": "218f7d3e-582b-4701-b53b-79795f5a57e2",
   "metadata": {},
   "outputs": [
    {
     "data": {
      "text/plain": [
       "array([[-0.3513688 ],\n",
       "       [ 0.61135592],\n",
       "       [ 1.34340816],\n",
       "       ...,\n",
       "       [-0.3513688 ],\n",
       "       [ 0.89481626],\n",
       "       [ 0.72313672]])"
      ]
     },
     "execution_count": 32,
     "metadata": {},
     "output_type": "execute_result"
    }
   ],
   "source": [
    "from sklearn.discriminant_analysis import LinearDiscriminantAnalysis as LDA\n",
    "Solver = 'svd'\n",
    "compcount = range(1,50)\n",
    "\n",
    "test = LDA()\n",
    "temp = test.fit_transform(dataframe, data.Toxicity_Value.values)\n",
    "#temp = test.fit_transform(X, y)\n",
    "temp"
   ]
  },
  {
   "cell_type": "code",
   "execution_count": 18,
   "id": "81bf2ee9-f4e2-4dcf-b1b9-b37839354886",
   "metadata": {},
   "outputs": [],
   "source": [
    "\n"
   ]
  },
  {
   "cell_type": "code",
   "execution_count": 21,
   "id": "b66a99e4-2cca-4b9e-9bdc-905c6856ef42",
   "metadata": {},
   "outputs": [
    {
     "data": {
      "text/plain": [
       "array([1, 1, 1, ..., 1, 1, 1])"
      ]
     },
     "execution_count": 21,
     "metadata": {},
     "output_type": "execute_result"
    }
   ],
   "source": [
    "data.Toxicity_Value.values"
   ]
  }
 ],
 "metadata": {
  "kernelspec": {
   "display_name": "Python 3 (ipykernel)",
   "language": "python",
   "name": "python3"
  },
  "language_info": {
   "codemirror_mode": {
    "name": "ipython",
    "version": 3
   },
   "file_extension": ".py",
   "mimetype": "text/x-python",
   "name": "python",
   "nbconvert_exporter": "python",
   "pygments_lexer": "ipython3",
   "version": "3.11.5"
  }
 },
 "nbformat": 4,
 "nbformat_minor": 5
}
