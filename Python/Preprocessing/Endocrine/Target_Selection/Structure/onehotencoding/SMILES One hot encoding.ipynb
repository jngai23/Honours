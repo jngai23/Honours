{
 "cells": [
  {
   "cell_type": "code",
   "execution_count": 44,
   "id": "29139959",
   "metadata": {},
   "outputs": [],
   "source": [
    "#7/5/24 For the creation of an Autoencoder for Feature Extraction\n",
    "#The goal is to create an autoencoder that can parse SMILES via one hot encoding or a graphical representation\n",
    "#Main steps:\n",
    "    #One hot encoding SMILES DONE\n",
    "    #import into autoencoder\n",
    "    #train to recreate SMILES\n",
    "    #use latent space for feature prediction\n",
    "#Mostly for testing, one hot data is too large to parse into jupyter\n",
    "#Will test on SMILESPE data\n",
    "\n",
    "import pandas as pd\n",
    "import numpy as np\n",
    "#Data import\n",
    "dataset = pd.read_csv('/Users/james/Documents/Honours/Data/processed_endo_data.csv')\n",
    "smiles = dataset['Canonical SMILES'].tolist()\n",
    "toxvals = dataset['Toxicity Value'].tolist()\n",
    "dflist =  list(zip(smiles, toxvals))\n",
    "df = pd.DataFrame(dflist, columns = ['SMILES', 'Toxicity_Values'])\n",
    "\n"
   ]
  },
  {
   "cell_type": "code",
   "execution_count": 24,
   "id": "2786ff65",
   "metadata": {},
   "outputs": [],
   "source": [
    "arrays = np.array([[char for char in string] for string in smiles], dtype=object)"
   ]
  },
  {
   "cell_type": "code",
   "execution_count": 25,
   "id": "7031a039",
   "metadata": {},
   "outputs": [
    {
     "data": {
      "text/plain": [
       "array([list(['C', 'l', 'c', '1', 'c', 'c', 'c', '(', 'C', 'n', '2', 'c', '(', 'C', 'N', '3', 'C', 'C', 'C', 'C', '3', ')', 'n', 'c', '3', 'c', 'c', 'c', 'c', 'c', '3', '2', ')', 'c', 'c', '1']),\n",
       "       list(['C', 'O', 'c', '1', 'c', 'c', 'c', 'c', 'c', '1', 'N', '1', 'C', 'C', 'N', '(', 'C', 'C', 'C', 'C', '(', '=', 'O', ')', 'c', '2', 'c', 'c', 'c', '(', 'F', ')', 'c', 'c', '2', ')', 'C', 'C', '1']),\n",
       "       list(['C', 'N', 'C', '(', '=', 'O', ')', 'O', 'c', '1', 'c', 'c', 'c', 'c', '2', 'c', '1', 'O', 'C', '(', 'C', ')', '(', 'C', ')', 'C', '2']),\n",
       "       ...,\n",
       "       list(['C', 'C', '1', '=', 'C', '[', 'C', '@', 'H', ']', '(', 'O', ')', 'C', 'C', '(', 'C', ')', '(', 'C', ')', '[', 'C', '@', 'H', ']', '1', '/', 'C', '=', 'C', '/', 'C', '(', 'C', ')', '=', 'C', '/', 'C', '=', 'C', '/', 'C', '(', 'C', ')', '=', 'C', '/', 'C', '=', 'C', '\\\\', 'C', '=', 'C', '(', 'C', ')', '\\\\', 'C', '=', 'C', '\\\\', 'C', '=', 'C', '(', 'C', ')', '\\\\', 'C', '=', 'C', '\\\\', 'C', '1', '=', 'C', '(', 'C', ')', 'C', '[', 'C', '@', '@', 'H', ']', '(', 'O', ')', 'C', 'C', '1', '(', 'C', ')', 'C']),\n",
       "       list(['C', 'C', 'C', '1', 'O', 'C', '(', '=', 'O', ')', 'C', '[', 'C', '@', '@', 'H', ']', '(', 'O', ')', '[', 'C', '@', 'H', ']', '(', 'C', ')', '[', 'C', '@', '@', 'H', ']', '(', 'O', '[', 'C', '@', '@', 'H', ']', '2', 'O', '[', 'C', '@', 'H', ']', '(', 'C', ')', 'C', '[', 'C', '@', 'H', ']', '(', 'N', '(', 'C', ')', 'C', ')', '[', 'C', '@', 'H', ']', '2', 'O', ')', '[', 'C', '@', '@', 'H', ']', '(', 'C', 'C', '=', 'O', ')', 'C', '[', 'C', '@', '@', 'H', ']', '(', 'C', ')', 'C', '(', '=', 'O', ')', 'C', '=', 'C', '[', 'C', '@', ']', '2', '(', 'C', ')', 'O', 'C', '2', 'C', '1', 'C']),\n",
       "       list(['C', 'O', '[', 'C', '@', 'H', ']', '1', 'C', 'C', '(', 'O', '[', 'C', '@', 'H', ']', '2', 'C', '[', 'C', '@', 'H', ']', '(', '[', 'C', '@', 'H', ']', '3', 'O', '[', 'C', '@', ']', '(', 'C', ')', '(', 'O', ')', '[', 'C', '@', 'H', ']', '(', 'C', ')', 'C', '[', 'C', '@', '@', 'H', ']', '3', 'C', ')', 'O', '[', 'C', '@', 'H', ']', '2', '[', 'C', '@', ']', '2', '(', 'C', ')', 'C', 'C', '[', 'C', '@', 'H', ']', '(', '[', 'C', '@', ']', '3', '(', 'C', ')', 'C', 'C', '[', 'C', '@', ']', '4', '(', 'C', '[', 'C', '@', 'H', ']', '(', 'O', ')', '[', 'C', '@', '@', 'H', ']', '(', 'C', ')', '[', 'C', '@', '@', 'H', ']', '(', '[', 'C', '@', '@', 'H', ']', '(', 'C', ')', '[', 'C', '@', '@', 'H', ']', '5', 'O', '[', 'C', '@', ']', '(', 'O', ')', '(', 'C', 'C', '(', '=', 'O', ')', '[', 'O', '-', ']', ')', '[', 'C', '@', '@', 'H', ']', '(', 'C', ')', '[', 'C', '@', 'H', ']', '(', 'O', 'C', ')', '[', 'C', '@', 'H', ']', '5', 'O', 'C', ')', 'O', '4', ')', 'O', '3', ')', 'O', '2', ')', 'O', '[', 'C', '@', '@', 'H', ']', '(', 'C', ')', '[', 'C', '@', '@', 'H', ']', '1', 'O', 'C'])],\n",
       "      dtype=object)"
      ]
     },
     "execution_count": 25,
     "metadata": {},
     "output_type": "execute_result"
    }
   ],
   "source": [
    "arrays"
   ]
  },
  {
   "cell_type": "code",
   "execution_count": 52,
   "id": "a60822dc",
   "metadata": {},
   "outputs": [
    {
     "data": {
      "text/plain": [
       "55"
      ]
     },
     "execution_count": 52,
     "metadata": {},
     "output_type": "execute_result"
    }
   ],
   "source": [
    "#One hot encoding\n",
    "\n",
    "#Vocab creation\n",
    "vocab = list(set(''.join(smiles)))\n",
    "#removes the ' ' element\n",
    "vocab.pop(53)\n",
    "\n"
   ]
  },
  {
   "cell_type": "code",
   "execution_count": 55,
   "id": "6e42d24e",
   "metadata": {},
   "outputs": [],
   "source": [
    "from smiles_encoder import SmilesEncoder\n",
    "smiles = [string.replace(\" \", \"\") for string in smiles]\n",
    "encoder = SmilesEncoder(smiles)\n",
    "encoded_smiles = encoder.encode_many(smiles)"
   ]
  },
  {
   "cell_type": "code",
   "execution_count": null,
   "id": "ea8f4020",
   "metadata": {},
   "outputs": [],
   "source": []
  },
  {
   "cell_type": "code",
   "execution_count": 90,
   "id": "f8c8fd0f",
   "metadata": {},
   "outputs": [
    {
     "data": {
      "text/plain": [
       "1"
      ]
     },
     "execution_count": 90,
     "metadata": {},
     "output_type": "execute_result"
    }
   ],
   "source": [
    "onehot = pd.DataFrame(encoded_smiles)\n",
    "onehot.shape\n",
    "onehot[0][0][0]\n",
    "#len(onehot[0][0][0])\n"
   ]
  },
  {
   "cell_type": "code",
   "execution_count": 108,
   "id": "fe88d427",
   "metadata": {},
   "outputs": [
    {
     "data": {
      "text/plain": [
       "0        [1, 0, 0, 0, 0, 0, 0, 0, 0, 0, 0, 0, 0, 0, 0, ...\n",
       "1        [0, 0, 0, 0, 1, 0, 0, 0, 0, 0, 0, 0, 0, 0, 0, ...\n",
       "2        [0, 0, 0, 0, 1, 0, 0, 0, 0, 0, 0, 0, 0, 0, 0, ...\n",
       "3        [0, 0, 0, 0, 1, 0, 0, 0, 0, 0, 0, 0, 0, 0, 0, ...\n",
       "4        [0, 0, 0, 0, 1, 0, 0, 0, 0, 0, 0, 0, 0, 0, 0, ...\n",
       "                               ...                        \n",
       "13239    [0, 0, 0, 0, 1, 0, 0, 0, 0, 0, 0, 0, 0, 0, 0, ...\n",
       "13240    [0, 0, 0, 0, 1, 0, 0, 0, 0, 0, 0, 0, 0, 0, 0, ...\n",
       "13241    [0, 0, 0, 0, 1, 0, 0, 0, 0, 0, 0, 0, 0, 0, 0, ...\n",
       "13242    [0, 0, 0, 0, 1, 0, 0, 0, 0, 0, 0, 0, 0, 0, 0, ...\n",
       "13243    [0, 0, 0, 0, 1, 0, 0, 0, 0, 0, 0, 0, 0, 0, 0, ...\n",
       "Name: 0, Length: 13244, dtype: object"
      ]
     },
     "execution_count": 108,
     "metadata": {},
     "output_type": "execute_result"
    }
   ],
   "source": [
    "onehot[0]"
   ]
  },
  {
   "cell_type": "code",
   "execution_count": 109,
   "id": "b937490d",
   "metadata": {},
   "outputs": [
    {
     "ename": "KeyboardInterrupt",
     "evalue": "",
     "output_type": "error",
     "traceback": [
      "\u001b[0;31m---------------------------------------------------------------------------\u001b[0m",
      "\u001b[0;31mKeyboardInterrupt\u001b[0m                         Traceback (most recent call last)",
      "Cell \u001b[0;32mIn[109], line 5\u001b[0m\n\u001b[1;32m      3\u001b[0m templist \u001b[38;5;241m=\u001b[39m []\n\u001b[1;32m      4\u001b[0m \u001b[38;5;28;01mfor\u001b[39;00m lists \u001b[38;5;129;01min\u001b[39;00m onehot[smile]:\n\u001b[0;32m----> 5\u001b[0m     templist \u001b[38;5;241m=\u001b[39m templist \u001b[38;5;241m+\u001b[39m lists\n\u001b[1;32m      6\u001b[0m concalist\u001b[38;5;241m.\u001b[39mappend(templist)\n",
      "\u001b[0;31mKeyboardInterrupt\u001b[0m: "
     ]
    }
   ],
   "source": [
    "concalist = []\n",
    "for smile in onehot:\n",
    "    templist = []\n",
    "    for lists in onehot[smile]:\n",
    "        templist = templist + lists\n",
    "    concalist.append(templist)\n",
    "    "
   ]
  },
  {
   "cell_type": "code",
   "execution_count": 111,
   "id": "162b5c9c",
   "metadata": {},
   "outputs": [
    {
     "data": {
      "text/plain": [
       "1"
      ]
     },
     "execution_count": 111,
     "metadata": {},
     "output_type": "execute_result"
    }
   ],
   "source": [
    "len(concalist)"
   ]
  }
 ],
 "metadata": {
  "kernelspec": {
   "display_name": "Python 3 (ipykernel)",
   "language": "python",
   "name": "python3"
  },
  "language_info": {
   "codemirror_mode": {
    "name": "ipython",
    "version": 3
   },
   "file_extension": ".py",
   "mimetype": "text/x-python",
   "name": "python",
   "nbconvert_exporter": "python",
   "pygments_lexer": "ipython3",
   "version": "3.11.5"
  }
 },
 "nbformat": 4,
 "nbformat_minor": 5
}
