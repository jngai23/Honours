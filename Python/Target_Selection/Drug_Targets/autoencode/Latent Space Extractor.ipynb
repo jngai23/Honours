{
 "cells": [
  {
   "cell_type": "code",
   "execution_count": 136,
   "id": "4fff5397",
   "metadata": {},
   "outputs": [],
   "source": [
    "#23/5/24 For extracting latent space from a autoencoder model\n",
    "#Outputs the model and a text file\n",
    "\n",
    "import pandas as pd\n",
    "import numpy as np\n",
    "import tensorflow as tf\n",
    "from tensorflow import keras\n",
    "targetdata = pd.read_csv('/Users/james/Documents/Honours/Data/Targetdata/DrugTargets.csv')\n",
    "#autoencoder = keras.models.load_model('/Users/james/Documents/Honours/Python/Target_Selection/Drug_Targets/autoencode/bestmodel/models copy/AE-7.model')\n",
    "autoencoder = keras.models.load_model('/Users/james/Documents/Honours/Python/Target_Selection/Drug_Targets/autoencode/models/AE-7.keras')\n",
    "\n",
    "from sklearn.model_selection import train_test_split\n",
    "\n",
    "trainset, testset = train_test_split(targetdata, test_size=0.2, random_state=81)\n",
    "#Converts Toxicity Values to a list\n",
    "ytrain = trainset['Toxicity_Values']\n",
    "ytest = testset['Toxicity_Values']\n",
    "#Converts encoded drug target values to an array\n",
    "xtrain = trainset.iloc[:, 2:].values\n",
    "xtest = testset.iloc[:, 2:].values"
   ]
  },
  {
   "cell_type": "code",
   "execution_count": 146,
   "id": "9557b035",
   "metadata": {
    "scrolled": true
   },
   "outputs": [
    {
     "name": "stdout",
     "output_type": "stream",
     "text": [
      "83/83 [==============================] - 0s 375us/step\n",
      "model = 8.model\n",
      "positives in data 13245\n",
      "negatives in data 871521\n",
      "fn count = 2649\n",
      "tn count = 868872\n",
      "tp count = 10596\n",
      "fp count = 2649\n",
      "fn rate = 0.00303951367781155\n",
      "tn rate = 0.9969604863221885\n",
      "net accuracy = 0.9940119760479041\n",
      "positive accuracy = 0.8\n",
      "negative accuracy = 0.9969604863221885\n",
      "fp rate = 0.2\n",
      "precision = 0.8\n",
      "recall = 0.8\n",
      "f1 score = 0.8000000000000002\n"
     ]
    }
   ],
   "source": [
    "#Test model metrics\n",
    "colcount = len(xtest[0])\n",
    "ae_out = autoencoder.predict([ xtest.reshape(-1, colcount, 1) ])\n",
    "predictions = ae_out.reshape(2649,colcount)\n",
    "\n",
    "correctcount = 0\n",
    "fpcount = 0\n",
    "tpcount = 0\n",
    "tncount = 0\n",
    "fncount = 0\n",
    "testpos = 0\n",
    "testneg = 0\n",
    "\n",
    "iterations = 0\n",
    "for samples in predictions:\n",
    "    loops = 0\n",
    "    for value in predictions[iterations]:\n",
    "        testscore = xtest[iterations][loops]\n",
    "        if value > 0.5:\n",
    "            if testscore != 0:\n",
    "                testpos = testpos + 1\n",
    "                correctcount = correctcount + 1\n",
    "                tpcount = tpcount + 1\n",
    "            else:\n",
    "                fpcount = fpcount + 1\n",
    "                testneg = testneg + 1\n",
    "        else:\n",
    "            if testscore != 0:\n",
    "                testpos = testpos + 1\n",
    "                fncount = fncount + 1\n",
    "            else:\n",
    "                testneg = testneg + 1\n",
    "                correctcount = correctcount + 1\n",
    "                tncount = tncount + 1\n",
    "                \n",
    "        loops = loops + 1\n",
    "\n",
    "print('model = 8.model')\n",
    "\n",
    "print('positives in data', testpos)\n",
    "print('negatives in data', testneg)\n",
    "\n",
    "print('fn count =', fncount)\n",
    "print('tn count =', tncount)\n",
    "\n",
    "print('tp count =', tpcount)\n",
    "print('fp count =', fpcount)\n",
    "\n",
    "netfn = fncount / (fncount + tncount)\n",
    "nettn = tncount / (fncount + tncount)\n",
    "netacc = correctcount / (fpcount + fncount + tpcount + tncount)\n",
    "posacc = tpcount / testpos\n",
    "negacc = tncount / testneg\n",
    "netfp = fpcount / (fpcount + tpcount)\n",
    "nettp = tpcount / (tpcount + fpcount)\n",
    "recall = tpcount / (tpcount + fncount)\n",
    "f1 = 2 * ((recall * nettp)/(recall + nettp))\n",
    "\n",
    "print('fn rate =', netfn)\n",
    "print('tn rate =', nettn)\n",
    "\n",
    "print('net accuracy =', netacc)\n",
    "print('positive accuracy =', posacc)\n",
    "print('negative accuracy =', negacc)\n",
    "\n",
    "print('fp rate =', netfp)\n",
    "print('precision =', nettp)\n",
    "print('recall =',recall)\n",
    "print('f1 score =',f1)\n"
   ]
  },
  {
   "cell_type": "code",
   "execution_count": 124,
   "id": "45d6cf8b",
   "metadata": {},
   "outputs": [
    {
     "name": "stdout",
     "output_type": "stream",
     "text": [
      "Model: \"autoencoder\"\n",
      "_________________________________________________________________\n",
      " Layer (type)                Output Shape              Param #   \n",
      "=================================================================\n",
      " input_1 (InputLayer)        [(None, 334, 1)]          0         \n",
      "                                                                 \n",
      " flatten (Flatten)           (None, 334)               0         \n",
      "                                                                 \n",
      " dense (Dense)               (None, 160)               53600     \n",
      "                                                                 \n",
      " dense_1 (Dense)             (None, 81)                13041     \n",
      "                                                                 \n",
      " dense_2 (Dense)             (None, 42)                3444      \n",
      "                                                                 \n",
      " dense_3 (Dense)             (None, 42)                1806      \n",
      "                                                                 \n",
      " dense_4 (Dense)             (None, 81)                3483      \n",
      "                                                                 \n",
      " dense_5 (Dense)             (None, 160)               13120     \n",
      "                                                                 \n",
      " dense_6 (Dense)             (None, 334)               53774     \n",
      "                                                                 \n",
      " reshape (Reshape)           (None, 334, 1)            0         \n",
      "                                                                 \n",
      "=================================================================\n",
      "Total params: 142,268\n",
      "Trainable params: 142,268\n",
      "Non-trainable params: 0\n",
      "_________________________________________________________________\n"
     ]
    }
   ],
   "source": [
    "#Notabely 0.5 was used as the cutoff point for determining if a cell is 0 or 1\n",
    "#As the metrics are very good, we will extract the latent space for prediction \n",
    "features = autoencoder.layers[3].output\n",
    "autoencoder.summary()"
   ]
  },
  {
   "cell_type": "code",
   "execution_count": 125,
   "id": "3f6d6301",
   "metadata": {},
   "outputs": [
    {
     "data": {
      "text/plain": [
       "(2649, 334, 1)"
      ]
     },
     "execution_count": 125,
     "metadata": {},
     "output_type": "execute_result"
    }
   ],
   "source": [
    "ae_out.shape"
   ]
  },
  {
   "cell_type": "code",
   "execution_count": 134,
   "id": "3615c352",
   "metadata": {},
   "outputs": [],
   "source": [
    "#Extracts data from latent space\n",
    "from keras import backend as K\n",
    "latent_space = K.function([autoencoder.layers[0].input],\n",
    "                                  [autoencoder.layers[3].output])\n",
    "output = latent_space([xtrain])[0]\n",
    "latent = pd.DataFrame(output)\n",
    "\n",
    "toxvals= []\n",
    "for values in ytrain:\n",
    "    toxvals.append(values)\n",
    "temp = pd.DataFrame(newlist, columns=['Toxicity_Value'])\n",
    "\n",
    "latentframe = pd.concat([temp, latent], axis=1)\n",
    "latentframe.to_csv('/Users/james/Documents/Honours/Data/Targetdata/autoencdata/dtargetautoencdata.csv', index=False)"
   ]
  },
  {
   "cell_type": "code",
   "execution_count": 139,
   "id": "4177ca0d",
   "metadata": {},
   "outputs": [
    {
     "name": "stdout",
     "output_type": "stream",
     "text": [
      "svc raw = 0.6949792374480936\n",
      "knn raw = 0.6987542468856173\n"
     ]
    },
    {
     "name": "stderr",
     "output_type": "stream",
     "text": [
      "/opt/anaconda3/lib/python3.11/site-packages/sklearn/neighbors/_classification.py:228: DataConversionWarning: A column-vector y was passed when a 1d array was expected. Please change the shape of y to (n_samples,), for example using ravel().\n",
      "  return self._fit(X, y)\n"
     ]
    },
    {
     "name": "stdout",
     "output_type": "stream",
     "text": [
      "svc autoenc = 0.5892789731974329\n",
      "knn autoenc = 0.6949792374480936\n"
     ]
    },
    {
     "name": "stderr",
     "output_type": "stream",
     "text": [
      "/opt/anaconda3/lib/python3.11/site-packages/sklearn/neighbors/_classification.py:228: DataConversionWarning: A column-vector y was passed when a 1d array was expected. Please change the shape of y to (n_samples,), for example using ravel().\n",
      "  return self._fit(X, y)\n"
     ]
    }
   ],
   "source": [
    "from sklearn.neighbors import KNeighborsClassifier\n",
    "from sklearn.svm import SVC\n",
    "\n",
    "testout = latent_space([xtest])[0]\n",
    "latentest = pd.DataFrame(testout)\n",
    "\n",
    "svc = SVC().fit(xtest, ytest)\n",
    "print('svc raw =',svc.score(xtest, ytest))\n",
    "knn = KNeighborsClassifier().fit(xtest, bling)\n",
    "print('knn raw =',knn.score(xtest, bling))\n",
    "\n",
    "svc = SVC().fit(latentest, ytest)\n",
    "print('svc autoenc =',svc.score(latentest, ytest))\n",
    "knn = KNeighborsClassifier().fit(latentest.values, bling)\n",
    "print('knn autoenc =',knn.score(latentest.values, bling))\n",
    "\n",
    "#It seems that the latent space data actually performed worse than the raw dataset\n",
    "#Although it was using default hyperparameters so potentially it may perform better when optimised"
   ]
  }
 ],
 "metadata": {
  "kernelspec": {
   "display_name": "Python 3 (ipykernel)",
   "language": "python",
   "name": "python3"
  },
  "language_info": {
   "codemirror_mode": {
    "name": "ipython",
    "version": 3
   },
   "file_extension": ".py",
   "mimetype": "text/x-python",
   "name": "python",
   "nbconvert_exporter": "python",
   "pygments_lexer": "ipython3",
   "version": "3.11.5"
  }
 },
 "nbformat": 4,
 "nbformat_minor": 5
}
