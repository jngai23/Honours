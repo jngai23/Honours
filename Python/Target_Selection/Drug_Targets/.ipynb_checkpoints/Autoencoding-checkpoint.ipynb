{
 "cells": [
  {
   "cell_type": "code",
   "execution_count": 1,
   "id": "ccff9003",
   "metadata": {},
   "outputs": [],
   "source": [
    "#7/5/24 For the creation of an Autoencoder for Feature Extraction\n",
    "#The goal is to create an autoencoder that can parse SMILES via one hot encoding or a graphical representation\n",
    "#Main steps:\n",
    "    #One hot encoding SMILES DONE\n",
    "    #import into autoencoder\n",
    "    #train to recreate SMILES\n",
    "    #use latent space for feature prediction\n",
    "#Mostly for testing, one hot data is too large to parse into jupyter\n",
    "#Will test on drug target data\n",
    "#Even though an autoencoder model was already developed, due to the poor results it has shown\n",
    "#It has been totally rewritten\n",
    "\n",
    "import pandas as pd\n",
    "import numpy as np\n",
    "#Data import\n",
    "targetdata = pd.read_csv('/Users/james/Documents/Honours/Python/Target_Selection/Drug_Targets/DrugTargets.csv')\n",
    "\n",
    "\n",
    "####################\n",
    "#Todo: iterate over multiple epoch size, batchsize and latent space sizes\n",
    "#maintain seed\n",
    "#store best model\n",
    "\n",
    "\n",
    "\n",
    "\n",
    "\n",
    "\n"
   ]
  },
  {
   "cell_type": "code",
   "execution_count": 2,
   "id": "10a174be",
   "metadata": {},
   "outputs": [],
   "source": [
    "#Creating test/train splits\n",
    "from sklearn.model_selection import train_test_split\n",
    "\n",
    "trainset, testset = train_test_split(targetdata, test_size=0.2, random_state=81)\n",
    "#Converts Toxicity Values to a list\n",
    "ytrain = trainset['Toxicity_Values'].to_list\n",
    "ytest = testset['Toxicity_Values'].to_list\n",
    "#Converts encoded drug target values to an array\n",
    "xtrain = trainset.iloc[:, 2:].values\n",
    "xtest = testset.iloc[:, 2:].values"
   ]
  },
  {
   "cell_type": "code",
   "execution_count": 7,
   "id": "239497af",
   "metadata": {},
   "outputs": [
    {
     "name": "stdout",
     "output_type": "stream",
     "text": [
      "Model: \"autoencoder\"\n",
      "_________________________________________________________________\n",
      " Layer (type)                Output Shape              Param #   \n",
      "=================================================================\n",
      " input_2 (InputLayer)        [(None, 334, 1)]          0         \n",
      "                                                                 \n",
      " flatten_1 (Flatten)         (None, 334)               0         \n",
      "                                                                 \n",
      " dense_3 (Dense)             (None, 42)                14070     \n",
      "                                                                 \n",
      " dense_4 (Dense)             (None, 42)                1806      \n",
      "                                                                 \n",
      " dense_5 (Dense)             (None, 334)               14362     \n",
      "                                                                 \n",
      " reshape_1 (Reshape)         (None, 334, 1)            0         \n",
      "                                                                 \n",
      "=================================================================\n",
      "Total params: 30,238\n",
      "Trainable params: 30,238\n",
      "Non-trainable params: 0\n",
      "_________________________________________________________________\n"
     ]
    }
   ],
   "source": [
    "#Determines layer size and input/output\n",
    "#Here it turns the 334 one hot encoded features to 42\n",
    "import tensorflow as tf\n",
    "from tensorflow import keras\n",
    "latent_space = 42\n",
    "keras.utils.set_random_seed(81)\n",
    "\n",
    "#Encoder Creation\n",
    "enc_in = keras.Input(shape=(334, 1))\n",
    "x = keras.layers.Flatten()(enc_in)\n",
    "enc_out = keras.layers.Dense(latent_space, activation=\"relu\")(x)\n",
    "encoder = keras.Model(enc_in, enc_out, name='encoder')\n",
    "\n",
    "#Decoder Creation\n",
    "decoder_in = keras.layers.Dense(latent_space, activation='relu')(enc_out)\n",
    "x = keras.layers.Dense(334, activation='relu')(decoder_in)\n",
    "decoder_out = keras.layers.Reshape((334,1))(x)\n",
    "\n",
    "#Optimiser\n",
    "optimise = tf.keras.optimizers.legacy.Adam()\n",
    "\n",
    "#Model Creation\n",
    "autoencoder = keras.Model(enc_in, decoder_out, name='autoencoder')\n",
    "\n",
    "autoencoder.compile(optimise, loss='binary_crossentropy')\n",
    "autoencoder.summary()"
   ]
  },
  {
   "cell_type": "code",
   "execution_count": 10,
   "id": "a625d78f",
   "metadata": {
    "scrolled": true
   },
   "outputs": [
    {
     "name": "stdout",
     "output_type": "stream",
     "text": [
      "2826/2826 [==============================] - 2s 639us/step - loss: 0.1506 - val_loss: 0.1401\n"
     ]
    },
    {
     "name": "stderr",
     "output_type": "stream",
     "text": [
      "2024-05-14 22:14:52.032314: I tensorflow/core/common_runtime/executor.cc:1197] [/device:CPU:0] (DEBUG INFO) Executor start aborting (this does not indicate an error and you can ignore this message): INVALID_ARGUMENT: You must feed a value for placeholder tensor 'inputs' with dtype float and shape [?,334]\n",
      "\t [[{{node inputs}}]]\n",
      "2024-05-14 22:14:52.111880: I tensorflow/core/common_runtime/executor.cc:1197] [/device:CPU:0] (DEBUG INFO) Executor start aborting (this does not indicate an error and you can ignore this message): INVALID_ARGUMENT: You must feed a value for placeholder tensor 'inputs' with dtype float and shape [?,334]\n",
      "\t [[{{node inputs}}]]\n"
     ]
    },
    {
     "name": "stdout",
     "output_type": "stream",
     "text": [
      "INFO:tensorflow:Assets written to: models/AE-1.model/assets\n",
      "2826/2826 [==============================] - 2s 632us/step - loss: 0.1531 - val_loss: 0.1482\n"
     ]
    },
    {
     "name": "stderr",
     "output_type": "stream",
     "text": [
      "2024-05-14 22:14:54.165738: I tensorflow/core/common_runtime/executor.cc:1197] [/device:CPU:0] (DEBUG INFO) Executor start aborting (this does not indicate an error and you can ignore this message): INVALID_ARGUMENT: You must feed a value for placeholder tensor 'inputs' with dtype float and shape [?,334]\n",
      "\t [[{{node inputs}}]]\n",
      "2024-05-14 22:14:54.244926: I tensorflow/core/common_runtime/executor.cc:1197] [/device:CPU:0] (DEBUG INFO) Executor start aborting (this does not indicate an error and you can ignore this message): INVALID_ARGUMENT: You must feed a value for placeholder tensor 'inputs' with dtype float and shape [?,334]\n",
      "\t [[{{node inputs}}]]\n"
     ]
    },
    {
     "name": "stdout",
     "output_type": "stream",
     "text": [
      "INFO:tensorflow:Assets written to: models/AE-2.model/assets\n",
      "2826/2826 [==============================] - 2s 639us/step - loss: 0.1472 - val_loss: 0.1410\n"
     ]
    },
    {
     "name": "stderr",
     "output_type": "stream",
     "text": [
      "2024-05-14 22:14:56.325500: I tensorflow/core/common_runtime/executor.cc:1197] [/device:CPU:0] (DEBUG INFO) Executor start aborting (this does not indicate an error and you can ignore this message): INVALID_ARGUMENT: You must feed a value for placeholder tensor 'inputs' with dtype float and shape [?,334]\n",
      "\t [[{{node inputs}}]]\n",
      "2024-05-14 22:14:56.404329: I tensorflow/core/common_runtime/executor.cc:1197] [/device:CPU:0] (DEBUG INFO) Executor start aborting (this does not indicate an error and you can ignore this message): INVALID_ARGUMENT: You must feed a value for placeholder tensor 'inputs' with dtype float and shape [?,334]\n",
      "\t [[{{node inputs}}]]\n"
     ]
    },
    {
     "name": "stdout",
     "output_type": "stream",
     "text": [
      "INFO:tensorflow:Assets written to: models/AE-3.model/assets\n",
      "2826/2826 [==============================] - 2s 635us/step - loss: 0.1482 - val_loss: 0.1380\n"
     ]
    },
    {
     "name": "stderr",
     "output_type": "stream",
     "text": [
      "2024-05-14 22:14:58.467181: I tensorflow/core/common_runtime/executor.cc:1197] [/device:CPU:0] (DEBUG INFO) Executor start aborting (this does not indicate an error and you can ignore this message): INVALID_ARGUMENT: You must feed a value for placeholder tensor 'inputs' with dtype float and shape [?,334]\n",
      "\t [[{{node inputs}}]]\n",
      "2024-05-14 22:14:58.547776: I tensorflow/core/common_runtime/executor.cc:1197] [/device:CPU:0] (DEBUG INFO) Executor start aborting (this does not indicate an error and you can ignore this message): INVALID_ARGUMENT: You must feed a value for placeholder tensor 'inputs' with dtype float and shape [?,334]\n",
      "\t [[{{node inputs}}]]\n"
     ]
    },
    {
     "name": "stdout",
     "output_type": "stream",
     "text": [
      "INFO:tensorflow:Assets written to: models/AE-4.model/assets\n",
      "2826/2826 [==============================] - 2s 633us/step - loss: 0.1532 - val_loss: 0.1557\n"
     ]
    },
    {
     "name": "stderr",
     "output_type": "stream",
     "text": [
      "2024-05-14 22:15:00.707095: I tensorflow/core/common_runtime/executor.cc:1197] [/device:CPU:0] (DEBUG INFO) Executor start aborting (this does not indicate an error and you can ignore this message): INVALID_ARGUMENT: You must feed a value for placeholder tensor 'inputs' with dtype float and shape [?,334]\n",
      "\t [[{{node inputs}}]]\n",
      "2024-05-14 22:15:00.785179: I tensorflow/core/common_runtime/executor.cc:1197] [/device:CPU:0] (DEBUG INFO) Executor start aborting (this does not indicate an error and you can ignore this message): INVALID_ARGUMENT: You must feed a value for placeholder tensor 'inputs' with dtype float and shape [?,334]\n",
      "\t [[{{node inputs}}]]\n"
     ]
    },
    {
     "name": "stdout",
     "output_type": "stream",
     "text": [
      "INFO:tensorflow:Assets written to: models/AE-5.model/assets\n",
      "2826/2826 [==============================] - 2s 646us/step - loss: 0.1624 - val_loss: 0.1704\n"
     ]
    },
    {
     "name": "stderr",
     "output_type": "stream",
     "text": [
      "2024-05-14 22:15:02.875950: I tensorflow/core/common_runtime/executor.cc:1197] [/device:CPU:0] (DEBUG INFO) Executor start aborting (this does not indicate an error and you can ignore this message): INVALID_ARGUMENT: You must feed a value for placeholder tensor 'inputs' with dtype float and shape [?,334]\n",
      "\t [[{{node inputs}}]]\n",
      "2024-05-14 22:15:02.954736: I tensorflow/core/common_runtime/executor.cc:1197] [/device:CPU:0] (DEBUG INFO) Executor start aborting (this does not indicate an error and you can ignore this message): INVALID_ARGUMENT: You must feed a value for placeholder tensor 'inputs' with dtype float and shape [?,334]\n",
      "\t [[{{node inputs}}]]\n"
     ]
    },
    {
     "name": "stdout",
     "output_type": "stream",
     "text": [
      "INFO:tensorflow:Assets written to: models/AE-6.model/assets\n",
      "2826/2826 [==============================] - 2s 632us/step - loss: 0.1630 - val_loss: 0.1756\n"
     ]
    },
    {
     "name": "stderr",
     "output_type": "stream",
     "text": [
      "2024-05-14 22:15:05.006412: I tensorflow/core/common_runtime/executor.cc:1197] [/device:CPU:0] (DEBUG INFO) Executor start aborting (this does not indicate an error and you can ignore this message): INVALID_ARGUMENT: You must feed a value for placeholder tensor 'inputs' with dtype float and shape [?,334]\n",
      "\t [[{{node inputs}}]]\n",
      "2024-05-14 22:15:05.085261: I tensorflow/core/common_runtime/executor.cc:1197] [/device:CPU:0] (DEBUG INFO) Executor start aborting (this does not indicate an error and you can ignore this message): INVALID_ARGUMENT: You must feed a value for placeholder tensor 'inputs' with dtype float and shape [?,334]\n",
      "\t [[{{node inputs}}]]\n"
     ]
    },
    {
     "name": "stdout",
     "output_type": "stream",
     "text": [
      "INFO:tensorflow:Assets written to: models/AE-7.model/assets\n"
     ]
    }
   ],
   "source": [
    "#Runs and creates the autoencoder\n",
    "epochs = 7\n",
    "batchsize = 3\n",
    "for epoch in range(epochs):\n",
    "    \n",
    "    logs = autoencoder.fit(\n",
    "    xtrain,\n",
    "    xtrain,\n",
    "    epochs=1,\n",
    "    batch_size=batchsize, validation_split=0.2)\n",
    "    \n",
    "    autoencoder.save(str(f\"models/AE-{epoch+1}.model\"))\n",
    "\n"
   ]
  },
  {
   "cell_type": "code",
   "execution_count": 20,
   "id": "986ceed8",
   "metadata": {},
   "outputs": [
    {
     "name": "stdout",
     "output_type": "stream",
     "text": [
      "83/83 [==============================] - 0s 490us/step\n",
      "net accuracy = 0.8242661358036444\n",
      "fp rate = 0.17573386419635623\n",
      "tp rate = 0.8242661358036444\n"
     ]
    }
   ],
   "source": [
    "#Gathers the accuracy of the autoencoder on a test set\n",
    "ae_out = autoencoder.predict([ xtest.reshape(-1, 334, 1) ])\n",
    "test = ae_out.reshape(2649,334)\n",
    "\n",
    "ids = 0\n",
    "acc = []\n",
    "fplist = []\n",
    "tplist = []\n",
    "\n",
    "for things in test:\n",
    "    guesses = []\n",
    "    testset = []\n",
    "    \n",
    "    loops = 0\n",
    "    for items in xtest[ids]:\n",
    "        if items != 0:\n",
    "            testset.append(loops)\n",
    "        loops = loops + 1\n",
    "    \n",
    "    loops = 0\n",
    "    for items in test[ids]:\n",
    "        if items > 0.5:\n",
    "            guesses.append(loops)\n",
    "        loops = loops + 1\n",
    "        \n",
    "    correct = 0\n",
    "    loops = 0\n",
    "    tp = 0\n",
    "    fp = 0\n",
    "    for items in guesses:\n",
    "        if items in testset:\n",
    "            correct = correct + 1\n",
    "            tp = tp + 1\n",
    "        else:\n",
    "            fp = fp + 1\n",
    "        loops = loops + 1\n",
    "    \n",
    "    accuracy = correct / loops\n",
    "    tprate = tp / len(guesses)\n",
    "    fprate = fp / len(guesses)\n",
    "    \n",
    "    acc.append(accuracy)\n",
    "    tplist.append(tprate)\n",
    "    fplist.append(fprate)\n",
    "    \n",
    "    ids = ids + 1\n",
    "\n",
    "totalacc = 0\n",
    "totaltp = 0\n",
    "totalfp = 0\n",
    "\n",
    "loops = 0\n",
    "for items in acc:\n",
    "    totalacc = totalacc + items\n",
    "    loops = loops + 1\n",
    "netacc = totalacc/loops\n",
    "\n",
    "loops = 0\n",
    "for items in tplist:\n",
    "    totaltp = totaltp + items\n",
    "    loops = loops + 1\n",
    "nettp = totaltp/loops\n",
    "\n",
    "loops = 0\n",
    "for items in fplist:\n",
    "    totalfp = totalfp + items\n",
    "    loops = loops + 1\n",
    "netfp = totalfp/loops\n",
    "    \n",
    "netacc = totalacc/loops\n",
    "nettp = totaltp/loops\n",
    "netfp = totalfp/loops\n",
    "\n",
    "print('net accuracy =', netacc)\n",
    "print('fp rate =', netfp)\n",
    "print('tp rate =', nettp)"
   ]
  },
  {
   "cell_type": "code",
   "execution_count": 35,
   "id": "e2768fd3",
   "metadata": {},
   "outputs": [
    {
     "name": "stdout",
     "output_type": "stream",
     "text": [
      "accuracy = 1.0\n"
     ]
    }
   ],
   "source": [
    "#For spot testing an individual sample\n",
    "loops = 0\n",
    "count = 0\n",
    "ids = 11\n",
    "testset = []\n",
    "guesses = []\n",
    "\n",
    "for items in test[ids]:\n",
    "    if items > 0.5:\n",
    "        count = count + 1\n",
    "        guesses.append(loops)\n",
    "        #print(loops, items)\n",
    "    loops = loops + 1\n",
    "\n",
    "#print('count =', count)\n",
    "\n",
    "#print('----------------')\n",
    "\n",
    "loops = 0\n",
    "count = 0\n",
    "for items in xtest[ids]:\n",
    "    if items != 0:\n",
    "        count = count + 1\n",
    "        testset.append(loops)\n",
    "        #print(loops)\n",
    "    loops = loops + 1\n",
    "\n",
    "acc = 0\n",
    "for items in guesses:\n",
    "    if items in testset:\n",
    "        acc = acc + 1\n",
    "\n",
    "accuracy = acc / len(guesses)\n",
    "#print('count =', count)\n",
    "print('accuracy =', accuracy)"
   ]
  }
 ],
 "metadata": {
  "kernelspec": {
   "display_name": "Python 3 (ipykernel)",
   "language": "python",
   "name": "python3"
  },
  "language_info": {
   "codemirror_mode": {
    "name": "ipython",
    "version": 3
   },
   "file_extension": ".py",
   "mimetype": "text/x-python",
   "name": "python",
   "nbconvert_exporter": "python",
   "pygments_lexer": "ipython3",
   "version": "3.11.5"
  }
 },
 "nbformat": 4,
 "nbformat_minor": 5
}
