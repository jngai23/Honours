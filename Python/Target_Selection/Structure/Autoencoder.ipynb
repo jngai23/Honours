{
 "cells": [
  {
   "cell_type": "code",
   "execution_count": 1,
   "id": "29139959",
   "metadata": {},
   "outputs": [],
   "source": [
    "#7/5/24 For the creation of an Autoencoder for Feature Extraction\n",
    "#The goal is to create an autoencoder that can parse SMILES via one hot encoding or a graphical representation\n",
    "\n",
    "import pandas as pd\n",
    "import numpy as np\n",
    "#Data import\n",
    "dataset = pd.read_csv('/Users/james/Documents/Honours/Data/processed_endo_data.csv')\n",
    "smiles = dataset['Canonical SMILES'].tolist()\n",
    "toxvals = dataset['Toxicity Value'].tolist()\n",
    "dflist =  list(zip(smiles, toxvals))\n",
    "df = pd.DataFrame(dflist, columns = ['SMILES', 'Toxicity_Values'])"
   ]
  },
  {
   "cell_type": "code",
   "execution_count": null,
   "id": "a60822dc",
   "metadata": {},
   "outputs": [],
   "source": [
    "\n",
    "xtrain, xtest, ytrain, ytest = train_test_split(df, toxvals, )"
   ]
  }
 ],
 "metadata": {
  "kernelspec": {
   "display_name": "Python 3 (ipykernel)",
   "language": "python",
   "name": "python3"
  },
  "language_info": {
   "codemirror_mode": {
    "name": "ipython",
    "version": 3
   },
   "file_extension": ".py",
   "mimetype": "text/x-python",
   "name": "python",
   "nbconvert_exporter": "python",
   "pygments_lexer": "ipython3",
   "version": "3.11.5"
  }
 },
 "nbformat": 4,
 "nbformat_minor": 5
}
