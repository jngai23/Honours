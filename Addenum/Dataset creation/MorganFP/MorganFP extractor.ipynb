{
 "cells": [
  {
   "cell_type": "code",
   "execution_count": null,
   "id": "d74fe6eb",
   "metadata": {},
   "outputs": [],
   "source": [
    "#2/12/24 Creates a chemopy dataset given a list of SMILES\n",
    "#Requires an input of SMILES in a csv file and the given imports\n",
    "\n",
    "#Requires rdkit, numpy and pandas to be installed\n",
    "import os\n",
    "import pandas as pd\n",
    "import numpy as np\n",
    "from rdkit import Chem\n",
    "from rdkit.Chem import rdFingerprintGenerator\n",
    "from rdkit.Chem.Draw import IPythonConsole\n",
    "from rdkit import DataStructs\n",
    "import rdkit\n",
    "from rdkit.Chem import PandasTools\n",
    "from rdkit import Chem\n",
    "from rdkit.Chem import rdFingerprintGenerator\n",
    "from rdkit.Chem.Draw import IPythonConsole\n",
    "from rdkit import DataStructs\n",
    "import rdkit\n",
    "from rdkit.Chem import rdMolDescriptors\n",
    "from rdkit.Chem import MACCSkeys\n",
    "from rdkit.Avalon import pyAvalonTools\n",
    "\n",
    "#Change path as required\n",
    "path = _\n",
    "df = pd.read_csv(path)\n",
    "smiles = df.values\n",
    "\n",
    "PandasTools.AddMoleculeColumnToFrame(df,'SMILES', 'Structure')\n",
    "\n",
    "MACCSfp = []\n",
    "Avafp = []\n",
    "Morganfp = []\n",
    "TTorsionfp = []\n",
    "\n",
    "for items in df.Structure:\n",
    "    Morganfp.append(rdMolDescriptors.GetMorganFingerprintAsBitVect(items, radius=2))\n",
    "\n",
    "for items in Morganfp:\n",
    "    items = np.array(items)\n",
    "    data.append(items)\n",
    "Morganframe = pd.DataFrame(data)\n",
    "\n",
    "#Change pathname as needed\n",
    "pathname = _\n",
    "Morganframe.to_csv(name, index=False)"
   ]
  }
 ],
 "metadata": {
  "kernelspec": {
   "display_name": "Python 3 (ipykernel)",
   "language": "python",
   "name": "python3"
  },
  "language_info": {
   "codemirror_mode": {
    "name": "ipython",
    "version": 3
   },
   "file_extension": ".py",
   "mimetype": "text/x-python",
   "name": "python",
   "nbconvert_exporter": "python",
   "pygments_lexer": "ipython3",
   "version": "3.11.0"
  }
 },
 "nbformat": 4,
 "nbformat_minor": 5
}
