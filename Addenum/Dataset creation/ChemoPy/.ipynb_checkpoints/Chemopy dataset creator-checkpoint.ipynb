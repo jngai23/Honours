{
 "cells": [
  {
   "cell_type": "code",
   "execution_count": null,
   "id": "8511c0c3",
   "metadata": {},
   "outputs": [],
   "source": [
    "#2/12/24 Creates a chemopy dataset given a list of SMILES\n",
    "#Requires an input of SMILES in a csv file and the given imports\n",
    "\n",
    "from chemopy import constitution, topology, connectivity, kappa, basak, estate \n",
    "from chemopy import charge, molproperty, moe, geometric, cpsa, morse, rdf\n",
    "from chemopy import ChemoPy\n",
    "from rdkit import Chem\n",
    "import pandas as pd\n",
    "import numpy as np\n",
    "\n",
    "#Replace the path with path to file\n",
    "path = _\n",
    "targetdata = pd.read_csv(path)\n",
    "smiles = list(targetdf.values)\n",
    "featurelist = []\n",
    "for mol in smiles:\n",
    "    mol = Chem.MolFromSmiles(mol)\n",
    "    features = []\n",
    "    features.append(constitution.Constitution.get_all(mol))\n",
    "    features.append(connectivity.Connectivity.get_all(mol))\n",
    "    features.append(kappa.Kappa.get_all(mol))\n",
    "    features.append(basak.Basak.get_all(mol))\n",
    "    features.append(estate.EState.get_all_descriptors(mol))\n",
    "    features.append(charge.Charge.get_all(mol))\n",
    "    features.append(molproperty.MolecularProperties.get_all(mol))\n",
    "    features.append(moe.MOE.get_all(mol))\n",
    "    featurelist.append(features)\n",
    "\n",
    "newframe = []\n",
    "for item in featurelist:\n",
    "    sample = item[0]\n",
    "    for feature in item[1:]:\n",
    "        sample = sample | feature\n",
    "    newframe.append(sample)\n",
    "temp = pd.DataFrame(newframe)\n",
    "\n",
    "#Change path as desired\n",
    "output_path = _\n",
    "temp.to_csv(output_path)\n"
   ]
  }
 ],
 "metadata": {
  "kernelspec": {
   "display_name": "Python 3 (ipykernel)",
   "language": "python",
   "name": "python3"
  },
  "language_info": {
   "codemirror_mode": {
    "name": "ipython",
    "version": 3
   },
   "file_extension": ".py",
   "mimetype": "text/x-python",
   "name": "python",
   "nbconvert_exporter": "python",
   "pygments_lexer": "ipython3",
   "version": "3.11.0"
  }
 },
 "nbformat": 4,
 "nbformat_minor": 5
}
