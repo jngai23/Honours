{
 "cells": [
  {
   "cell_type": "code",
   "execution_count": null,
   "id": "ba3b2035",
   "metadata": {},
   "outputs": [],
   "source": [
    "#2/12/24 creates data for use with target-based models\n",
    "#Note: Only some molecules are applicable for use with these models; those found in the DrugBank polypeptide dataset\n",
    "#Found @ https://go.drugbank.com/releases/latest\n",
    "#Can be directly downloaded @ https://go.drugbank.com/releases/5-1-12/downloads/target-all-polypeptide-ids\n",
    "#Requires drug inputs to be in the form of the InChIKey format\n",
    "\n",
    "#use the instructions outlined @ Preprocessing/Drug-Protein Interaction/Drugbank/Mass Drugbank Decoder.ipynb\n",
    "#Replace the used files as necessary"
   ]
  },
  {
   "cell_type": "code",
   "execution_count": null,
   "id": "c234bdfa",
   "metadata": {},
   "outputs": [],
   "source": []
  }
 ],
 "metadata": {
  "kernelspec": {
   "display_name": "Python 3 (ipykernel)",
   "language": "python",
   "name": "python3"
  },
  "language_info": {
   "codemirror_mode": {
    "name": "ipython",
    "version": 3
   },
   "file_extension": ".py",
   "mimetype": "text/x-python",
   "name": "python",
   "nbconvert_exporter": "python",
   "pygments_lexer": "ipython3",
   "version": "3.11.0"
  }
 },
 "nbformat": 4,
 "nbformat_minor": 5
}
