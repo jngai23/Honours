{
 "cells": [
  {
   "cell_type": "code",
   "execution_count": null,
   "id": "f61218db",
   "metadata": {},
   "outputs": [],
   "source": [
    "#2/12/24 \n",
    "#Requires an input in the form of a dataset in the corresponding feature representation\n",
    "import os\n",
    "import numpy as np\n",
    "import pandas as pd\n",
    "\n",
    "import joblib\n",
    "from sklearn.neighbors import KNeighborsClassifier\n",
    "import tensorflow as tf\n",
    "from tensorflow import keras\n",
    "from sklearn.ensemble import RandomForestClassifier"
   ]
  },
  {
   "cell_type": "code",
   "execution_count": null,
   "id": "c1515303",
   "metadata": {},
   "outputs": [],
   "source": [
    "#Adjust this block as needed for different models\n",
    "from sklearn import svm\n",
    "from sklearn.ensemble import RandomForestClassifier\n",
    "data = 'Insert path here'\n",
    "#Adjust path as needed\n",
    "models = []\n",
    "models.append(joblib.load('/Users/james/Documents/Honours/Addenum/Model storage/ChemoPy/RF/Ames_Mutagenicity/0.pkl'))\n",
    "models.append(joblib.load('/Users/james/Documents/Honours/Addenum/Model storage/ChemoPy/RF/Ames_Mutagenicity/1.pkl'))\n",
    "models.append(joblib.load('/Users/james/Documents/Honours/Addenum/Model storage/ChemoPy/RF/Ames_Mutagenicity/2.pkl'))\n",
    "models.append(joblib.load('/Users/james/Documents/Honours/Addenum/Model storage/ChemoPy/RF/Ames_Mutagenicity/3.pkl'))\n",
    "models.append(joblib.load('/Users/james/Documents/Honours/Addenum/Model storage/ChemoPy/RF/Ames_Mutagenicity/4.pkl'))\n",
    "\n",
    "for molecule in data:\n",
    "    iter = 0\n",
    "    preds = 0\n",
    "    for model in models:\n",
    "        preds = preds + model.predict(molecule)\n",
    "        iter += 1\n",
    "    preds > (iter - 1):\n",
    "        print(molecule, 'Toxic')\n",
    "    else:\n",
    "        print(molecule, 'Non-Toxic')\n"
   ]
  }
 ],
 "metadata": {
  "kernelspec": {
   "display_name": "Python 3 (ipykernel)",
   "language": "python",
   "name": "python3"
  },
  "language_info": {
   "codemirror_mode": {
    "name": "ipython",
    "version": 3
   },
   "file_extension": ".py",
   "mimetype": "text/x-python",
   "name": "python",
   "nbconvert_exporter": "python",
   "pygments_lexer": "ipython3",
   "version": "3.11.0"
  }
 },
 "nbformat": 4,
 "nbformat_minor": 5
}
