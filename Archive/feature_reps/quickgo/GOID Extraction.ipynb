{
 "cells": [
  {
   "cell_type": "code",
   "execution_count": 50,
   "id": "fefc2991",
   "metadata": {},
   "outputs": [
    {
     "name": "stderr",
     "output_type": "stream",
     "text": [
      "/var/folders/cq/5cl8ry195dj0219k6rt6csbm0000gn/T/ipykernel_14418/3823560711.py:7: DtypeWarning: Columns (114,115,116,117,118,119,120,121,122,123,124,125,126,127,128,129,130,131,132,133,134,135,136,137,138,139,140,141,142,143,144,145,146,147,148,149,150,151,152,153,154,155,156,157,158,159,160,161) have mixed types. Specify dtype option on import or set low_memory=False.\n",
      "  df = pd.read_csv('/Users/james/Documents/Honours/Data/Targets/GOid/goid reallo.csv')\n"
     ]
    }
   ],
   "source": [
    "#24/5/24\n",
    "#This notebook aims to convert GOIDS into a one hot encoded dataframe relating to their original SMILES molecule\n",
    "\n",
    "import pandas as pd\n",
    "import numpy as np\n",
    "#Data import\n",
    "df = pd.read_csv('/Users/james/Documents/Honours/Data/Targets/GOid/goid reallo.csv')\n",
    "df = df.drop(['Unnamed: 0'], axis = 1)\n",
    "temp = df.values\n",
    "dfarray = temp"
   ]
  },
  {
   "cell_type": "code",
   "execution_count": 51,
   "id": "bed8be84",
   "metadata": {},
   "outputs": [],
   "source": [
    "seen = []\n",
    "for row in temp:\n",
    "    loops = 0\n",
    "    for item in row:\n",
    "        if item not in seen and loops < 3:\n",
    "            seen.append(item)\n",
    "        loops += 1"
   ]
  },
  {
   "cell_type": "code",
   "execution_count": 52,
   "id": "1be2d722",
   "metadata": {},
   "outputs": [
    {
     "data": {
      "text/plain": [
       "2934"
      ]
     },
     "execution_count": 52,
     "metadata": {},
     "output_type": "execute_result"
    }
   ],
   "source": [
    "len(seen)"
   ]
  },
  {
   "cell_type": "code",
   "execution_count": 53,
   "id": "3f082daf",
   "metadata": {},
   "outputs": [],
   "source": [
    "seen = seen[1:]"
   ]
  },
  {
   "cell_type": "code",
   "execution_count": 54,
   "id": "0fc1c4ac",
   "metadata": {
    "scrolled": true
   },
   "outputs": [],
   "source": [
    "onehotids = []\n",
    "for protein in dfarray:\n",
    "    temp = []\n",
    "    for goid in seen:\n",
    "        if goid in protein:\n",
    "            temp.append(1)\n",
    "        else:\n",
    "            temp.append(0)\n",
    "    onehotids.append(temp)"
   ]
  },
  {
   "cell_type": "code",
   "execution_count": 48,
   "id": "fb2f0e2d",
   "metadata": {},
   "outputs": [
    {
     "data": {
      "text/plain": [
       "4524"
      ]
     },
     "execution_count": 48,
     "metadata": {},
     "output_type": "execute_result"
    }
   ],
   "source": [
    "len(onehotids[0])"
   ]
  },
  {
   "cell_type": "code",
   "execution_count": 44,
   "id": "34d32065",
   "metadata": {},
   "outputs": [],
   "source": [
    "#Creates a series of lists that contain lists of indexed goids\n",
    "iter = 0\n",
    "index_goid_smiles = []\n",
    "for smile in temp:\n",
    "    currsmile = []\n",
    "    loops = 0\n",
    "    for cels in smile:\n",
    "        if cels == 1:\n",
    "            currsmile.append(idlist[loops])\n",
    "        loops = loops + 1\n",
    "    \n",
    "    index_goid_smiles.append(currsmile)"
   ]
  },
  {
   "cell_type": "code",
   "execution_count": 70,
   "id": "b9480ee1",
   "metadata": {},
   "outputs": [],
   "source": [
    "#Creates an array of smiles and goids\n",
    "finallist = []\n",
    "for smile in index_goid_smiles:\n",
    "    goidlist = [sum(values) for values in zip(*index_goid_smiles[0])]\n",
    "    finallist.append(goidlist)"
   ]
  },
  {
   "cell_type": "code",
   "execution_count": 91,
   "id": "c455e710",
   "metadata": {},
   "outputs": [],
   "source": [
    "#converts this array into a dataframe\n",
    "newdf = pd.DataFrame(finallist, columns=uniqids)\n",
    "newdf = dataset.iloc[:, :2].join(test)\n",
    "\n",
    "newdf.to_csv('GOIDdata.csv')"
   ]
  },
  {
   "cell_type": "code",
   "execution_count": 1,
   "id": "41fd1ac6",
   "metadata": {},
   "outputs": [
    {
     "ename": "NameError",
     "evalue": "name 'newdf' is not defined",
     "output_type": "error",
     "traceback": [
      "\u001b[0;31m---------------------------------------------------------------------------\u001b[0m",
      "\u001b[0;31mNameError\u001b[0m                                 Traceback (most recent call last)",
      "Cell \u001b[0;32mIn[1], line 1\u001b[0m\n\u001b[0;32m----> 1\u001b[0m newdf\n",
      "\u001b[0;31mNameError\u001b[0m: name 'newdf' is not defined"
     ]
    }
   ],
   "source": [
    "newdf"
   ]
  }
 ],
 "metadata": {
  "kernelspec": {
   "display_name": "Python 3 (ipykernel)",
   "language": "python",
   "name": "python3"
  },
  "language_info": {
   "codemirror_mode": {
    "name": "ipython",
    "version": 3
   },
   "file_extension": ".py",
   "mimetype": "text/x-python",
   "name": "python",
   "nbconvert_exporter": "python",
   "pygments_lexer": "ipython3",
   "version": "3.11.0"
  }
 },
 "nbformat": 4,
 "nbformat_minor": 5
}
