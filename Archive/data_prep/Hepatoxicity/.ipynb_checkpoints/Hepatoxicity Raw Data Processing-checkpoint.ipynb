{
 "cells": [
  {
   "cell_type": "code",
   "execution_count": 6,
   "id": "c93cc025",
   "metadata": {},
   "outputs": [],
   "source": [
    "#28/7/24 For the sorting of hepatoxicity dataset\n",
    "#End set contains toxicity values and SMILES\n",
    "\n",
    "import pandas as pd\n",
    "import numpy as np\n",
    "\n",
    "df = pd.read_csv('/Users/james/Documents/Honours/Data/Hepatoxicity/Rawdata/Hepatotoxicity_Hepatotoxicity.csv')\n",
    "smiles = df['Canonical SMILES']\n",
    "toxvals = df['Toxicity Value']\n",
    "\n",
    "newdf = pd.concat([smiles, toxvals], axis=1)\n",
    "newdf = newdf.rename(columns={'Canonical SMILES': 'SMILES', 'Toxicity Value': 'Toxicity_Value'})\n",
    "newdf = newdf.dropna()\n",
    "#Check for null values\n",
    "nullcheck = pd.isnull(newdf)\n",
    "for cell in nullcheck['Toxicity_Value']:\n",
    "    if cell == True:\n",
    "        print('bing')\n",
    "#None where found\n",
    "\n",
    "#Output to file\n",
    "newdf.to_csv('/Users/james/Documents/Honours/Data/Hepatoxicity/Rawdata/Hepatox_data.csv', index=False)"
   ]
  },
  {
   "cell_type": "code",
   "execution_count": null,
   "id": "b59947cc",
   "metadata": {},
   "outputs": [],
   "source": []
  }
 ],
 "metadata": {
  "kernelspec": {
   "display_name": "Python 3 (ipykernel)",
   "language": "python",
   "name": "python3"
  },
  "language_info": {
   "codemirror_mode": {
    "name": "ipython",
    "version": 3
   },
   "file_extension": ".py",
   "mimetype": "text/x-python",
   "name": "python",
   "nbconvert_exporter": "python",
   "pygments_lexer": "ipython3",
   "version": "3.11.0"
  }
 },
 "nbformat": 4,
 "nbformat_minor": 5
}
